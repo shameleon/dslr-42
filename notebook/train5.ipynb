{
 "cells": [
  {
   "cell_type": "markdown",
   "metadata": {},
   "source": [
    "# training 10 features to 1 class \n",
    "## one vs all\n",
    "    Gryf"
   ]
  },
  {
   "cell_type": "code",
   "execution_count": 78,
   "metadata": {},
   "outputs": [
    {
     "data": {
      "text/html": [
       "<div>\n",
       "<style scoped>\n",
       "    .dataframe tbody tr th:only-of-type {\n",
       "        vertical-align: middle;\n",
       "    }\n",
       "\n",
       "    .dataframe tbody tr th {\n",
       "        vertical-align: top;\n",
       "    }\n",
       "\n",
       "    .dataframe thead th {\n",
       "        text-align: right;\n",
       "    }\n",
       "</style>\n",
       "<table border=\"1\" class=\"dataframe\">\n",
       "  <thead>\n",
       "    <tr style=\"text-align: right;\">\n",
       "      <th></th>\n",
       "      <th>Index</th>\n",
       "      <th>Hogwarts House</th>\n",
       "    </tr>\n",
       "  </thead>\n",
       "  <tbody>\n",
       "    <tr>\n",
       "      <th>0</th>\n",
       "      <td>0</td>\n",
       "      <td>Ravenclaw</td>\n",
       "    </tr>\n",
       "    <tr>\n",
       "      <th>1</th>\n",
       "      <td>1</td>\n",
       "      <td>Slytherin</td>\n",
       "    </tr>\n",
       "    <tr>\n",
       "      <th>2</th>\n",
       "      <td>2</td>\n",
       "      <td>Ravenclaw</td>\n",
       "    </tr>\n",
       "    <tr>\n",
       "      <th>3</th>\n",
       "      <td>3</td>\n",
       "      <td>Gryffindor</td>\n",
       "    </tr>\n",
       "    <tr>\n",
       "      <th>4</th>\n",
       "      <td>4</td>\n",
       "      <td>Gryffindor</td>\n",
       "    </tr>\n",
       "  </tbody>\n",
       "</table>\n",
       "</div>"
      ],
      "text/plain": [
       "   Index Hogwarts House\n",
       "0      0      Ravenclaw\n",
       "1      1      Slytherin\n",
       "2      2      Ravenclaw\n",
       "3      3     Gryffindor\n",
       "4      4     Gryffindor"
      ]
     },
     "execution_count": 78,
     "metadata": {},
     "output_type": "execute_result"
    }
   ],
   "source": [
    "import numpy as np\n",
    "import pandas as pd\n",
    "\n",
    "df = pd.read_csv(f'../datasets/dataset_train.csv')\n",
    "df_class = df['Hogwarts House']\n",
    "df_class.head()\n",
    "\n",
    "# df['Hogwarts House'] works for only 1 col"
   ]
  },
  {
   "cell_type": "code",
   "execution_count": 37,
   "metadata": {},
   "outputs": [
    {
     "data": {
      "text/html": [
       "<div>\n",
       "<style scoped>\n",
       "    .dataframe tbody tr th:only-of-type {\n",
       "        vertical-align: middle;\n",
       "    }\n",
       "\n",
       "    .dataframe tbody tr th {\n",
       "        vertical-align: top;\n",
       "    }\n",
       "\n",
       "    .dataframe thead th {\n",
       "        text-align: right;\n",
       "    }\n",
       "</style>\n",
       "<table border=\"1\" class=\"dataframe\">\n",
       "  <thead>\n",
       "    <tr style=\"text-align: right;\">\n",
       "      <th></th>\n",
       "      <th>Arithmancy</th>\n",
       "      <th>Astronomy</th>\n",
       "      <th>Herbology</th>\n",
       "      <th>Defense Against the Dark Arts</th>\n",
       "      <th>Divination</th>\n",
       "      <th>Muggle Studies</th>\n",
       "      <th>Ancient Runes</th>\n",
       "      <th>History of Magic</th>\n",
       "      <th>Transfiguration</th>\n",
       "      <th>Potions</th>\n",
       "      <th>Care of Magical Creatures</th>\n",
       "      <th>Charms</th>\n",
       "      <th>Flying</th>\n",
       "    </tr>\n",
       "  </thead>\n",
       "  <tbody>\n",
       "    <tr>\n",
       "      <th>0</th>\n",
       "      <td>58384.0</td>\n",
       "      <td>-487.886086</td>\n",
       "      <td>5.727180</td>\n",
       "      <td>4.878861</td>\n",
       "      <td>4.722</td>\n",
       "      <td>272.035831</td>\n",
       "      <td>532.484226</td>\n",
       "      <td>5.231058</td>\n",
       "      <td>1039.788281</td>\n",
       "      <td>3.790369</td>\n",
       "      <td>0.715939</td>\n",
       "      <td>-232.79405</td>\n",
       "      <td>-26.89</td>\n",
       "    </tr>\n",
       "    <tr>\n",
       "      <th>1</th>\n",
       "      <td>67239.0</td>\n",
       "      <td>-552.060507</td>\n",
       "      <td>-5.987446</td>\n",
       "      <td>5.520605</td>\n",
       "      <td>-5.612</td>\n",
       "      <td>-487.340557</td>\n",
       "      <td>367.760303</td>\n",
       "      <td>4.107170</td>\n",
       "      <td>1058.944592</td>\n",
       "      <td>7.248742</td>\n",
       "      <td>0.091674</td>\n",
       "      <td>-252.18425</td>\n",
       "      <td>-113.45</td>\n",
       "    </tr>\n",
       "    <tr>\n",
       "      <th>2</th>\n",
       "      <td>23702.0</td>\n",
       "      <td>-366.076117</td>\n",
       "      <td>7.725017</td>\n",
       "      <td>3.660761</td>\n",
       "      <td>6.140</td>\n",
       "      <td>664.893521</td>\n",
       "      <td>602.585284</td>\n",
       "      <td>3.555579</td>\n",
       "      <td>1088.088348</td>\n",
       "      <td>8.728531</td>\n",
       "      <td>-0.515327</td>\n",
       "      <td>-227.34265</td>\n",
       "      <td>30.42</td>\n",
       "    </tr>\n",
       "    <tr>\n",
       "      <th>3</th>\n",
       "      <td>32667.0</td>\n",
       "      <td>697.742809</td>\n",
       "      <td>-6.497214</td>\n",
       "      <td>-6.977428</td>\n",
       "      <td>4.026</td>\n",
       "      <td>-537.001128</td>\n",
       "      <td>523.982133</td>\n",
       "      <td>-4.809637</td>\n",
       "      <td>920.391449</td>\n",
       "      <td>0.821911</td>\n",
       "      <td>-0.014040</td>\n",
       "      <td>-256.84675</td>\n",
       "      <td>200.64</td>\n",
       "    </tr>\n",
       "    <tr>\n",
       "      <th>4</th>\n",
       "      <td>60158.0</td>\n",
       "      <td>436.775204</td>\n",
       "      <td>-7.820623</td>\n",
       "      <td>NaN</td>\n",
       "      <td>2.236</td>\n",
       "      <td>-444.262537</td>\n",
       "      <td>599.324514</td>\n",
       "      <td>-3.444377</td>\n",
       "      <td>937.434724</td>\n",
       "      <td>4.311066</td>\n",
       "      <td>-0.264070</td>\n",
       "      <td>-256.38730</td>\n",
       "      <td>157.98</td>\n",
       "    </tr>\n",
       "  </tbody>\n",
       "</table>\n",
       "</div>"
      ],
      "text/plain": [
       "   Arithmancy   Astronomy  Herbology  Defense Against the Dark Arts  \\\n",
       "0     58384.0 -487.886086   5.727180                       4.878861   \n",
       "1     67239.0 -552.060507  -5.987446                       5.520605   \n",
       "2     23702.0 -366.076117   7.725017                       3.660761   \n",
       "3     32667.0  697.742809  -6.497214                      -6.977428   \n",
       "4     60158.0  436.775204  -7.820623                            NaN   \n",
       "\n",
       "   Divination  Muggle Studies  Ancient Runes  History of Magic  \\\n",
       "0       4.722      272.035831     532.484226          5.231058   \n",
       "1      -5.612     -487.340557     367.760303          4.107170   \n",
       "2       6.140      664.893521     602.585284          3.555579   \n",
       "3       4.026     -537.001128     523.982133         -4.809637   \n",
       "4       2.236     -444.262537     599.324514         -3.444377   \n",
       "\n",
       "   Transfiguration   Potions  Care of Magical Creatures     Charms  Flying  \n",
       "0      1039.788281  3.790369                   0.715939 -232.79405  -26.89  \n",
       "1      1058.944592  7.248742                   0.091674 -252.18425 -113.45  \n",
       "2      1088.088348  8.728531                  -0.515327 -227.34265   30.42  \n",
       "3       920.391449  0.821911                  -0.014040 -256.84675  200.64  \n",
       "4       937.434724  4.311066                  -0.264070 -256.38730  157.98  "
      ]
     },
     "execution_count": 37,
     "metadata": {},
     "output_type": "execute_result"
    }
   ],
   "source": [
    "df_features = df[df.columns[6:]]\n",
    "df_features.head()\n",
    "# removed non_num = ['Index', 'First Name', 'Last Name', 'Birthday', 'Best Hand',]"
   ]
  },
  {
   "cell_type": "code",
   "execution_count": 38,
   "metadata": {},
   "outputs": [
    {
     "data": {
      "text/plain": [
       "<Axes: xlabel='Astronomy', ylabel='Defense Against the Dark Arts'>"
      ]
     },
     "execution_count": 38,
     "metadata": {},
     "output_type": "execute_result"
    },
    {
     "data": {
      "image/png": "[encoded data removed]",
      "text/plain": [
       "<Figure size 640x480 with 1 Axes>"
      ]
     },
     "metadata": {},
     "output_type": "display_data"
    }
   ],
   "source": [
    "import seaborn as sns\n",
    "import matplotlib.pyplot as plt\n",
    "\n",
    "sns.scatterplot(\n",
    " data=df, \n",
    " x=\"Astronomy\",\n",
    " y=\"Defense Against the Dark Arts\",\n",
    " hue=\"Hogwarts House\",\n",
    " legend='auto'\n",
    ")"
   ]
  },
  {
   "cell_type": "markdown",
   "metadata": {},
   "source": [
    "Removing"
   ]
  },
  {
   "cell_type": "code",
   "execution_count": 39,
   "metadata": {},
   "outputs": [
    {
     "data": {
      "text/plain": [
       "<Axes: xlabel='Hogwarts House', ylabel='Arithmancy'>"
      ]
     },
     "execution_count": 39,
     "metadata": {},
     "output_type": "execute_result"
    },
    {
     "data": {
      "image/png": "[encoded data removed]",
      "text/plain": [
       "<Figure size 640x480 with 1 Axes>"
      ]
     },
     "metadata": {},
     "output_type": "display_data"
    }
   ],
   "source": [
    "sns.boxplot(data=df, x=\"Hogwarts House\", y=\"Arithmancy\")"
   ]
  },
  {
   "cell_type": "code",
   "execution_count": 40,
   "metadata": {},
   "outputs": [
    {
     "data": {
      "text/plain": [
       "<Axes: xlabel='Hogwarts House', ylabel='Care of Magical Creatures'>"
      ]
     },
     "execution_count": 40,
     "metadata": {},
     "output_type": "execute_result"
    },
    {
     "data": {
      "image/png": "[encoded data removed]",
      "text/plain": [
       "<Figure size 640x480 with 1 Axes>"
      ]
     },
     "metadata": {},
     "output_type": "display_data"
    }
   ],
   "source": [
    "sns.boxplot(data=df, x=\"Hogwarts House\", y=\"Care of Magical Creatures\")"
   ]
  },
  {
   "cell_type": "markdown",
   "metadata": {},
   "source": [
    "    Only the meaningful variables should be included.\n",
    "    The independent variables should be independent of each other. That is, the model should have little or no multicollinearity."
   ]
  },
  {
   "cell_type": "code",
   "execution_count": 53,
   "metadata": {},
   "outputs": [
    {
     "data": {
      "text/html": [
       "<div>\n",
       "<style scoped>\n",
       "    .dataframe tbody tr th:only-of-type {\n",
       "        vertical-align: middle;\n",
       "    }\n",
       "\n",
       "    .dataframe tbody tr th {\n",
       "        vertical-align: top;\n",
       "    }\n",
       "\n",
       "    .dataframe thead th {\n",
       "        text-align: right;\n",
       "    }\n",
       "</style>\n",
       "<table border=\"1\" class=\"dataframe\">\n",
       "  <thead>\n",
       "    <tr style=\"text-align: right;\">\n",
       "      <th></th>\n",
       "      <th>Astronomy</th>\n",
       "      <th>Herbology</th>\n",
       "      <th>Divination</th>\n",
       "      <th>Muggle Studies</th>\n",
       "      <th>Ancient Runes</th>\n",
       "      <th>History of Magic</th>\n",
       "      <th>Transfiguration</th>\n",
       "      <th>Potions</th>\n",
       "      <th>Charms</th>\n",
       "      <th>Flying</th>\n",
       "    </tr>\n",
       "  </thead>\n",
       "  <tbody>\n",
       "    <tr>\n",
       "      <th>0</th>\n",
       "      <td>-487.886086</td>\n",
       "      <td>5.727180</td>\n",
       "      <td>4.722</td>\n",
       "      <td>272.035831</td>\n",
       "      <td>532.484226</td>\n",
       "      <td>5.231058</td>\n",
       "      <td>1039.788281</td>\n",
       "      <td>3.790369</td>\n",
       "      <td>-232.79405</td>\n",
       "      <td>-26.89</td>\n",
       "    </tr>\n",
       "    <tr>\n",
       "      <th>1</th>\n",
       "      <td>-552.060507</td>\n",
       "      <td>-5.987446</td>\n",
       "      <td>-5.612</td>\n",
       "      <td>-487.340557</td>\n",
       "      <td>367.760303</td>\n",
       "      <td>4.107170</td>\n",
       "      <td>1058.944592</td>\n",
       "      <td>7.248742</td>\n",
       "      <td>-252.18425</td>\n",
       "      <td>-113.45</td>\n",
       "    </tr>\n",
       "    <tr>\n",
       "      <th>2</th>\n",
       "      <td>-366.076117</td>\n",
       "      <td>7.725017</td>\n",
       "      <td>6.140</td>\n",
       "      <td>664.893521</td>\n",
       "      <td>602.585284</td>\n",
       "      <td>3.555579</td>\n",
       "      <td>1088.088348</td>\n",
       "      <td>8.728531</td>\n",
       "      <td>-227.34265</td>\n",
       "      <td>30.42</td>\n",
       "    </tr>\n",
       "    <tr>\n",
       "      <th>3</th>\n",
       "      <td>697.742809</td>\n",
       "      <td>-6.497214</td>\n",
       "      <td>4.026</td>\n",
       "      <td>-537.001128</td>\n",
       "      <td>523.982133</td>\n",
       "      <td>-4.809637</td>\n",
       "      <td>920.391449</td>\n",
       "      <td>0.821911</td>\n",
       "      <td>-256.84675</td>\n",
       "      <td>200.64</td>\n",
       "    </tr>\n",
       "    <tr>\n",
       "      <th>4</th>\n",
       "      <td>436.775204</td>\n",
       "      <td>-7.820623</td>\n",
       "      <td>2.236</td>\n",
       "      <td>-444.262537</td>\n",
       "      <td>599.324514</td>\n",
       "      <td>-3.444377</td>\n",
       "      <td>937.434724</td>\n",
       "      <td>4.311066</td>\n",
       "      <td>-256.38730</td>\n",
       "      <td>157.98</td>\n",
       "    </tr>\n",
       "  </tbody>\n",
       "</table>\n",
       "</div>"
      ],
      "text/plain": [
       "    Astronomy  Herbology  Divination  Muggle Studies  Ancient Runes  \\\n",
       "0 -487.886086   5.727180       4.722      272.035831     532.484226   \n",
       "1 -552.060507  -5.987446      -5.612     -487.340557     367.760303   \n",
       "2 -366.076117   7.725017       6.140      664.893521     602.585284   \n",
       "3  697.742809  -6.497214       4.026     -537.001128     523.982133   \n",
       "4  436.775204  -7.820623       2.236     -444.262537     599.324514   \n",
       "\n",
       "   History of Magic  Transfiguration   Potions     Charms  Flying  \n",
       "0          5.231058      1039.788281  3.790369 -232.79405  -26.89  \n",
       "1          4.107170      1058.944592  7.248742 -252.18425 -113.45  \n",
       "2          3.555579      1088.088348  8.728531 -227.34265   30.42  \n",
       "3         -4.809637       920.391449  0.821911 -256.84675  200.64  \n",
       "4         -3.444377       937.434724  4.311066 -256.38730  157.98  "
      ]
     },
     "execution_count": 53,
     "metadata": {},
     "output_type": "execute_result"
    }
   ],
   "source": [
    "excluded_features = [\"Arithmancy\", \"Defense Against the Dark Arts\", \"Care of Magical Creatures\"]\n",
    "df_features = df_features.drop(excluded_features, axis=1)\n",
    "df_features.head()\n"
   ]
  },
  {
   "cell_type": "code",
   "execution_count": 54,
   "metadata": {},
   "outputs": [
    {
     "name": "stdout",
     "output_type": "stream",
     "text": [
      "['Astronomy', 'Herbology', 'Divination', 'Muggle Studies', 'Ancient Runes', 'History of Magic', 'Transfiguration', 'Potions', 'Charms', 'Flying']\n"
     ]
    }
   ],
   "source": [
    "features = df_features.columns.to_list()\n",
    "print(features)"
   ]
  },
  {
   "cell_type": "markdown",
   "metadata": {},
   "source": [
    "Standardization\n",
    "```df_features```\n",
    "apply along axis"
   ]
  },
  {
   "cell_type": "code",
   "execution_count": 56,
   "metadata": {},
   "outputs": [
    {
     "data": {
      "text/plain": [
       "Astronomy             39.797131\n",
       "Herbology              1.141020\n",
       "Divination             3.153910\n",
       "Muggle Studies      -224.589915\n",
       "Ancient Runes        495.747970\n",
       "History of Magic       2.963095\n",
       "Transfiguration     1030.096946\n",
       "Potions                5.950373\n",
       "Charms              -243.374409\n",
       "Flying                21.958012\n",
       "dtype: float64"
      ]
     },
     "execution_count": 56,
     "metadata": {},
     "output_type": "execute_result"
    }
   ],
   "source": [
    "df_features.apply(np.mean) #axis=0\n"
   ]
  },
  {
   "cell_type": "code",
   "execution_count": 57,
   "metadata": {},
   "outputs": [
    {
     "data": {
      "text/html": [
       "<div>\n",
       "<style scoped>\n",
       "    .dataframe tbody tr th:only-of-type {\n",
       "        vertical-align: middle;\n",
       "    }\n",
       "\n",
       "    .dataframe tbody tr th {\n",
       "        vertical-align: top;\n",
       "    }\n",
       "\n",
       "    .dataframe thead th {\n",
       "        text-align: right;\n",
       "    }\n",
       "</style>\n",
       "<table border=\"1\" class=\"dataframe\">\n",
       "  <thead>\n",
       "    <tr style=\"text-align: right;\">\n",
       "      <th></th>\n",
       "      <th>Astronomy</th>\n",
       "      <th>Herbology</th>\n",
       "      <th>Divination</th>\n",
       "      <th>Muggle Studies</th>\n",
       "      <th>Ancient Runes</th>\n",
       "      <th>History of Magic</th>\n",
       "      <th>Transfiguration</th>\n",
       "      <th>Potions</th>\n",
       "      <th>Charms</th>\n",
       "      <th>Flying</th>\n",
       "    </tr>\n",
       "  </thead>\n",
       "  <tbody>\n",
       "    <tr>\n",
       "      <th>count</th>\n",
       "      <td>1.568000e+03</td>\n",
       "      <td>1.567000e+03</td>\n",
       "      <td>1.561000e+03</td>\n",
       "      <td>1.565000e+03</td>\n",
       "      <td>1.565000e+03</td>\n",
       "      <td>1.557000e+03</td>\n",
       "      <td>1.566000e+03</td>\n",
       "      <td>1.570000e+03</td>\n",
       "      <td>1.600000e+03</td>\n",
       "      <td>1.600000e+03</td>\n",
       "    </tr>\n",
       "    <tr>\n",
       "      <th>mean</th>\n",
       "      <td>-1.132881e-17</td>\n",
       "      <td>-3.188260e-17</td>\n",
       "      <td>5.234620e-17</td>\n",
       "      <td>-2.043094e-17</td>\n",
       "      <td>3.189497e-16</td>\n",
       "      <td>-1.825415e-17</td>\n",
       "      <td>-3.799997e-15</td>\n",
       "      <td>6.109762e-17</td>\n",
       "      <td>-7.849277e-16</td>\n",
       "      <td>2.220446e-17</td>\n",
       "    </tr>\n",
       "    <tr>\n",
       "      <th>std</th>\n",
       "      <td>1.000319e+00</td>\n",
       "      <td>1.000319e+00</td>\n",
       "      <td>1.000320e+00</td>\n",
       "      <td>1.000320e+00</td>\n",
       "      <td>1.000320e+00</td>\n",
       "      <td>1.000321e+00</td>\n",
       "      <td>1.000319e+00</td>\n",
       "      <td>1.000319e+00</td>\n",
       "      <td>1.000313e+00</td>\n",
       "      <td>1.000313e+00</td>\n",
       "    </tr>\n",
       "    <tr>\n",
       "      <th>min</th>\n",
       "      <td>-1.935157e+00</td>\n",
       "      <td>-2.191768e+00</td>\n",
       "      <td>-2.860134e+00</td>\n",
       "      <td>-1.772780e+00</td>\n",
       "      <td>-1.994127e+00</td>\n",
       "      <td>-2.672049e+00</td>\n",
       "      <td>-2.799065e+00</td>\n",
       "      <td>-3.383654e+00</td>\n",
       "      <td>-2.012837e+00</td>\n",
       "      <td>-2.084280e+00</td>\n",
       "    </tr>\n",
       "    <tr>\n",
       "      <th>25%</th>\n",
       "      <td>-1.017719e+00</td>\n",
       "      <td>-1.044305e+00</td>\n",
       "      <td>-1.321860e-02</td>\n",
       "      <td>-7.260343e-01</td>\n",
       "      <td>-9.245723e-01</td>\n",
       "      <td>-1.682599e-01</td>\n",
       "      <td>-8.811751e-02</td>\n",
       "      <td>-7.320294e-01</td>\n",
       "      <td>-8.288667e-01</td>\n",
       "      <td>-6.539683e-01</td>\n",
       "    </tr>\n",
       "    <tr>\n",
       "      <th>50%</th>\n",
       "      <td>4.239158e-01</td>\n",
       "      <td>4.461451e-01</td>\n",
       "      <td>3.539001e-01</td>\n",
       "      <td>-4.002028e-01</td>\n",
       "      <td>-2.995699e-01</td>\n",
       "      <td>3.198391e-01</td>\n",
       "      <td>3.493469e-01</td>\n",
       "      <td>-2.400356e-02</td>\n",
       "      <td>-1.700688e-01</td>\n",
       "      <td>-2.507453e-01</td>\n",
       "    </tr>\n",
       "    <tr>\n",
       "      <th>75%</th>\n",
       "      <td>9.324066e-01</td>\n",
       "      <td>8.198832e-01</td>\n",
       "      <td>6.049852e-01</td>\n",
       "      <td>9.864155e-01</td>\n",
       "      <td>9.575822e-01</td>\n",
       "      <td>6.469075e-01</td>\n",
       "      <td>6.424576e-01</td>\n",
       "      <td>7.301900e-01</td>\n",
       "      <td>1.232460e+00</td>\n",
       "      <td>2.930499e-01</td>\n",
       "    </tr>\n",
       "    <tr>\n",
       "      <th>max</th>\n",
       "      <td>1.877243e+00</td>\n",
       "      <td>2.006869e+00</td>\n",
       "      <td>1.655787e+00</td>\n",
       "      <td>2.708777e+00</td>\n",
       "      <td>2.349604e+00</td>\n",
       "      <td>2.017610e+00</td>\n",
       "      <td>1.561089e+00</td>\n",
       "      <td>2.410787e+00</td>\n",
       "      <td>2.043786e+00</td>\n",
       "      <td>2.634315e+00</td>\n",
       "    </tr>\n",
       "  </tbody>\n",
       "</table>\n",
       "</div>"
      ],
      "text/plain": [
       "          Astronomy     Herbology    Divination  Muggle Studies  \\\n",
       "count  1.568000e+03  1.567000e+03  1.561000e+03    1.565000e+03   \n",
       "mean  -1.132881e-17 -3.188260e-17  5.234620e-17   -2.043094e-17   \n",
       "std    1.000319e+00  1.000319e+00  1.000320e+00    1.000320e+00   \n",
       "min   -1.935157e+00 -2.191768e+00 -2.860134e+00   -1.772780e+00   \n",
       "25%   -1.017719e+00 -1.044305e+00 -1.321860e-02   -7.260343e-01   \n",
       "50%    4.239158e-01  4.461451e-01  3.539001e-01   -4.002028e-01   \n",
       "75%    9.324066e-01  8.198832e-01  6.049852e-01    9.864155e-01   \n",
       "max    1.877243e+00  2.006869e+00  1.655787e+00    2.708777e+00   \n",
       "\n",
       "       Ancient Runes  History of Magic  Transfiguration       Potions  \\\n",
       "count   1.565000e+03      1.557000e+03     1.566000e+03  1.570000e+03   \n",
       "mean    3.189497e-16     -1.825415e-17    -3.799997e-15  6.109762e-17   \n",
       "std     1.000320e+00      1.000321e+00     1.000319e+00  1.000319e+00   \n",
       "min    -1.994127e+00     -2.672049e+00    -2.799065e+00 -3.383654e+00   \n",
       "25%    -9.245723e-01     -1.682599e-01    -8.811751e-02 -7.320294e-01   \n",
       "50%    -2.995699e-01      3.198391e-01     3.493469e-01 -2.400356e-02   \n",
       "75%     9.575822e-01      6.469075e-01     6.424576e-01  7.301900e-01   \n",
       "max     2.349604e+00      2.017610e+00     1.561089e+00  2.410787e+00   \n",
       "\n",
       "             Charms        Flying  \n",
       "count  1.600000e+03  1.600000e+03  \n",
       "mean  -7.849277e-16  2.220446e-17  \n",
       "std    1.000313e+00  1.000313e+00  \n",
       "min   -2.012837e+00 -2.084280e+00  \n",
       "25%   -8.288667e-01 -6.539683e-01  \n",
       "50%   -1.700688e-01 -2.507453e-01  \n",
       "75%    1.232460e+00  2.930499e-01  \n",
       "max    2.043786e+00  2.634315e+00  "
      ]
     },
     "execution_count": 57,
     "metadata": {},
     "output_type": "execute_result"
    }
   ],
   "source": [
    "def standardize(arr:np.ndarray):\n",
    "    mean = np.mean(arr)\n",
    "    std = np.std(arr)\n",
    "    return (arr - mean) / std\n",
    "\n",
    "df_std_features = df_features.agg(lambda course:standardize(course))\n",
    "df_std_features.describe()"
   ]
  },
  {
   "cell_type": "code",
   "execution_count": 62,
   "metadata": {},
   "outputs": [
    {
     "data": {
      "text/plain": [
       "<Axes: >"
      ]
     },
     "execution_count": 62,
     "metadata": {},
     "output_type": "execute_result"
    },
    {
     "data": {
      "image/png": "[encoded data removed]",
      "text/plain": [
       "<Figure size 640x480 with 1 Axes>"
      ]
     },
     "metadata": {},
     "output_type": "display_data"
    }
   ],
   "source": [
    "sns.boxplot(data=df_std_features)"
   ]
  },
  {
   "cell_type": "markdown",
   "metadata": {},
   "source": [
    "Remove duplicates if any\n",
    "remove full na row if any"
   ]
  },
  {
   "cell_type": "code",
   "execution_count": 66,
   "metadata": {},
   "outputs": [
    {
     "data": {
      "text/plain": [
       "array(['Ravenclaw', 'Slytherin', 'Gryffindor', 'Hufflepuff'], dtype=object)"
      ]
     },
     "execution_count": 66,
     "metadata": {},
     "output_type": "execute_result"
    }
   ],
   "source": [
    "df['Hogwarts House'].unique()"
   ]
  },
  {
   "cell_type": "code",
   "execution_count": 68,
   "metadata": {},
   "outputs": [
    {
     "data": {
      "text/plain": [
       "array([ 2.35945213, -7.4247784 ,  8.27919807, ..., -2.41045225,\n",
       "       -0.68540716,  0.37895327])"
      ]
     },
     "execution_count": 68,
     "metadata": {},
     "output_type": "execute_result"
    }
   ],
   "source": [
    "x_train = np.array(df_std_features)\n",
    "weights = np.ones(len(features))\n",
    "np.dot(x_train, weights)"
   ]
  },
  {
   "cell_type": "markdown",
   "metadata": {},
   "source": []
  },
  {
   "cell_type": "code",
   "execution_count": 84,
   "metadata": {},
   "outputs": [
    {
     "data": {
      "text/plain": [
       "'Ravenclaw'"
      ]
     },
     "execution_count": 84,
     "metadata": {},
     "output_type": "execute_result"
    }
   ],
   "source": [
    "# array \n",
    "houses = df['Hogwarts House'].unique()\n",
    "houses[0]\n"
   ]
  },
  {
   "cell_type": "code",
   "execution_count": 91,
   "metadata": {},
   "outputs": [
    {
     "data": {
      "text/plain": [
       "array([1, 0, 1, ..., 0, 0, 0])"
      ]
     },
     "execution_count": 91,
     "metadata": {},
     "output_type": "execute_result"
    }
   ],
   "source": [
    "houses = df['Hogwarts House'].unique()\n",
    "houses[0]\n",
    "# gives bool : df['Hogwarts House'] == houses[0]\n",
    "np.where(df['Hogwarts House'] == houses[0], 1, 0)"
   ]
  },
  {
   "cell_type": "markdown",
   "metadata": {},
   "source": [
    "self.features : check that features are unique\n",
    "if len(features) == len(unique(features))\n",
    "    OK"
   ]
  },
  {
   "cell_type": "code",
   "execution_count": null,
   "metadata": {},
   "outputs": [],
   "source": [
    "class LogRegTrain:\n",
    "    def __init__(self, df_to_train, df_class):\n",
    "        ''' standardize df to tarin'''\n",
    "        df_std_features = df_features.agg(lambda feature:LogRegTrain.standardize(feature)\n",
    "        self.df_std_features = df_std_features\n",
    "        self.x_train = np.array(df_std_features)  \n",
    "        self.features = df_std_features.columns.to_list()\n",
    "        self.df_class = df_class\n",
    "        self.house = df_class.unique()\n",
    "\n",
    "    def train_one_vs_all(self, house):\n",
    "        self.weights = np.ones(len(self.features))\n",
    "        y = np.where(self.df_class] == house, 1, 0)\n",
    "        for iter in range(self.epochs):\n",
    "            output = np.dot(x_train, self.weights) \n",
    "        #self.x_train = np.array(self.df_train[feature]))  \n",
    "\n",
    "    def train(self, learning_rate=0.1, epochs=1):\n",
    "        self.learning_rate = learning_rate\n",
    "        self.epochs = epochs\n",
    "        #for house in self.house:\n",
    "            # y = np.where(self.df_class[1] == house, 1, 0)\n",
    "            #self.train_one_vs_all(house)\n",
    "        self.train_one_vs_all(self.house[0])\n",
    "\n",
    "\n",
    "    @staticmethod\n",
    "    def standardize(arr:np.ndarray):\n",
    "        mean = np.mean(arr)\n",
    "        std = np.std(arr)\n",
    "        return (arr - mean) / std\n",
    "\n",
    "\n",
    "def main():\n",
    "    # unstandardized data to train\n",
    "    my_model = LogRegTrain(df_features, df_class)"
   ]
  },
  {
   "cell_type": "code",
   "execution_count": null,
   "metadata": {},
   "outputs": [],
   "source": []
  }
 ],
 "metadata": {
  "kernelspec": {
   "display_name": "venv",
   "language": "python",
   "name": "python3"
  },
  "language_info": {
   "codemirror_mode": {
    "name": "ipython",
    "version": 3
   },
   "file_extension": ".py",
   "mimetype": "text/x-python",
   "name": "python",
   "nbconvert_exporter": "python",
   "pygments_lexer": "ipython3",
   "version": "3.11.5"
  },
  "orig_nbformat": 4
 },
 "nbformat": 4,
 "nbformat_minor": 2
}

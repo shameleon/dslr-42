{
 "cells": [
  {
   "cell_type": "markdown",
   "metadata": {},
   "source": [
    "# training 10 features to 4 classes\n",
    "## one vs all\n",
    "\n",
    "weights is size 10 (should be 11 ?)\n",
    "replacing nan with 0"
   ]
  },
  {
   "cell_type": "markdown",
   "metadata": {},
   "source": [
    "Removing"
   ]
  },
  {
   "cell_type": "markdown",
   "metadata": {},
   "source": [
    "\n",
    "replacing nan with 0"
   ]
  },
  {
   "cell_type": "code",
   "execution_count": 29,
   "metadata": {},
   "outputs": [],
   "source": [
    "import numpy as np\n",
    "import pandas as pd\n",
    "import seaborn as sns\n",
    "import matplotlib.pyplot as plt\n",
    "\n",
    "class LogRegTrain:\n",
    "    def __init__(self, df_to_train, df_class):\n",
    "        ''' standardize df to train'''\n",
    "        df_std = df_to_train.agg(lambda feature: LogRegTrain.standardize(feature))\n",
    "        self.df_std= df_std\n",
    "        self.x_train = np.array(df_std.fillna(0))  \n",
    "        self.features = df_std.columns.to_list()\n",
    "        self.df_class = df_class\n",
    "        self.houses = ['Ravenclaw', 'Slytherin', 'Griffondor', 'Hufflepuff']\n",
    "        #self.houses = df_class['Hogwarts House'].unique()\n",
    "        self.df_losses = pd.DataFrame(columns=self.houses)\n",
    "        self.df_losses.fillna(0)\n",
    "        self.df_weights = pd.DataFrame(columns=self.houses, index=self.features)\n",
    "        self.df_weights.fillna(0)\n",
    "\n",
    "    def train_one_vs_all(self, house, y_actual):\n",
    "        loss = []\n",
    "        weights = np.ones(len(self.features)).T\n",
    "        for iter in range(self.epochs):\n",
    "            z_output = np.dot(self.x_train, weights)\n",
    "            h_pred = LogRegTrain.sigmoid(z_output) \n",
    "            loss_iter = LogRegTrain.loss_function(y_actual, h_pred)\n",
    "            loss.append(loss_iter)\n",
    "            gradient = np.dot(self.x_train.T, (h_pred - y_actual))\n",
    "            grad_desc = LogRegTrain.gradient_descent(self.x_train, h_pred, gradient)\n",
    "            weights = LogRegTrain.update_weight_loss(weights, self.learning_rate, grad_desc)\n",
    "            return loss, weights\n",
    "\n",
    "    def train(self, learning_rate=0.1, epochs=1000):\n",
    "        self.learning_rate = learning_rate\n",
    "        self.epochs = epochs\n",
    "        for house in self.houses:\n",
    "            y_actual = np.where(self.df_class[1] == house, 1, 0)\n",
    "            loss, weights = self.train_one_vs_all(house, y_actual)\n",
    "            self.df_losses[house] = loss\n",
    "            self.df_weights[house] = weights\n",
    "\n",
    "    @staticmethod\n",
    "    def standardize(arr:np.ndarray):\n",
    "        mean = np.mean(arr)\n",
    "        std = np.std(arr)\n",
    "        return (arr - mean) / std\n",
    "    \n",
    "    @staticmethod\n",
    "    def sigmoid(arr:np.ndarray):\n",
    "        return 1 / (1 + np.exp(-arr))\n",
    "    \n",
    "    @staticmethod\n",
    "    def loss_function(y_actual, h_pred):\n",
    "        \"\"\" y_actual : target class. 1 in class, 0 not in class\n",
    "        h_pred = signoid(x.weights)\n",
    "        loss = (-y * np.log(h) - (1 - y) * np.log(1 - h)).mean()\n",
    "        \"\"\"\n",
    "        m = len(h_pred)\n",
    "        a = -y_actual * np.log(h_pred)\n",
    "        b = (1 - y_actual) * np.log(1 - h_pred)\n",
    "        return (a - b) / m\n",
    "    \n",
    "    @staticmethod\n",
    "    def gradient_descent(x_train, h_pred, y_actual):\n",
    "        return np.dot(x_train.T, (h_pred - y_actual)) / y_actual.shape[0]\n",
    "\n",
    "    @staticmethod\n",
    "    def update_weight_loss(weights, learning_rate, grad_desc):\n",
    "        return weights - learning_rate * grad_desc"
   ]
  },
  {
   "cell_type": "code",
   "execution_count": 30,
   "metadata": {},
   "outputs": [
    {
     "ename": "ValueError",
     "evalue": "operands could not be broadcast together with shapes (1600,) (10,) ",
     "output_type": "error",
     "traceback": [
      "\u001b[0;31m---------------------------------------------------------------------------\u001b[0m",
      "\u001b[0;31mValueError\u001b[0m                                Traceback (most recent call last)",
      "Cell \u001b[0;32mIn[30], line 8\u001b[0m\n\u001b[1;32m      6\u001b[0m \u001b[39m# unstandardized data to train\u001b[39;00m\n\u001b[1;32m      7\u001b[0m logreg_model \u001b[39m=\u001b[39m LogRegTrain(df_features, df_class)\n\u001b[0;32m----> 8\u001b[0m logreg_model\u001b[39m.\u001b[39;49mtrain(\u001b[39m0.1\u001b[39;49m, \u001b[39m50\u001b[39;49m)\n\u001b[1;32m      9\u001b[0m sns\u001b[39m.\u001b[39mlineplot(data\u001b[39m=\u001b[39mlogreg_model\u001b[39m.\u001b[39mdf_losses, legend\u001b[39m=\u001b[39m\u001b[39m'\u001b[39m\u001b[39mauto\u001b[39m\u001b[39m'\u001b[39m)\n",
      "Cell \u001b[0;32mIn[29], line 39\u001b[0m, in \u001b[0;36mLogRegTrain.train\u001b[0;34m(self, learning_rate, epochs)\u001b[0m\n\u001b[1;32m     37\u001b[0m \u001b[39mfor\u001b[39;00m house \u001b[39min\u001b[39;00m \u001b[39mself\u001b[39m\u001b[39m.\u001b[39mhouses:\n\u001b[1;32m     38\u001b[0m     y_actual \u001b[39m=\u001b[39m np\u001b[39m.\u001b[39mwhere(\u001b[39mself\u001b[39m\u001b[39m.\u001b[39mdf_class[\u001b[39m1\u001b[39m] \u001b[39m==\u001b[39m house, \u001b[39m1\u001b[39m, \u001b[39m0\u001b[39m)\n\u001b[0;32m---> 39\u001b[0m     loss, weights \u001b[39m=\u001b[39m \u001b[39mself\u001b[39;49m\u001b[39m.\u001b[39;49mtrain_one_vs_all(house, y_actual)\n\u001b[1;32m     40\u001b[0m     \u001b[39mself\u001b[39m\u001b[39m.\u001b[39mdf_losses[house] \u001b[39m=\u001b[39m loss\n\u001b[1;32m     41\u001b[0m     \u001b[39mself\u001b[39m\u001b[39m.\u001b[39mdf_weights[house] \u001b[39m=\u001b[39m weights\n",
      "Cell \u001b[0;32mIn[29], line 30\u001b[0m, in \u001b[0;36mLogRegTrain.train_one_vs_all\u001b[0;34m(self, house, y_actual)\u001b[0m\n\u001b[1;32m     28\u001b[0m loss\u001b[39m.\u001b[39mappend(loss_iter)\n\u001b[1;32m     29\u001b[0m gradient \u001b[39m=\u001b[39m np\u001b[39m.\u001b[39mdot(\u001b[39mself\u001b[39m\u001b[39m.\u001b[39mx_train\u001b[39m.\u001b[39mT, (h_pred \u001b[39m-\u001b[39m y_actual))\n\u001b[0;32m---> 30\u001b[0m grad_desc \u001b[39m=\u001b[39m LogRegTrain\u001b[39m.\u001b[39;49mgradient_descent(\u001b[39mself\u001b[39;49m\u001b[39m.\u001b[39;49mx_train, h_pred, gradient)\n\u001b[1;32m     31\u001b[0m weights \u001b[39m=\u001b[39m LogRegTrain\u001b[39m.\u001b[39mupdate_weight_loss(weights, \u001b[39mself\u001b[39m\u001b[39m.\u001b[39mlearning_rate, grad_desc)\n\u001b[1;32m     32\u001b[0m \u001b[39mreturn\u001b[39;00m loss, weights\n",
      "Cell \u001b[0;32mIn[29], line 66\u001b[0m, in \u001b[0;36mLogRegTrain.gradient_descent\u001b[0;34m(x_train, h_pred, y_actual)\u001b[0m\n\u001b[1;32m     64\u001b[0m \u001b[39m@staticmethod\u001b[39m\n\u001b[1;32m     65\u001b[0m \u001b[39mdef\u001b[39;00m \u001b[39mgradient_descent\u001b[39m(x_train, h_pred, y_actual):\n\u001b[0;32m---> 66\u001b[0m     \u001b[39mreturn\u001b[39;00m np\u001b[39m.\u001b[39mdot(x_train\u001b[39m.\u001b[39mT, (h_pred \u001b[39m-\u001b[39;49m y_actual)) \u001b[39m/\u001b[39m y_actual\u001b[39m.\u001b[39mshape[\u001b[39m0\u001b[39m]\n",
      "\u001b[0;31mValueError\u001b[0m: operands could not be broadcast together with shapes (1600,) (10,) "
     ]
    }
   ],
   "source": [
    "\n",
    "df = pd.read_csv(f'../datasets/dataset_train.csv')\n",
    "df_class = df['Hogwarts House']\n",
    "df_features = df[df.columns[6:]]\n",
    "excluded_features = [\"Arithmancy\", \"Defense Against the Dark Arts\", \"Care of Magical Creatures\"]\n",
    "df_features = df_features.drop(excluded_features, axis=1)\n",
    "# unstandardized data to train\n",
    "logreg_model = LogRegTrain(df_features, df_class)\n",
    "logreg_model.train(0.1, 50)\n",
    "sns.lineplot(data=logreg_model.df_losses, legend='auto')"
   ]
  },
  {
   "cell_type": "code",
   "execution_count": null,
   "metadata": {},
   "outputs": [],
   "source": []
  }
 ],
 "metadata": {
  "kernelspec": {
   "display_name": "venv",
   "language": "python",
   "name": "python3"
  },
  "language_info": {
   "codemirror_mode": {
    "name": "ipython",
    "version": 3
   },
   "file_extension": ".py",
   "mimetype": "text/x-python",
   "name": "python",
   "nbconvert_exporter": "python",
   "pygments_lexer": "ipython3",
   "version": "3.11.5"
  },
  "orig_nbformat": 4
 },
 "nbformat": 4,
 "nbformat_minor": 2
}

{
 "cells": [
  {
   "cell_type": "markdown",
   "metadata": {},
   "source": [
    "# training 10 features to 4 classes\n",
    "## one vs all\n",
    "\n",
    "weights is size 10 (should be 11 ?)\n",
    "replacing nan with 0"
   ]
  },
  {
   "cell_type": "markdown",
   "metadata": {},
   "source": [
    "Removing"
   ]
  },
  {
   "cell_type": "markdown",
   "metadata": {},
   "source": [
    "\n",
    "replacing nan with 0"
   ]
  },
  {
   "cell_type": "code",
   "execution_count": 17,
   "metadata": {},
   "outputs": [
    {
     "ename": "IndexError",
     "evalue": "tuple index out of range",
     "output_type": "error",
     "traceback": [
      "\u001b[0;31m---------------------------------------------------------------------------\u001b[0m",
      "\u001b[0;31mIndexError\u001b[0m                                Traceback (most recent call last)",
      "Cell \u001b[0;32mIn[17], line 92\u001b[0m\n\u001b[1;32m     90\u001b[0m \u001b[39m# Parameters : unstandardized data to train without NaN, output\u001b[39;00m\n\u001b[1;32m     91\u001b[0m logreg_model \u001b[39m=\u001b[39m LogRegTrain(df_x_train, df_train[target])\n\u001b[0;32m---> 92\u001b[0m df_weights \u001b[39m=\u001b[39m logreg_model\u001b[39m.\u001b[39;49mtrain(\u001b[39m0.1\u001b[39;49m, \u001b[39m50\u001b[39;49m)\n\u001b[1;32m     93\u001b[0m df_weights\u001b[39m.\u001b[39mhead()\n",
      "Cell \u001b[0;32mIn[17], line 42\u001b[0m, in \u001b[0;36mLogRegTrain.train\u001b[0;34m(self, learning_rate, epochs)\u001b[0m\n\u001b[1;32m     40\u001b[0m \u001b[39mfor\u001b[39;00m house \u001b[39min\u001b[39;00m \u001b[39mself\u001b[39m\u001b[39m.\u001b[39mhouses:\n\u001b[1;32m     41\u001b[0m     y_actual \u001b[39m=\u001b[39m np\u001b[39m.\u001b[39mwhere(\u001b[39mself\u001b[39m\u001b[39m.\u001b[39mdf_class[\u001b[39m1\u001b[39m] \u001b[39m==\u001b[39m house, \u001b[39m1\u001b[39m, \u001b[39m0\u001b[39m)\n\u001b[0;32m---> 42\u001b[0m     weights \u001b[39m=\u001b[39m \u001b[39mself\u001b[39;49m\u001b[39m.\u001b[39;49mtrain_one_vs_all(house, y_actual)\n\u001b[1;32m     43\u001b[0m     \u001b[39m# self.df_losses[house] = loss\u001b[39;00m\n\u001b[1;32m     44\u001b[0m     \u001b[39mself\u001b[39m\u001b[39m.\u001b[39mdf_weights[house] \u001b[39m=\u001b[39m weights\n",
      "Cell \u001b[0;32mIn[17], line 33\u001b[0m, in \u001b[0;36mLogRegTrain.train_one_vs_all\u001b[0;34m(self, house, y_actual)\u001b[0m\n\u001b[1;32m     31\u001b[0m     gradient \u001b[39m=\u001b[39m np\u001b[39m.\u001b[39mdot(\u001b[39mself\u001b[39m\u001b[39m.\u001b[39mx_train\u001b[39m.\u001b[39mT, (h_pred \u001b[39m-\u001b[39m y_actual))\n\u001b[1;32m     32\u001b[0m     \u001b[39m# grad_desc = LogRegTrain.gradient_descent(self.x_train, h_pred, gradient)\u001b[39;00m\n\u001b[0;32m---> 33\u001b[0m     grad_desc \u001b[39m=\u001b[39m np\u001b[39m.\u001b[39mdot(\u001b[39mself\u001b[39m\u001b[39m.\u001b[39mx_train\u001b[39m.\u001b[39mT, (h_pred \u001b[39m-\u001b[39m y_actual)) \u001b[39m/\u001b[39m y_actual\u001b[39m.\u001b[39;49mshape[\u001b[39m0\u001b[39;49m]\n\u001b[1;32m     34\u001b[0m     weights \u001b[39m=\u001b[39m LogRegTrain\u001b[39m.\u001b[39mupdate_weight_loss(weights, \u001b[39mself\u001b[39m\u001b[39m.\u001b[39mlearning_rate, grad_desc)\n\u001b[1;32m     35\u001b[0m \u001b[39mreturn\u001b[39;00m weights\n",
      "\u001b[0;31mIndexError\u001b[0m: tuple index out of range"
     ]
    }
   ],
   "source": [
    "import numpy as np\n",
    "import pandas as pd\n",
    "import seaborn as sns\n",
    "import matplotlib.pyplot as plt\n",
    "\n",
    "class LogRegTrain:\n",
    "    def __init__(self, df_x_train, df_class):\n",
    "        ''' standardize df to train'''\n",
    "        df_std = df_x_train.agg(lambda feature: LogRegTrain.standardize(feature)) \n",
    "        x_train_std = np.array(df_std)\n",
    "        # add a column of ones at begin\n",
    "        ones = np.ones((len(x_train_std), 1), dtype=float)\n",
    "        self.x_train = np.concatenate((ones, x_train_std), axis=1)  \n",
    "        self.features = df_std.columns.tolist()\n",
    "        self.df_class = df_class\n",
    "        #self.houses = ['Ravenclaw', 'Slytherin', 'Griffondor', 'Hufflepuff']\n",
    "        self.houses = df_class.unique().tolist()\n",
    "        # self.df_losses = pd.DataFrame(columns=self.houses)\n",
    "        # self.df_losses.fillna(0)\n",
    "        w_indexes = df_x_train.columns[2:].insert(0, ['Bias'])\n",
    "        self.df_weights = pd.DataFrame(columns=self.houses, index=w_indexes).fillna(0)\n",
    "\n",
    "    def train_one_vs_all(self, house, y_actual):\n",
    "        loss = []\n",
    "        weights = np.ones(len(self.features) + 1).T\n",
    "        for iter in range(self.epochs):\n",
    "            z_output = np.dot(self.x_train, weights)\n",
    "            h_pred = LogRegTrain.sigmoid(z_output) \n",
    "            loss_iter = LogRegTrain.loss_function(y_actual, h_pred)\n",
    "            loss.append(loss_iter)\n",
    "            gradient = np.dot(self.x_train.T, (h_pred - y_actual))\n",
    "            # grad_desc = LogRegTrain.gradient_descent(self.x_train, h_pred, gradient)\n",
    "            grad_desc = np.dot(self.x_train.T, (h_pred - y_actual)) / y_actual.shape[0]\n",
    "            weights = LogRegTrain.update_weight_loss(weights, self.learning_rate, grad_desc)\n",
    "        return weights\n",
    "\n",
    "    def train(self, learning_rate=0.1, epochs=1000):\n",
    "        self.learning_rate = learning_rate\n",
    "        self.epochs = epochs\n",
    "        for house in self.houses:\n",
    "            y_actual = np.where(self.df_class[1] == house, 1, 0)\n",
    "            weights = self.train_one_vs_all(house, y_actual)\n",
    "            # self.df_losses[house] = loss\n",
    "            self.df_weights[house] = weights\n",
    "\n",
    "    @staticmethod\n",
    "    def standardize(arr:np.ndarray):\n",
    "        mean = np.mean(arr)\n",
    "        std = np.std(arr)\n",
    "        return (arr - mean) / std\n",
    "    \n",
    "    @staticmethod\n",
    "    def sigmoid(arr:np.ndarray):\n",
    "        return 1 / (1 + np.exp(-arr))\n",
    "    \n",
    "    @staticmethod\n",
    "    def loss_function(y_actual, h_pred):\n",
    "        \"\"\" y_actual : target class. 1 in class, 0 not in class\n",
    "        h_pred = signoid(x.weights)\n",
    "        loss = (-y * np.log(h) - (1 - y) * np.log(1 - h)).mean()\n",
    "        \"\"\"\n",
    "        m = len(h_pred)\n",
    "        a = -y_actual * np.log(h_pred)\n",
    "        b = (1 - y_actual) * np.log(1 - h_pred)\n",
    "        return (a - b) / m\n",
    "    \n",
    "    # @staticmethod\n",
    "    # def gradient_descent(x_train, h_pred, y_actual):\n",
    "    #     return np.dot(x_train.T, (h_pred - y_actual)) / y_actual.shape[0]\n",
    "\n",
    "    @staticmethod\n",
    "    def update_weight_loss(weights, learning_rate, grad_desc):\n",
    "        return weights - learning_rate * grad_desc\n",
    "    \n",
    "\n",
    "df = pd.read_csv(f'../datasets/dataset_train.csv')\n",
    "\n",
    "# dropping columns that are useless for model training\n",
    "df.drop(df.columns[2:6], inplace=True, axis = 1)\n",
    "excluded_features = [\"Arithmancy\", \"Defense Against the Dark Arts\", \"Care of Magical Creatures\"]\n",
    "df.drop(excluded_features, inplace=True, axis=1)\n",
    "# dropping rows with NaN \n",
    "df_train = df.dropna()\n",
    "target = df_train.columns[1]\n",
    "# features = df_train.columns[2:]\n",
    "# df_classes = df_train[target]\n",
    "# houses = df_classes.unique().tolist()\n",
    "df_x_train = df_train[df_train.columns[2:]]\n",
    "\n",
    "# Parameters : unstandardized data to train without NaN, output\n",
    "logreg_model = LogRegTrain(df_x_train, df_train[target])\n",
    "df_weights = logreg_model.train(0.1, 50)\n",
    "df_weights.head()"
   ]
  },
  {
   "cell_type": "code",
   "execution_count": 16,
   "metadata": {},
   "outputs": [
    {
     "ename": "IndexError",
     "evalue": "tuple index out of range",
     "output_type": "error",
     "traceback": [
      "\u001b[0;31m---------------------------------------------------------------------------\u001b[0m",
      "\u001b[0;31mIndexError\u001b[0m                                Traceback (most recent call last)",
      "Cell \u001b[0;32mIn[16], line 17\u001b[0m\n\u001b[1;32m     15\u001b[0m \u001b[39m# Parameters : unstandardized data to train without NaN, output\u001b[39;00m\n\u001b[1;32m     16\u001b[0m logreg_model \u001b[39m=\u001b[39m LogRegTrain(df_x_train, df_train[target])\n\u001b[0;32m---> 17\u001b[0m df_weights \u001b[39m=\u001b[39m logreg_model\u001b[39m.\u001b[39;49mtrain(\u001b[39m0.1\u001b[39;49m, \u001b[39m50\u001b[39;49m)\n\u001b[1;32m     18\u001b[0m df_weights\u001b[39m.\u001b[39mhead()\n\u001b[1;32m     19\u001b[0m \u001b[39m# sns.lineplot(data=logreg_model.df_losses, legend='auto')\u001b[39;00m\n",
      "Cell \u001b[0;32mIn[14], line 42\u001b[0m, in \u001b[0;36mLogRegTrain.train\u001b[0;34m(self, learning_rate, epochs)\u001b[0m\n\u001b[1;32m     40\u001b[0m \u001b[39mfor\u001b[39;00m house \u001b[39min\u001b[39;00m \u001b[39mself\u001b[39m\u001b[39m.\u001b[39mhouses:\n\u001b[1;32m     41\u001b[0m     y_actual \u001b[39m=\u001b[39m np\u001b[39m.\u001b[39mwhere(\u001b[39mself\u001b[39m\u001b[39m.\u001b[39mdf_class[\u001b[39m1\u001b[39m] \u001b[39m==\u001b[39m house, \u001b[39m1\u001b[39m, \u001b[39m0\u001b[39m)\n\u001b[0;32m---> 42\u001b[0m     weights \u001b[39m=\u001b[39m \u001b[39mself\u001b[39;49m\u001b[39m.\u001b[39;49mtrain_one_vs_all(house, y_actual)\n\u001b[1;32m     43\u001b[0m     \u001b[39m# self.df_losses[house] = loss\u001b[39;00m\n\u001b[1;32m     44\u001b[0m     \u001b[39mself\u001b[39m\u001b[39m.\u001b[39mdf_weights[house] \u001b[39m=\u001b[39m weights\n",
      "Cell \u001b[0;32mIn[14], line 33\u001b[0m, in \u001b[0;36mLogRegTrain.train_one_vs_all\u001b[0;34m(self, house, y_actual)\u001b[0m\n\u001b[1;32m     31\u001b[0m     gradient \u001b[39m=\u001b[39m np\u001b[39m.\u001b[39mdot(\u001b[39mself\u001b[39m\u001b[39m.\u001b[39mx_train\u001b[39m.\u001b[39mT, (h_pred \u001b[39m-\u001b[39m y_actual))\n\u001b[1;32m     32\u001b[0m     \u001b[39m# grad_desc = LogRegTrain.gradient_descent(self.x_train, h_pred, gradient)\u001b[39;00m\n\u001b[0;32m---> 33\u001b[0m     grad_desc \u001b[39m=\u001b[39m np\u001b[39m.\u001b[39mdot(\u001b[39mself\u001b[39m\u001b[39m.\u001b[39mx_train\u001b[39m.\u001b[39mT, (h_pred \u001b[39m-\u001b[39m y_actual)) \u001b[39m/\u001b[39m y_actual\u001b[39m.\u001b[39;49mshape[\u001b[39m0\u001b[39;49m]\n\u001b[1;32m     34\u001b[0m     weights \u001b[39m=\u001b[39m LogRegTrain\u001b[39m.\u001b[39mupdate_weight_loss(weights, \u001b[39mself\u001b[39m\u001b[39m.\u001b[39mlearning_rate, grad_desc)\n\u001b[1;32m     35\u001b[0m \u001b[39mreturn\u001b[39;00m weights\n",
      "\u001b[0;31mIndexError\u001b[0m: tuple index out of range"
     ]
    }
   ],
   "source": [
    "df = pd.read_csv(f'../datasets/dataset_train.csv')\n",
    "\n",
    "# dropping columns that are useless for model training\n",
    "df.drop(df.columns[2:6], inplace=True, axis = 1)\n",
    "excluded_features = [\"Arithmancy\", \"Defense Against the Dark Arts\", \"Care of Magical Creatures\"]\n",
    "df.drop(excluded_features, inplace=True, axis=1)\n",
    "# dropping rows with NaN \n",
    "df_train = df.dropna()\n",
    "target = df_train.columns[1]\n",
    "# features = df_train.columns[2:]\n",
    "# df_classes = df_train[target]\n",
    "# houses = df_classes.unique().tolist()\n",
    "df_x_train = df_train[df_train.columns[2:]]\n",
    "\n",
    "# Parameters : unstandardized data to train without NaN, output\n",
    "logreg_model = LogRegTrain(df_x_train, df_train[target])\n",
    "df_weights = logreg_model.train(0.1, 50)\n",
    "df_weights.head()\n",
    "# sns.lineplot(data=logreg_model.df_losses, legend='auto')"
   ]
  },
  {
   "cell_type": "code",
   "execution_count": null,
   "metadata": {},
   "outputs": [],
   "source": []
  }
 ],
 "metadata": {
  "kernelspec": {
   "display_name": "venv",
   "language": "python",
   "name": "python3"
  },
  "language_info": {
   "codemirror_mode": {
    "name": "ipython",
    "version": 3
   },
   "file_extension": ".py",
   "mimetype": "text/x-python",
   "name": "python",
   "nbconvert_exporter": "python",
   "pygments_lexer": "ipython3",
   "version": "3.10.12"
  },
  "orig_nbformat": 4
 },
 "nbformat": 4,
 "nbformat_minor": 2
}

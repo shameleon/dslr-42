{
 "cells": [
  {
   "cell_type": "markdown",
   "metadata": {},
   "source": [
    "# "
   ]
  },
  {
   "cell_type": "code",
   "execution_count": 4,
   "metadata": {},
   "outputs": [
    {
     "ename": "KeyboardInterrupt",
     "evalue": "",
     "output_type": "error",
     "traceback": [
      "\u001b[0;31m---------------------------------------------------------------------------\u001b[0m",
      "\u001b[0;31mKeyboardInterrupt\u001b[0m                         Traceback (most recent call last)",
      "\u001b[1;32m/Users/Astarte/dslr-project/dslr-42/notebooks/3.0-jm-seaborn_plots.ipynb Cellule 2\u001b[0m line \u001b[0;36m2\n\u001b[1;32m      <a href='vscode-notebook-cell:/Users/Astarte/dslr-project/dslr-42/notebooks/3.0-jm-seaborn_plots.ipynb#W1sZmlsZQ%3D%3D?line=0'>1</a>\u001b[0m \u001b[39mimport\u001b[39;00m \u001b[39mnumpy\u001b[39;00m \u001b[39mas\u001b[39;00m \u001b[39mnp\u001b[39;00m\n\u001b[0;32m----> <a href='vscode-notebook-cell:/Users/Astarte/dslr-project/dslr-42/notebooks/3.0-jm-seaborn_plots.ipynb#W1sZmlsZQ%3D%3D?line=1'>2</a>\u001b[0m \u001b[39mimport\u001b[39;00m \u001b[39mpandas\u001b[39;00m \u001b[39mas\u001b[39;00m \u001b[39mpd\u001b[39;00m\n\u001b[1;32m      <a href='vscode-notebook-cell:/Users/Astarte/dslr-project/dslr-42/notebooks/3.0-jm-seaborn_plots.ipynb#W1sZmlsZQ%3D%3D?line=2'>3</a>\u001b[0m \u001b[39mimport\u001b[39;00m \u001b[39mseaborn\u001b[39;00m \u001b[39mas\u001b[39;00m \u001b[39msns\u001b[39;00m\n\u001b[1;32m      <a href='vscode-notebook-cell:/Users/Astarte/dslr-project/dslr-42/notebooks/3.0-jm-seaborn_plots.ipynb#W1sZmlsZQ%3D%3D?line=4'>5</a>\u001b[0m df \u001b[39m=\u001b[39m pd\u001b[39m.\u001b[39mread_csv(\u001b[39mf\u001b[39m\u001b[39m'\u001b[39m\u001b[39m../datasets/dataset_train.csv\u001b[39m\u001b[39m'\u001b[39m)\n",
      "File \u001b[0;32m/usr/local/lib/python3.11/site-packages/pandas/__init__.py:48\u001b[0m\n\u001b[1;32m     45\u001b[0m \u001b[39m# let init-time option registration happen\u001b[39;00m\n\u001b[1;32m     46\u001b[0m \u001b[39mimport\u001b[39;00m \u001b[39mpandas\u001b[39;00m\u001b[39m.\u001b[39;00m\u001b[39mcore\u001b[39;00m\u001b[39m.\u001b[39;00m\u001b[39mconfig_init\u001b[39;00m  \u001b[39m# pyright: ignore # noqa:F401\u001b[39;00m\n\u001b[0;32m---> 48\u001b[0m \u001b[39mfrom\u001b[39;00m \u001b[39mpandas\u001b[39;00m\u001b[39m.\u001b[39;00m\u001b[39mcore\u001b[39;00m\u001b[39m.\u001b[39;00m\u001b[39mapi\u001b[39;00m \u001b[39mimport\u001b[39;00m (\n\u001b[1;32m     49\u001b[0m     \u001b[39m# dtype\u001b[39;00m\n\u001b[1;32m     50\u001b[0m     ArrowDtype,\n\u001b[1;32m     51\u001b[0m     Int8Dtype,\n\u001b[1;32m     52\u001b[0m     Int16Dtype,\n\u001b[1;32m     53\u001b[0m     Int32Dtype,\n\u001b[1;32m     54\u001b[0m     Int64Dtype,\n\u001b[1;32m     55\u001b[0m     UInt8Dtype,\n\u001b[1;32m     56\u001b[0m     UInt16Dtype,\n\u001b[1;32m     57\u001b[0m     UInt32Dtype,\n\u001b[1;32m     58\u001b[0m     UInt64Dtype,\n\u001b[1;32m     59\u001b[0m     Float32Dtype,\n\u001b[1;32m     60\u001b[0m     Float64Dtype,\n\u001b[1;32m     61\u001b[0m     CategoricalDtype,\n\u001b[1;32m     62\u001b[0m     PeriodDtype,\n\u001b[1;32m     63\u001b[0m     IntervalDtype,\n\u001b[1;32m     64\u001b[0m     DatetimeTZDtype,\n\u001b[1;32m     65\u001b[0m     StringDtype,\n\u001b[1;32m     66\u001b[0m     BooleanDtype,\n\u001b[1;32m     67\u001b[0m     \u001b[39m# missing\u001b[39;00m\n\u001b[1;32m     68\u001b[0m     NA,\n\u001b[1;32m     69\u001b[0m     isna,\n\u001b[1;32m     70\u001b[0m     isnull,\n\u001b[1;32m     71\u001b[0m     notna,\n\u001b[1;32m     72\u001b[0m     notnull,\n\u001b[1;32m     73\u001b[0m     \u001b[39m# indexes\u001b[39;00m\n\u001b[1;32m     74\u001b[0m     Index,\n\u001b[1;32m     75\u001b[0m     CategoricalIndex,\n\u001b[1;32m     76\u001b[0m     RangeIndex,\n\u001b[1;32m     77\u001b[0m     MultiIndex,\n\u001b[1;32m     78\u001b[0m     IntervalIndex,\n\u001b[1;32m     79\u001b[0m     TimedeltaIndex,\n\u001b[1;32m     80\u001b[0m     DatetimeIndex,\n\u001b[1;32m     81\u001b[0m     PeriodIndex,\n\u001b[1;32m     82\u001b[0m     IndexSlice,\n\u001b[1;32m     83\u001b[0m     \u001b[39m# tseries\u001b[39;00m\n\u001b[1;32m     84\u001b[0m     NaT,\n\u001b[1;32m     85\u001b[0m     Period,\n\u001b[1;32m     86\u001b[0m     period_range,\n\u001b[1;32m     87\u001b[0m     Timedelta,\n\u001b[1;32m     88\u001b[0m     timedelta_range,\n\u001b[1;32m     89\u001b[0m     Timestamp,\n\u001b[1;32m     90\u001b[0m     date_range,\n\u001b[1;32m     91\u001b[0m     bdate_range,\n\u001b[1;32m     92\u001b[0m     Interval,\n\u001b[1;32m     93\u001b[0m     interval_range,\n\u001b[1;32m     94\u001b[0m     DateOffset,\n\u001b[1;32m     95\u001b[0m     \u001b[39m# conversion\u001b[39;00m\n\u001b[1;32m     96\u001b[0m     to_numeric,\n\u001b[1;32m     97\u001b[0m     to_datetime,\n\u001b[1;32m     98\u001b[0m     to_timedelta,\n\u001b[1;32m     99\u001b[0m     \u001b[39m# misc\u001b[39;00m\n\u001b[1;32m    100\u001b[0m     Flags,\n\u001b[1;32m    101\u001b[0m     Grouper,\n\u001b[1;32m    102\u001b[0m     factorize,\n\u001b[1;32m    103\u001b[0m     unique,\n\u001b[1;32m    104\u001b[0m     value_counts,\n\u001b[1;32m    105\u001b[0m     NamedAgg,\n\u001b[1;32m    106\u001b[0m     array,\n\u001b[1;32m    107\u001b[0m     Categorical,\n\u001b[1;32m    108\u001b[0m     set_eng_float_format,\n\u001b[1;32m    109\u001b[0m     Series,\n\u001b[1;32m    110\u001b[0m     DataFrame,\n\u001b[1;32m    111\u001b[0m )\n\u001b[1;32m    113\u001b[0m \u001b[39mfrom\u001b[39;00m \u001b[39mpandas\u001b[39;00m\u001b[39m.\u001b[39;00m\u001b[39mcore\u001b[39;00m\u001b[39m.\u001b[39;00m\u001b[39marrays\u001b[39;00m\u001b[39m.\u001b[39;00m\u001b[39msparse\u001b[39;00m \u001b[39mimport\u001b[39;00m SparseDtype\n\u001b[1;32m    115\u001b[0m \u001b[39mfrom\u001b[39;00m \u001b[39mpandas\u001b[39;00m\u001b[39m.\u001b[39;00m\u001b[39mtseries\u001b[39;00m\u001b[39m.\u001b[39;00m\u001b[39mapi\u001b[39;00m \u001b[39mimport\u001b[39;00m infer_freq\n",
      "File \u001b[0;32m/usr/local/lib/python3.11/site-packages/pandas/core/api.py:47\u001b[0m\n\u001b[1;32m     45\u001b[0m \u001b[39mfrom\u001b[39;00m \u001b[39mpandas\u001b[39;00m\u001b[39m.\u001b[39;00m\u001b[39mcore\u001b[39;00m\u001b[39m.\u001b[39;00m\u001b[39mconstruction\u001b[39;00m \u001b[39mimport\u001b[39;00m array\n\u001b[1;32m     46\u001b[0m \u001b[39mfrom\u001b[39;00m \u001b[39mpandas\u001b[39;00m\u001b[39m.\u001b[39;00m\u001b[39mcore\u001b[39;00m\u001b[39m.\u001b[39;00m\u001b[39mflags\u001b[39;00m \u001b[39mimport\u001b[39;00m Flags\n\u001b[0;32m---> 47\u001b[0m \u001b[39mfrom\u001b[39;00m \u001b[39mpandas\u001b[39;00m\u001b[39m.\u001b[39;00m\u001b[39mcore\u001b[39;00m\u001b[39m.\u001b[39;00m\u001b[39mgroupby\u001b[39;00m \u001b[39mimport\u001b[39;00m (\n\u001b[1;32m     48\u001b[0m     Grouper,\n\u001b[1;32m     49\u001b[0m     NamedAgg,\n\u001b[1;32m     50\u001b[0m )\n\u001b[1;32m     51\u001b[0m \u001b[39mfrom\u001b[39;00m \u001b[39mpandas\u001b[39;00m\u001b[39m.\u001b[39;00m\u001b[39mcore\u001b[39;00m\u001b[39m.\u001b[39;00m\u001b[39mindexes\u001b[39;00m\u001b[39m.\u001b[39;00m\u001b[39mapi\u001b[39;00m \u001b[39mimport\u001b[39;00m (\n\u001b[1;32m     52\u001b[0m     CategoricalIndex,\n\u001b[1;32m     53\u001b[0m     DatetimeIndex,\n\u001b[0;32m   (...)\u001b[0m\n\u001b[1;32m     59\u001b[0m     TimedeltaIndex,\n\u001b[1;32m     60\u001b[0m )\n\u001b[1;32m     61\u001b[0m \u001b[39mfrom\u001b[39;00m \u001b[39mpandas\u001b[39;00m\u001b[39m.\u001b[39;00m\u001b[39mcore\u001b[39;00m\u001b[39m.\u001b[39;00m\u001b[39mindexes\u001b[39;00m\u001b[39m.\u001b[39;00m\u001b[39mdatetimes\u001b[39;00m \u001b[39mimport\u001b[39;00m (\n\u001b[1;32m     62\u001b[0m     bdate_range,\n\u001b[1;32m     63\u001b[0m     date_range,\n\u001b[1;32m     64\u001b[0m )\n",
      "File \u001b[0;32m/usr/local/lib/python3.11/site-packages/pandas/core/groupby/__init__.py:1\u001b[0m\n\u001b[0;32m----> 1\u001b[0m \u001b[39mfrom\u001b[39;00m \u001b[39mpandas\u001b[39;00m\u001b[39m.\u001b[39;00m\u001b[39mcore\u001b[39;00m\u001b[39m.\u001b[39;00m\u001b[39mgroupby\u001b[39;00m\u001b[39m.\u001b[39;00m\u001b[39mgeneric\u001b[39;00m \u001b[39mimport\u001b[39;00m (\n\u001b[1;32m      2\u001b[0m     DataFrameGroupBy,\n\u001b[1;32m      3\u001b[0m     NamedAgg,\n\u001b[1;32m      4\u001b[0m     SeriesGroupBy,\n\u001b[1;32m      5\u001b[0m )\n\u001b[1;32m      6\u001b[0m \u001b[39mfrom\u001b[39;00m \u001b[39mpandas\u001b[39;00m\u001b[39m.\u001b[39;00m\u001b[39mcore\u001b[39;00m\u001b[39m.\u001b[39;00m\u001b[39mgroupby\u001b[39;00m\u001b[39m.\u001b[39;00m\u001b[39mgroupby\u001b[39;00m \u001b[39mimport\u001b[39;00m GroupBy\n\u001b[1;32m      7\u001b[0m \u001b[39mfrom\u001b[39;00m \u001b[39mpandas\u001b[39;00m\u001b[39m.\u001b[39;00m\u001b[39mcore\u001b[39;00m\u001b[39m.\u001b[39;00m\u001b[39mgroupby\u001b[39;00m\u001b[39m.\u001b[39;00m\u001b[39mgrouper\u001b[39;00m \u001b[39mimport\u001b[39;00m Grouper\n",
      "File \u001b[0;32m/usr/local/lib/python3.11/site-packages/pandas/core/groupby/generic.py:77\u001b[0m\n\u001b[1;32m     70\u001b[0m \u001b[39mfrom\u001b[39;00m \u001b[39mpandas\u001b[39;00m\u001b[39m.\u001b[39;00m\u001b[39mcore\u001b[39;00m\u001b[39m.\u001b[39;00m\u001b[39mapply\u001b[39;00m \u001b[39mimport\u001b[39;00m (\n\u001b[1;32m     71\u001b[0m     GroupByApply,\n\u001b[1;32m     72\u001b[0m     maybe_mangle_lambdas,\n\u001b[1;32m     73\u001b[0m     reconstruct_func,\n\u001b[1;32m     74\u001b[0m     validate_func_kwargs,\n\u001b[1;32m     75\u001b[0m )\n\u001b[1;32m     76\u001b[0m \u001b[39mimport\u001b[39;00m \u001b[39mpandas\u001b[39;00m\u001b[39m.\u001b[39;00m\u001b[39mcore\u001b[39;00m\u001b[39m.\u001b[39;00m\u001b[39mcommon\u001b[39;00m \u001b[39mas\u001b[39;00m \u001b[39mcom\u001b[39;00m\n\u001b[0;32m---> 77\u001b[0m \u001b[39mfrom\u001b[39;00m \u001b[39mpandas\u001b[39;00m\u001b[39m.\u001b[39;00m\u001b[39mcore\u001b[39;00m\u001b[39m.\u001b[39;00m\u001b[39mframe\u001b[39;00m \u001b[39mimport\u001b[39;00m DataFrame\n\u001b[1;32m     78\u001b[0m \u001b[39mfrom\u001b[39;00m \u001b[39mpandas\u001b[39;00m\u001b[39m.\u001b[39;00m\u001b[39mcore\u001b[39;00m\u001b[39m.\u001b[39;00m\u001b[39mgroupby\u001b[39;00m \u001b[39mimport\u001b[39;00m base\n\u001b[1;32m     79\u001b[0m \u001b[39mfrom\u001b[39;00m \u001b[39mpandas\u001b[39;00m\u001b[39m.\u001b[39;00m\u001b[39mcore\u001b[39;00m\u001b[39m.\u001b[39;00m\u001b[39mgroupby\u001b[39;00m\u001b[39m.\u001b[39;00m\u001b[39mgroupby\u001b[39;00m \u001b[39mimport\u001b[39;00m (\n\u001b[1;32m     80\u001b[0m     GroupBy,\n\u001b[1;32m     81\u001b[0m     GroupByPlot,\n\u001b[0;32m   (...)\u001b[0m\n\u001b[1;32m     84\u001b[0m     _transform_template,\n\u001b[1;32m     85\u001b[0m )\n",
      "File \u001b[0;32m/usr/local/lib/python3.11/site-packages/pandas/core/frame.py:182\u001b[0m\n\u001b[1;32m    175\u001b[0m \u001b[39mfrom\u001b[39;00m \u001b[39mpandas\u001b[39;00m\u001b[39m.\u001b[39;00m\u001b[39mcore\u001b[39;00m\u001b[39m.\u001b[39;00m\u001b[39marrays\u001b[39;00m\u001b[39m.\u001b[39;00m\u001b[39msparse\u001b[39;00m \u001b[39mimport\u001b[39;00m SparseFrameAccessor\n\u001b[1;32m    176\u001b[0m \u001b[39mfrom\u001b[39;00m \u001b[39mpandas\u001b[39;00m\u001b[39m.\u001b[39;00m\u001b[39mcore\u001b[39;00m\u001b[39m.\u001b[39;00m\u001b[39mconstruction\u001b[39;00m \u001b[39mimport\u001b[39;00m (\n\u001b[1;32m    177\u001b[0m     ensure_wrapped_if_datetimelike,\n\u001b[1;32m    178\u001b[0m     extract_array,\n\u001b[1;32m    179\u001b[0m     sanitize_array,\n\u001b[1;32m    180\u001b[0m     sanitize_masked_array,\n\u001b[1;32m    181\u001b[0m )\n\u001b[0;32m--> 182\u001b[0m \u001b[39mfrom\u001b[39;00m \u001b[39mpandas\u001b[39;00m\u001b[39m.\u001b[39;00m\u001b[39mcore\u001b[39;00m\u001b[39m.\u001b[39;00m\u001b[39mgeneric\u001b[39;00m \u001b[39mimport\u001b[39;00m NDFrame\n\u001b[1;32m    183\u001b[0m \u001b[39mfrom\u001b[39;00m \u001b[39mpandas\u001b[39;00m\u001b[39m.\u001b[39;00m\u001b[39mcore\u001b[39;00m\u001b[39m.\u001b[39;00m\u001b[39mindexers\u001b[39;00m \u001b[39mimport\u001b[39;00m check_key_length\n\u001b[1;32m    184\u001b[0m \u001b[39mfrom\u001b[39;00m \u001b[39mpandas\u001b[39;00m\u001b[39m.\u001b[39;00m\u001b[39mcore\u001b[39;00m\u001b[39m.\u001b[39;00m\u001b[39mindexes\u001b[39;00m\u001b[39m.\u001b[39;00m\u001b[39mapi\u001b[39;00m \u001b[39mimport\u001b[39;00m (\n\u001b[1;32m    185\u001b[0m     DatetimeIndex,\n\u001b[1;32m    186\u001b[0m     Index,\n\u001b[0;32m   (...)\u001b[0m\n\u001b[1;32m    190\u001b[0m     ensure_index_from_sequences,\n\u001b[1;32m    191\u001b[0m )\n",
      "File \u001b[0;32m/usr/local/lib/python3.11/site-packages/pandas/core/generic.py:138\u001b[0m\n\u001b[1;32m    129\u001b[0m \u001b[39mfrom\u001b[39;00m \u001b[39mpandas\u001b[39;00m\u001b[39m.\u001b[39;00m\u001b[39mcore\u001b[39;00m\u001b[39m.\u001b[39;00m\u001b[39mdtypes\u001b[39;00m\u001b[39m.\u001b[39;00m\u001b[39minference\u001b[39;00m \u001b[39mimport\u001b[39;00m (\n\u001b[1;32m    130\u001b[0m     is_hashable,\n\u001b[1;32m    131\u001b[0m     is_nested_list_like,\n\u001b[1;32m    132\u001b[0m )\n\u001b[1;32m    133\u001b[0m \u001b[39mfrom\u001b[39;00m \u001b[39mpandas\u001b[39;00m\u001b[39m.\u001b[39;00m\u001b[39mcore\u001b[39;00m\u001b[39m.\u001b[39;00m\u001b[39mdtypes\u001b[39;00m\u001b[39m.\u001b[39;00m\u001b[39mmissing\u001b[39;00m \u001b[39mimport\u001b[39;00m (\n\u001b[1;32m    134\u001b[0m     isna,\n\u001b[1;32m    135\u001b[0m     notna,\n\u001b[1;32m    136\u001b[0m )\n\u001b[0;32m--> 138\u001b[0m \u001b[39mfrom\u001b[39;00m \u001b[39mpandas\u001b[39;00m\u001b[39m.\u001b[39;00m\u001b[39mcore\u001b[39;00m \u001b[39mimport\u001b[39;00m (\n\u001b[1;32m    139\u001b[0m     algorithms \u001b[39mas\u001b[39;00m algos,\n\u001b[1;32m    140\u001b[0m     arraylike,\n\u001b[1;32m    141\u001b[0m     common,\n\u001b[1;32m    142\u001b[0m     indexing,\n\u001b[1;32m    143\u001b[0m     nanops,\n\u001b[1;32m    144\u001b[0m     sample,\n\u001b[1;32m    145\u001b[0m )\n\u001b[1;32m    146\u001b[0m \u001b[39mfrom\u001b[39;00m \u001b[39mpandas\u001b[39;00m\u001b[39m.\u001b[39;00m\u001b[39mcore\u001b[39;00m\u001b[39m.\u001b[39;00m\u001b[39marray_algos\u001b[39;00m\u001b[39m.\u001b[39;00m\u001b[39mreplace\u001b[39;00m \u001b[39mimport\u001b[39;00m should_use_regex\n\u001b[1;32m    147\u001b[0m \u001b[39mfrom\u001b[39;00m \u001b[39mpandas\u001b[39;00m\u001b[39m.\u001b[39;00m\u001b[39mcore\u001b[39;00m\u001b[39m.\u001b[39;00m\u001b[39marrays\u001b[39;00m \u001b[39mimport\u001b[39;00m ExtensionArray\n",
      "File \u001b[0;32m/usr/local/lib/python3.11/site-packages/pandas/core/indexing.py:77\u001b[0m\n\u001b[1;32m     67\u001b[0m \u001b[39mfrom\u001b[39;00m \u001b[39mpandas\u001b[39;00m\u001b[39m.\u001b[39;00m\u001b[39mcore\u001b[39;00m\u001b[39m.\u001b[39;00m\u001b[39mconstruction\u001b[39;00m \u001b[39mimport\u001b[39;00m (\n\u001b[1;32m     68\u001b[0m     array \u001b[39mas\u001b[39;00m pd_array,\n\u001b[1;32m     69\u001b[0m     extract_array,\n\u001b[1;32m     70\u001b[0m )\n\u001b[1;32m     71\u001b[0m \u001b[39mfrom\u001b[39;00m \u001b[39mpandas\u001b[39;00m\u001b[39m.\u001b[39;00m\u001b[39mcore\u001b[39;00m\u001b[39m.\u001b[39;00m\u001b[39mindexers\u001b[39;00m \u001b[39mimport\u001b[39;00m (\n\u001b[1;32m     72\u001b[0m     check_array_indexer,\n\u001b[1;32m     73\u001b[0m     is_list_like_indexer,\n\u001b[1;32m     74\u001b[0m     is_scalar_indexer,\n\u001b[1;32m     75\u001b[0m     length_of_indexer,\n\u001b[1;32m     76\u001b[0m )\n\u001b[0;32m---> 77\u001b[0m \u001b[39mfrom\u001b[39;00m \u001b[39mpandas\u001b[39;00m\u001b[39m.\u001b[39;00m\u001b[39mcore\u001b[39;00m\u001b[39m.\u001b[39;00m\u001b[39mindexes\u001b[39;00m\u001b[39m.\u001b[39;00m\u001b[39mapi\u001b[39;00m \u001b[39mimport\u001b[39;00m (\n\u001b[1;32m     78\u001b[0m     Index,\n\u001b[1;32m     79\u001b[0m     MultiIndex,\n\u001b[1;32m     80\u001b[0m )\n\u001b[1;32m     82\u001b[0m \u001b[39mif\u001b[39;00m TYPE_CHECKING:\n\u001b[1;32m     83\u001b[0m     \u001b[39mfrom\u001b[39;00m \u001b[39mpandas\u001b[39;00m \u001b[39mimport\u001b[39;00m (\n\u001b[1;32m     84\u001b[0m         DataFrame,\n\u001b[1;32m     85\u001b[0m         Series,\n\u001b[1;32m     86\u001b[0m     )\n",
      "File \u001b[0;32m/usr/local/lib/python3.11/site-packages/pandas/core/indexes/api.py:18\u001b[0m\n\u001b[1;32m     15\u001b[0m \u001b[39mfrom\u001b[39;00m \u001b[39mpandas\u001b[39;00m\u001b[39m.\u001b[39;00m\u001b[39mcore\u001b[39;00m\u001b[39m.\u001b[39;00m\u001b[39mdtypes\u001b[39;00m\u001b[39m.\u001b[39;00m\u001b[39mcast\u001b[39;00m \u001b[39mimport\u001b[39;00m find_common_type\n\u001b[1;32m     17\u001b[0m \u001b[39mfrom\u001b[39;00m \u001b[39mpandas\u001b[39;00m\u001b[39m.\u001b[39;00m\u001b[39mcore\u001b[39;00m\u001b[39m.\u001b[39;00m\u001b[39malgorithms\u001b[39;00m \u001b[39mimport\u001b[39;00m safe_sort\n\u001b[0;32m---> 18\u001b[0m \u001b[39mfrom\u001b[39;00m \u001b[39mpandas\u001b[39;00m\u001b[39m.\u001b[39;00m\u001b[39mcore\u001b[39;00m\u001b[39m.\u001b[39;00m\u001b[39mindexes\u001b[39;00m\u001b[39m.\u001b[39;00m\u001b[39mbase\u001b[39;00m \u001b[39mimport\u001b[39;00m (\n\u001b[1;32m     19\u001b[0m     Index,\n\u001b[1;32m     20\u001b[0m     _new_Index,\n\u001b[1;32m     21\u001b[0m     ensure_index,\n\u001b[1;32m     22\u001b[0m     ensure_index_from_sequences,\n\u001b[1;32m     23\u001b[0m     get_unanimous_names,\n\u001b[1;32m     24\u001b[0m )\n\u001b[1;32m     25\u001b[0m \u001b[39mfrom\u001b[39;00m \u001b[39mpandas\u001b[39;00m\u001b[39m.\u001b[39;00m\u001b[39mcore\u001b[39;00m\u001b[39m.\u001b[39;00m\u001b[39mindexes\u001b[39;00m\u001b[39m.\u001b[39;00m\u001b[39mcategory\u001b[39;00m \u001b[39mimport\u001b[39;00m CategoricalIndex\n\u001b[1;32m     26\u001b[0m \u001b[39mfrom\u001b[39;00m \u001b[39mpandas\u001b[39;00m\u001b[39m.\u001b[39;00m\u001b[39mcore\u001b[39;00m\u001b[39m.\u001b[39;00m\u001b[39mindexes\u001b[39;00m\u001b[39m.\u001b[39;00m\u001b[39mdatetimes\u001b[39;00m \u001b[39mimport\u001b[39;00m DatetimeIndex\n",
      "File \u001b[0;32m/usr/local/lib/python3.11/site-packages/pandas/core/indexes/base.py:28\u001b[0m\n\u001b[1;32m     24\u001b[0m \u001b[39mimport\u001b[39;00m \u001b[39mnumpy\u001b[39;00m \u001b[39mas\u001b[39;00m \u001b[39mnp\u001b[39;00m\n\u001b[1;32m     26\u001b[0m \u001b[39mfrom\u001b[39;00m \u001b[39mpandas\u001b[39;00m\u001b[39m.\u001b[39;00m\u001b[39m_config\u001b[39;00m \u001b[39mimport\u001b[39;00m get_option\n\u001b[0;32m---> 28\u001b[0m \u001b[39mfrom\u001b[39;00m \u001b[39mpandas\u001b[39;00m\u001b[39m.\u001b[39;00m\u001b[39m_libs\u001b[39;00m \u001b[39mimport\u001b[39;00m (\n\u001b[1;32m     29\u001b[0m     NaT,\n\u001b[1;32m     30\u001b[0m     algos \u001b[39mas\u001b[39;00m libalgos,\n\u001b[1;32m     31\u001b[0m     index \u001b[39mas\u001b[39;00m libindex,\n\u001b[1;32m     32\u001b[0m     lib,\n\u001b[1;32m     33\u001b[0m )\n\u001b[1;32m     34\u001b[0m \u001b[39mfrom\u001b[39;00m \u001b[39mpandas\u001b[39;00m\u001b[39m.\u001b[39;00m\u001b[39m_libs\u001b[39;00m\u001b[39m.\u001b[39;00m\u001b[39minternals\u001b[39;00m \u001b[39mimport\u001b[39;00m BlockValuesRefs\n\u001b[1;32m     35\u001b[0m \u001b[39mimport\u001b[39;00m \u001b[39mpandas\u001b[39;00m\u001b[39m.\u001b[39;00m\u001b[39m_libs\u001b[39;00m\u001b[39m.\u001b[39;00m\u001b[39mjoin\u001b[39;00m \u001b[39mas\u001b[39;00m \u001b[39mlibjoin\u001b[39;00m\n",
      "File \u001b[0;32m<frozen importlib._bootstrap>:405\u001b[0m, in \u001b[0;36mparent\u001b[0;34m(self)\u001b[0m\n",
      "\u001b[0;31mKeyboardInterrupt\u001b[0m: "
     ]
    }
   ],
   "source": [
    "import numpy as np\n",
    "import pandas as pd\n",
    "import seaborn as sns\n",
    "\n",
    "df = pd.read_csv(f'../datasets/dataset_train.csv')"
   ]
  },
  {
   "cell_type": "code",
   "execution_count": 1,
   "metadata": {},
   "outputs": [
    {
     "ename": "NameError",
     "evalue": "name 'df' is not defined",
     "output_type": "error",
     "traceback": [
      "\u001b[0;31m---------------------------------------------------------------------------\u001b[0m",
      "\u001b[0;31mNameError\u001b[0m                                 Traceback (most recent call last)",
      "\u001b[1;32m/Users/Astarte/dslr-project/dslr-42/notebooks/3.0-jm-seaborn_plots.ipynb Cellule 3\u001b[0m line \u001b[0;36m2\n\u001b[1;32m      <a href='vscode-notebook-cell:/Users/Astarte/dslr-project/dslr-42/notebooks/3.0-jm-seaborn_plots.ipynb#W2sZmlsZQ%3D%3D?line=0'>1</a>\u001b[0m remove_list \u001b[39m=\u001b[39m [\u001b[39m'\u001b[39m\u001b[39mIndex\u001b[39m\u001b[39m'\u001b[39m, \u001b[39m'\u001b[39m\u001b[39mFirst Name\u001b[39m\u001b[39m'\u001b[39m, \u001b[39m'\u001b[39m\u001b[39mLast Name\u001b[39m\u001b[39m'\u001b[39m, \u001b[39m'\u001b[39m\u001b[39mBirthday\u001b[39m\u001b[39m'\u001b[39m, \u001b[39m'\u001b[39m\u001b[39mBest Hand\u001b[39m\u001b[39m'\u001b[39m,]\n\u001b[0;32m----> <a href='vscode-notebook-cell:/Users/Astarte/dslr-project/dslr-42/notebooks/3.0-jm-seaborn_plots.ipynb#W2sZmlsZQ%3D%3D?line=1'>2</a>\u001b[0m df_courses \u001b[39m=\u001b[39m df\u001b[39m.\u001b[39mdrop(remove_list, axis\u001b[39m=\u001b[39m\u001b[39m1\u001b[39m)\n\u001b[1;32m      <a href='vscode-notebook-cell:/Users/Astarte/dslr-project/dslr-42/notebooks/3.0-jm-seaborn_plots.ipynb#W2sZmlsZQ%3D%3D?line=2'>3</a>\u001b[0m features \u001b[39m=\u001b[39m df_courses\u001b[39m.\u001b[39mcolumns\u001b[39m.\u001b[39mto_list()\n",
      "\u001b[0;31mNameError\u001b[0m: name 'df' is not defined"
     ]
    }
   ],
   "source": [
    "remove_list = ['Index', 'First Name', 'Last Name', 'Birthday', 'Best Hand',]\n",
    "df_courses = df.drop(remove_list, axis=1)\n",
    "features = df_courses.columns.to_list()"
   ]
  },
  {
   "cell_type": "code",
   "execution_count": null,
   "metadata": {},
   "outputs": [],
   "source": [
    "sns.pairplot(df_courses,\n",
    "             x_vars=features,\n",
    "             y_vars=features,\n",
    "             hue=\"Hogwarts House\",\n",
    "             corner=True\n",
    "            )"
   ]
  },
  {
   "cell_type": "code",
   "execution_count": null,
   "metadata": {},
   "outputs": [],
   "source": [
    "df_num = df[df.select_dtypes(include=np.number).columns[:]].head()"
   ]
  },
  {
   "cell_type": "markdown",
   "metadata": {},
   "source": [
    "(seaborn scatter plot)[https://seaborn.pydata.org/generated/seaborn.scatterplot.html#]"
   ]
  },
  {
   "cell_type": "code",
   "execution_count": null,
   "metadata": {},
   "outputs": [],
   "source": [
    "import seaborn as sns\n",
    "import matplotlib.pyplot as plt\n",
    "\n",
    "sns.scatterplot(\n",
    " data=df, \n",
    " x=\"Astronomy\",\n",
    " y=\"Herbology\",\n",
    " hue=\"Hogwarts House\",\n",
    " legend='auto'\n",
    ")"
   ]
  },
  {
   "cell_type": "markdown",
   "metadata": {},
   "source": [
    "(Boxplots with the Seaborn)[https://towardsdatascience.com/creating-boxplots-with-the-seaborn-python-library-f0c20f09bd57]\n",
    "\n",
    "What are Boxplots?\n",
    "\n",
    "A boxplot is a graphical and standardised way to display the distribution of data based on five key numbers:\n",
    "\n",
    "    “minimum”\n",
    "    1st Quartile (25th percentile)\n",
    "    median (2nd Quartile/ 50th Percentile)\n",
    "    3rd Quartile (75th percentile)\n",
    "    “maximum”\n",
    "![image.png][https://miro.medium.com/v2/resize:fit:720/format:webp/1*oakP4vxTLwuqE8ce0fFQRA.png]"
   ]
  },
  {
   "cell_type": "code",
   "execution_count": null,
   "metadata": {},
   "outputs": [],
   "source": [
    "sns.boxplot(data=df, x=\"Hogwarts House\", y=\"Astronomy\")"
   ]
  },
  {
   "cell_type": "code",
   "execution_count": null,
   "metadata": {},
   "outputs": [],
   "source": [
    "sns.boxplot(data=df, x=\"Hogwarts House\", y=\"Astronomy\")"
   ]
  },
  {
   "cell_type": "code",
   "execution_count": 3,
   "metadata": {},
   "outputs": [
    {
     "ename": "NameError",
     "evalue": "name 'plt' is not defined",
     "output_type": "error",
     "traceback": [
      "\u001b[0;31m---------------------------------------------------------------------------\u001b[0m",
      "\u001b[0;31mNameError\u001b[0m                                 Traceback (most recent call last)",
      "\u001b[1;32m/Users/Astarte/dslr-project/dslr-42/notebooks/3.0-jm-seaborn_plots.ipynb Cellule 11\u001b[0m line \u001b[0;36m1\n\u001b[0;32m----> <a href='vscode-notebook-cell:/Users/Astarte/dslr-project/dslr-42/notebooks/3.0-jm-seaborn_plots.ipynb#X13sZmlsZQ%3D%3D?line=0'>1</a>\u001b[0m fig, axs \u001b[39m=\u001b[39m plt\u001b[39m.\u001b[39msubplots(\u001b[39m2\u001b[39m, \u001b[39m4\u001b[39m, figsize\u001b[39m=\u001b[39m(\u001b[39m20\u001b[39m, \u001b[39m6\u001b[39m))\n\u001b[1;32m      <a href='vscode-notebook-cell:/Users/Astarte/dslr-project/dslr-42/notebooks/3.0-jm-seaborn_plots.ipynb#X13sZmlsZQ%3D%3D?line=1'>2</a>\u001b[0m sns\u001b[39m.\u001b[39mboxplot(data\u001b[39m=\u001b[39mdf, x\u001b[39m=\u001b[39m\u001b[39m\"\u001b[39m\u001b[39mHogwarts House\u001b[39m\u001b[39m\"\u001b[39m, ax\u001b[39m=\u001b[39maxs[\u001b[39m0\u001b[39m, \u001b[39m0\u001b[39m], y\u001b[39m=\u001b[39m\u001b[39m\"\u001b[39m\u001b[39mAstronomy\u001b[39m\u001b[39m\"\u001b[39m)\n\u001b[1;32m      <a href='vscode-notebook-cell:/Users/Astarte/dslr-project/dslr-42/notebooks/3.0-jm-seaborn_plots.ipynb#X13sZmlsZQ%3D%3D?line=2'>3</a>\u001b[0m sns\u001b[39m.\u001b[39mboxplot(data\u001b[39m=\u001b[39mdf, x\u001b[39m=\u001b[39m\u001b[39m\"\u001b[39m\u001b[39mHogwarts House\u001b[39m\u001b[39m\"\u001b[39m, ax\u001b[39m=\u001b[39maxs[\u001b[39m0\u001b[39m, \u001b[39m1\u001b[39m], y\u001b[39m=\u001b[39m\u001b[39m\"\u001b[39m\u001b[39mHerbology\u001b[39m\u001b[39m\"\u001b[39m)\n",
      "\u001b[0;31mNameError\u001b[0m: name 'plt' is not defined"
     ]
    }
   ],
   "source": [
    "fig, axs = plt.subplots(2, 4, figsize=(20, 6))\n",
    "sns.boxplot(data=df, x=\"Hogwarts House\", ax=axs[0, 0], y=\"Astronomy\")\n",
    "sns.boxplot(data=df, x=\"Hogwarts House\", ax=axs[0, 1], y=\"Herbology\")\n",
    "sns.boxplot(data=df, x=\"Hogwarts House\", ax=axs[0, 2], y=\"Defense Against the Dark Arts\")\n",
    "sns.boxplot(data=df, x=\"Hogwarts House\", ax=axs[0, 3], y=\"Potions\")\n",
    "sns.boxplot(data=df, x=\"Hogwarts House\", ax=axs[1, 0], y=\"Divination\")\n",
    "sns.boxplot(data=df, x=\"Hogwarts House\", ax=axs[1, 1], y=\"Transfiguration\")\n",
    "sns.boxplot(data=df, x=\"Hogwarts House\", ax=axs[1, 2], y=\"Muggle Studies\")\n",
    "sns.boxplot(data=df, x=\"Hogwarts House\", ax=axs[1, 3], y=\"Flying\")\n",
    "plt.legend() \n",
    "plt.show()"
   ]
  },
  {
   "cell_type": "code",
   "execution_count": 5,
   "metadata": {},
   "outputs": [
    {
     "ename": "NameError",
     "evalue": "name 'sns' is not defined",
     "output_type": "error",
     "traceback": [
      "\u001b[0;31m---------------------------------------------------------------------------\u001b[0m",
      "\u001b[0;31mNameError\u001b[0m                                 Traceback (most recent call last)",
      "\u001b[1;32m/Users/Astarte/dslr-project/dslr-42/notebooks/3.0-jm-seaborn_plots.ipynb Cellule 12\u001b[0m line \u001b[0;36m2\n\u001b[1;32m      <a href='vscode-notebook-cell:/Users/Astarte/dslr-project/dslr-42/notebooks/3.0-jm-seaborn_plots.ipynb#X14sZmlsZQ%3D%3D?line=0'>1</a>\u001b[0m \u001b[39m# sns.set(style=\"darkgrid\")\u001b[39;00m\n\u001b[0;32m----> <a href='vscode-notebook-cell:/Users/Astarte/dslr-project/dslr-42/notebooks/3.0-jm-seaborn_plots.ipynb#X14sZmlsZQ%3D%3D?line=1'>2</a>\u001b[0m sns\u001b[39m.\u001b[39mhistplot(data\u001b[39m=\u001b[39mdf, x\u001b[39m=\u001b[39m\u001b[39m\"\u001b[39m\u001b[39mHerbology\u001b[39m\u001b[39m\"\u001b[39m, color\u001b[39m=\u001b[39m\u001b[39m\"\u001b[39m\u001b[39mskyblue\u001b[39m\u001b[39m\"\u001b[39m, kde\u001b[39m=\u001b[39m\u001b[39mTrue\u001b[39;00m, hue\u001b[39m=\u001b[39m\u001b[39m\"\u001b[39m\u001b[39mHogwarts House\u001b[39m\u001b[39m\"\u001b[39m)\n",
      "\u001b[0;31mNameError\u001b[0m: name 'sns' is not defined"
     ]
    }
   ],
   "source": [
    "# sns.set(style=\"darkgrid\")\n",
    "sns.histplot(data=df, x=\"Herbology\", color=\"skyblue\", kde=True, hue=\"Hogwarts House\")"
   ]
  },
  {
   "cell_type": "markdown",
   "metadata": {},
   "source": [
    "### Seabron Pairplot\n",
    "sns.pairplot(df)\n",
    "https://seaborn.pydata.org/generated/seaborn.pairplot.html"
   ]
  },
  {
   "cell_type": "code",
   "execution_count": null,
   "metadata": {},
   "outputs": [],
   "source": [
    "\n",
    "\"\"\"\n",
    "Index(['Index', 'Hogwarts House', 'First Name', 'Last Name', 'Birthday',\n",
    "       'Best Hand', 'Arithmancy', 'Astronomy', 'Herbology',\n",
    "       'Defense Against the Dark Arts', 'Divination', 'Muggle Studies',\n",
    "       'Ancient Runes', 'History of Magic', 'Transfiguration', 'Potions',\n",
    "       'Care of Magical Creatures', 'Charms', 'Flying'],\n",
    "      dtype='object')\n",
    "\"\"\"\n",
    "    \n",
    "best_hand = df.groupby('Hogwarts House')['Best Hand']\n",
    "# sns.boxplot(data=best_hand, x=\"Hogwarts House\", ax=axs[0, 0], y=\"Best Hand\")\n",
    "sns.histplot(data=df, x=\"Best Hand\", color=\"skyblue\", kde=True, hue=\"Hogwarts House\")"
   ]
  },
  {
   "cell_type": "code",
   "execution_count": null,
   "metadata": {},
   "outputs": [],
   "source": [
    "best_hand = df.groupby('Hogwarts House')['Birthday']\n",
    "#sns.histplot(data=df, x=\"Birthday\", color=\"skyblue\", kde=True, hue=\"Hogwarts House\")"
   ]
  },
  {
   "cell_type": "code",
   "execution_count": null,
   "metadata": {},
   "outputs": [],
   "source": [
    "remove_list = ['Index', 'First Name', 'Last Name', 'Birthday', 'Best Hand',]\n",
    "df_courses = df\n",
    "df_courses.drop(remove_list, axis=1)\n",
    "# df_courses_by_house :\n",
    "df_courses.head(15)\n",
    "#sns.pairplot(df_course, hue=\"Hogwarts House\", diag_kind=\"hist\")"
   ]
  },
  {
   "cell_type": "code",
   "execution_count": null,
   "metadata": {},
   "outputs": [],
   "source": [
    "sns.pairplot(\n",
    "    df_courses,\n",
    "    x_vars=['Arithmancy', 'Astronomy', 'Herbology',\n",
    "       'Defense Against the Dark Arts', 'Divination', 'Muggle Studies',\n",
    "       'Ancient Runes', 'History of Magic', 'Transfiguration', 'Potions',\n",
    "       'Care of Magical Creatures', 'Charms', 'Flying'],\n",
    "    y_vars=['Arithmancy', 'Astronomy', 'Herbology',\n",
    "       'Defense Against the Dark Arts', 'Divination', 'Muggle Studies',\n",
    "       'Ancient Runes', 'History of Magic', 'Transfiguration', 'Potions',\n",
    "       'Care of Magical Creatures', 'Charms', 'Flying'],\n",
    "    hue=\"Hogwarts House\",\n",
    "    corner=True\n",
    ")"
   ]
  }
 ],
 "metadata": {
  "kernelspec": {
   "display_name": "local",
   "language": "python",
   "name": "python3"
  },
  "language_info": {
   "codemirror_mode": {
    "name": "ipython",
    "version": 3
   },
   "file_extension": ".py",
   "mimetype": "text/x-python",
   "name": "python",
   "nbconvert_exporter": "python",
   "pygments_lexer": "ipython3",
   "version": "3.11.5"
  },
  "orig_nbformat": 4
 },
 "nbformat": 4,
 "nbformat_minor": 2
}

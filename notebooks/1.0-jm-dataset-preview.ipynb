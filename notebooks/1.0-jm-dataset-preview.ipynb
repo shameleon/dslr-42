{
 "cells": [
  {
   "cell_type": "markdown",
   "metadata": {},
   "source": [
    "# Training Dataset \n",
    "\n",
    "The training dataset is in dataset_train.csv file. \n",
    "\n",
    "## Preview\n",
    "Reading the csv file and looking at dataset."
   ]
  },
  {
   "cell_type": "code",
   "execution_count": null,
   "metadata": {
    "vscode": {
     "languageId": "shellscript"
    }
   },
   "outputs": [],
   "source": [
    "%pip install seaborn"
   ]
  },
  {
   "cell_type": "code",
   "execution_count": null,
   "metadata": {},
   "outputs": [],
   "source": [
    "import numpy as np\n",
    "import pandas as pd\n",
    "import seaborn as sns\n",
    "\n",
    "dataset_train = f'../datasets/dataset_train.csv'\n",
    "df = pd.read_csv(dataset_train)\n",
    "df.head()"
   ]
  },
  {
   "cell_type": "markdown",
   "metadata": {},
   "source": [
    "the `Hogwarts house` is the real outcome. We need to train our model with selected features and so that the predicted output `house` could later be compared to the real one. \n",
    "We need to inspect the features:\n",
    "- non numeric or biographic features (first and last names, birthday dates and best hand) might be enriching our model accuracy but are harder to sort out. we will inspect them in a second round of training\n",
    "- numeric values for columns Arithmancy to Flying, which represent 13 features is a good start"
   ]
  },
  {
   "cell_type": "markdown",
   "metadata": {},
   "source": [
    "First,we are focusing on features with numeric values.\n",
    "Selecting numeric columns, where dtypes are np.number\n",
    "There is total of 13 features that has numeric types, index is not counted.\n",
    "Standardization and handling missing data (NaN) will be required."
   ]
  },
  {
   "cell_type": "code",
   "execution_count": null,
   "metadata": {},
   "outputs": [],
   "source": [
    "df.select_dtypes(include=np.number).head(10)"
   ]
  },
  {
   "cell_type": "markdown",
   "metadata": {},
   "source": [
    "To describe statitics to dataset, we could have used pandas module describe() function\n",
    "```python\n",
    "df[df.columns[1:]].describe()\n",
    "```\n",
    "However, `pd.describe()` is a forbidden function and using it would be considered as cheating.\n",
    "\n",
    "We will use our own `describe.py` Python program launched from `jupyter notebook`.\n",
    "For that purpose, we can import the `os module`, to interact with the operating system\n",
    "and execute it, of course in our `virtual environment`"
   ]
  },
  {
   "cell_type": "code",
   "execution_count": null,
   "metadata": {},
   "outputs": [],
   "source": [
    "import os\n",
    "\n",
    "script_path = '../dslr/describe.py'\n",
    "dataset_train = f'../datasets/dataset_train.csv'\n",
    "os.system(f'../venv/bin/python {script_path} {dataset_train}')\n"
   ]
  },
  {
   "cell_type": "markdown",
   "metadata": {},
   "source": [
    "Missing values for numeric columns features "
   ]
  },
  {
   "cell_type": "code",
   "execution_count": null,
   "metadata": {},
   "outputs": [],
   "source": [
    "df[df.select_dtypes(include=np.number).columns[1:]].isna().sum()"
   ]
  },
  {
   "cell_type": "code",
   "execution_count": null,
   "metadata": {},
   "outputs": [],
   "source": [
    "df[df.select_dtypes(include=np.number).columns[1:]].notna().sum()"
   ]
  },
  {
   "cell_type": "markdown",
   "metadata": {},
   "source": [
    "### Plots\n",
    "\n",
    "Exploring these 13 features.\n",
    "\n",
    "    Only the meaningful variables should be included.\n",
    "    The independent variables should be independent of each other. \n",
    "    That is, the model should have little or no multicollinearity."
   ]
  },
  {
   "cell_type": "code",
   "execution_count": null,
   "metadata": {},
   "outputs": [],
   "source": [
    "df[df.select_dtypes(include=np.number).columns[1:]].columns.to_list()"
   ]
  },
  {
   "cell_type": "markdown",
   "metadata": {},
   "source": [
    "Plots can be of 3 kinds :\n",
    "- `distibution`, such as histograms\n",
    "- `categorical`, such as boxplots\n",
    "- `relational` such as scatter plot\n",
    "\n",
    "Using inline matplotlib module. (Affichage avec la bibliothèque graphique intégrée à Notebook)\n",
    "\n"
   ]
  },
  {
   "cell_type": "markdown",
   "metadata": {},
   "source": [
    "#### Histogram\n",
    "Distribution of a given features among Hogwarts houses.\n",
    "It looks like 2 houses (Griffindor and Slytherin) are not good at `Herbology`.\n",
    "`Herbology` features might be a good feature for our model beacuse it might allow a better classification."
   ]
  },
  {
   "cell_type": "code",
   "execution_count": null,
   "metadata": {},
   "outputs": [],
   "source": [
    "%matplotlib inline\n",
    "import matplotlib.pyplot as plt\n",
    "\n",
    "df_herb = df.groupby('Hogwarts House')['Herbology']\n",
    "df_herb.plot(kind='hist', alpha=0.4, legend=True)\n",
    "plt.show()"
   ]
  },
  {
   "cell_type": "markdown",
   "metadata": {},
   "source": [
    "#### boxplot\n",
    "\n",
    "A boxplot is a graphical and standardised way to display the distribution of data based on five key numbers:\n",
    "\n",
    "    “minimum”\n",
    "    1st Quartile (25th percentile)\n",
    "    median (2nd Quartile/ 50th Percentile)\n",
    "    3rd Quartile (75th percentile)\n",
    "    “maximum”"
   ]
  },
  {
   "cell_type": "code",
   "execution_count": null,
   "metadata": {},
   "outputs": [],
   "source": [
    "import seaborn as sns\n",
    "\n",
    "sns.boxplot(x='Hogwarts House', y='Astronomy', data=df)"
   ]
  },
  {
   "cell_type": "markdown",
   "metadata": {},
   "source": [
    "#### scatter plot"
   ]
  },
  {
   "cell_type": "code",
   "execution_count": null,
   "metadata": {},
   "outputs": [],
   "source": [
    "plt.scatter('Astronomy', 'Herbology', marker='.', alpha=0.3, data=df)\n",
    "plt.show()"
   ]
  },
  {
   "cell_type": "code",
   "execution_count": null,
   "metadata": {},
   "outputs": [],
   "source": [
    "sns.scatterplot(\n",
    " data=df, \n",
    " x=\"Astronomy\",\n",
    " y=\"Herbology\",\n",
    " hue=\"Hogwarts House\",\n",
    ")"
   ]
  },
  {
   "cell_type": "code",
   "execution_count": null,
   "metadata": {},
   "outputs": [],
   "source": [
    "sns.scatterplot(\n",
    " data=df, \n",
    " x=\"Astronomy\",\n",
    " y=\"Defense Against the Dark Arts\",\n",
    " hue=\"Hogwarts House\",\n",
    " legend='auto'\n",
    ")"
   ]
  },
  {
   "cell_type": "markdown",
   "metadata": {},
   "source": [
    "#### Pair Plot Matrix"
   ]
  },
  {
   "cell_type": "code",
   "execution_count": null,
   "metadata": {},
   "outputs": [],
   "source": [
    "target=\"Hogwarts House\"\n",
    "remove_list = ['Index', 'First Name', 'Last Name', 'Birthday', 'Best Hand']\n",
    "\n",
    "df_num = df.drop(remove_list, axis=1)\n",
    "features = df_num.keys()[1:].to_list()\n",
    "sns.pairplot(df_num,\n",
    "                x_vars=features,\n",
    "                y_vars=features,\n",
    "                hue=target,\n",
    "                corner=True\n",
    "            )"
   ]
  },
  {
   "cell_type": "markdown",
   "metadata": {},
   "source": [
    "#### boxplots"
   ]
  },
  {
   "cell_type": "code",
   "execution_count": null,
   "metadata": {},
   "outputs": [],
   "source": [
    "fig, axs = plt.subplots(4, 4, figsize=(20, 20))\n",
    "features = df[df.select_dtypes(include=np.number).columns[1:]].columns.to_list()\n",
    "for idx in range(13):\n",
    "    i = idx // 4\n",
    "    j = idx % 4\n",
    "    sns.boxplot(data=df, x=\"Hogwarts House\", ax=axs[i, j], y=features[idx])\n",
    "plt.show()"
   ]
  },
  {
   "cell_type": "code",
   "execution_count": null,
   "metadata": {},
   "outputs": [],
   "source": [
    "sns.boxplot(data=df, x=\"Hogwarts House\", y=\"Care of Magical Creatures\")"
   ]
  },
  {
   "cell_type": "markdown",
   "metadata": {},
   "source": [
    "Really bad features['Arithmancy', 'Care of Magical Creatures'] cannot classify well\n",
    "\n",
    "\"Defense Against the Dark Arts\" is anti-correlated with  \"Astronomy\".\n",
    "\n",
    "Thus we can start training our model with `10 features` : \n",
    "\n",
    "- [ ] 'Arithmancy',\n",
    "- [X] 'Astronomy',\n",
    "- [X] 'Herbology',\n",
    "- [ ] 'Defense Against the Dark Arts',\n",
    "- [X] 'Divination',\n",
    "- [X] 'Muggle Studies',\n",
    "- [X] 'Ancient Runes',\n",
    "- [X] 'History of Magic',\n",
    "- [X] 'Transfiguration',\n",
    "- [X] 'Potions',\n",
    "- [ ] 'Care of Magical Creatures',\n",
    "- [X] 'Charms',\n",
    "- [X] 'Flying'\n"
   ]
  }
 ],
 "metadata": {
  "kernelspec": {
   "display_name": "base",
   "language": "python",
   "name": "python3"
  },
  "language_info": {
   "codemirror_mode": {
    "name": "ipython",
    "version": 3
   },
   "file_extension": ".py",
   "mimetype": "text/x-python",
   "name": "python",
   "nbconvert_exporter": "python",
   "pygments_lexer": "ipython3",
   "version": "3.11.5"
  },
  "orig_nbformat": 4
 },
 "nbformat": 4,
 "nbformat_minor": 2
}

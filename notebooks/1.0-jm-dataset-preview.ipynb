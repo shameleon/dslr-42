{
 "cells": [
  {
   "cell_type": "markdown",
   "metadata": {},
   "source": [
    "# dataset preview \n",
    "\n",
    "dataset_train.csv file"
   ]
  },
  {
   "cell_type": "code",
   "execution_count": null,
   "metadata": {},
   "outputs": [],
   "source": [
    "import numpy as np\n",
    "import pandas as pd\n",
    "\n",
    "df = pd.read_csv(f'../datasets/dataset_train.csv')\n",
    "df.head()"
   ]
  },
  {
   "cell_type": "code",
   "execution_count": null,
   "metadata": {},
   "outputs": [],
   "source": [
    "df.tail()"
   ]
  },
  {
   "cell_type": "markdown",
   "metadata": {},
   "source": [
    "Selecting numeric columns. "
   ]
  },
  {
   "cell_type": "code",
   "execution_count": null,
   "metadata": {},
   "outputs": [],
   "source": [
    "df.select_dtypes(include=np.number)"
   ]
  },
  {
   "cell_type": "markdown",
   "metadata": {},
   "source": [
    "Describe statitics to dataset \n"
   ]
  },
  {
   "cell_type": "code",
   "execution_count": null,
   "metadata": {},
   "outputs": [],
   "source": [
    "df[df.columns[1:]].describe()"
   ]
  },
  {
   "cell_type": "markdown",
   "metadata": {},
   "source": [
    "### plots\n",
    "\n",
    "Affichage avec la bibliothèque graphique intégrée à Notebook\n",
    "\n",
    "```%matplotlib inline```"
   ]
  },
  {
   "cell_type": "code",
   "execution_count": null,
   "metadata": {},
   "outputs": [],
   "source": [
    "%matplotlib inline\n",
    "import matplotlib.pyplot as plt\n",
    "\n",
    "house = df.keys()[1]\n",
    "plt.scatter('Astronomy', 'Herbology', marker='.', alpha=0.3, data=df)\n",
    "plt.show()"
   ]
  },
  {
   "cell_type": "code",
   "execution_count": null,
   "metadata": {},
   "outputs": [],
   "source": [
    "group1_mean = df.groupby('Hogwarts House')['Astronomy'].mean()\n",
    "print(\"Astronomy\", group1_mean)\n",
    "\n",
    "group2_mean = df.groupby('Hogwarts House')['Herbology'].mean()\n",
    "print(\"Herbology\", group2_mean)"
   ]
  },
  {
   "cell_type": "code",
   "execution_count": null,
   "metadata": {},
   "outputs": [],
   "source": [
    "df_ast = df.groupby('Hogwarts House')['Astronomy']\n",
    "df_ast.plot(kind='hist', alpha=0.4, legend=True)"
   ]
  },
  {
   "cell_type": "code",
   "execution_count": null,
   "metadata": {},
   "outputs": [],
   "source": [
    "df_herb = df.groupby('Hogwarts House')['Herbology']\n",
    "df_herb.plot(kind='hist', alpha=0.4, legend=True)"
   ]
  },
  {
   "cell_type": "code",
   "execution_count": null,
   "metadata": {},
   "outputs": [],
   "source": [
    "\n",
    "# ### remove non num\n",
    "# fig, ax = plt.subplots(ncol=2, nrow=1, figsize=(10,4))\n",
    "# i = 0\n",
    "# courses = ['Astrology'] #, 'Herbology']\n",
    "# for course in courses:\n",
    "#     d_course = df.groupby('Hogwarts House')[course]\n",
    "#     ax[0].plot(d_course, alpha=0.4)\n",
    "#     i += 1\n",
    "# ax.legend()\n",
    "# plt.show()\n",
    "\n",
    "fig, ax = plt.subplots(ncol=1, nrow=1, figsize=(10,4))\n",
    "ax.plot.hist(column=df.groupby('Hogwarts House')['Astrology'], alpha=0.4)\n",
    "# ax[1].plot.hist(column=df.groupby('Hogwarts House')['Herbology'], alpha=0.4)\n",
    "ax.legend()\n",
    "plt.show()"
   ]
  }
 ],
 "metadata": {
  "kernelspec": {
   "display_name": "base",
   "language": "python",
   "name": "python3"
  },
  "language_info": {
   "codemirror_mode": {
    "name": "ipython",
    "version": 3
   },
   "file_extension": ".py",
   "mimetype": "text/x-python",
   "name": "python",
   "nbconvert_exporter": "python",
   "pygments_lexer": "ipython3",
   "version": "3.11.5"
  },
  "orig_nbformat": 4
 },
 "nbformat": 4,
 "nbformat_minor": 2
}

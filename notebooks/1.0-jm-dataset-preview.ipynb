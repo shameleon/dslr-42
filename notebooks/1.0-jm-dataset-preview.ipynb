{
 "cells": [
  {
   "cell_type": "markdown",
   "metadata": {},
   "source": [
    "# Training Dataset \n",
    "\n",
    "The training dataset is in dataset_train.csv file. \n",
    "\n",
    "- [Preview](#preview)\n",
    "    - [Reading data to pandas dataframe](#reading-data-to-pandas-dataframe)\n",
    "    - [Describing dataset with statistics](#describing-dataset-with-statistics)\n",
    "    - [Plots](#plots)\n",
    "        - [Histogram](#histogram)\n",
    "        - [Boxplot](#boxplot)\n",
    "        - [Scatter plot](#scatter-plot)\n",
    "        - [Pair Plot Matrix](#pair-plot-matrix)\n",
    "        - [Boxplot Matrix](#boxplot-matrix)\n",
    "        - [Conclusion : selecting features](#conclusion--selecting-features)\n",
    "    - [Conclusion : selecting features](#conclusion--selecting-features)\n",
    "\n",
    "- [Data preparation](#data-preparation)\n",
    "    - [Selecting features](#selecting-features)\n",
    "    - [Drop NaN containing rows](#drop-nan-containing-rows)\n",
    "    - [Standardization : z-score method](#standardization)\n",
    "    - [Data quality check](#data-quality)\n",
    "        - [Boxplot matrix standardized](#boxplot-matrix-standardized)\n",
    "        - [Heatmap](#heatmap-on-training-dataset)\n",
    "\n",
    "- [Exploring other features](#exploring-other-features)\n",
    "        - [Best Hand](#best-hand)\n"
   ]
  },
  {
   "cell_type": "markdown",
   "metadata": {},
   "source": [
    "## Preview\n",
    "\n",
    "Reading the csv file and looking at dataset.\n",
    "\n",
    "### Reading data to pandas dataframe"
   ]
  },
  {
   "cell_type": "code",
   "execution_count": null,
   "metadata": {
    "vscode": {
     "languageId": "shellscript"
    }
   },
   "outputs": [],
   "source": [
    "# %pip install seaborn"
   ]
  },
  {
   "cell_type": "code",
   "execution_count": null,
   "metadata": {},
   "outputs": [],
   "source": [
    "import numpy as np\n",
    "import pandas as pd\n",
    "import matplotlib.pyplot as plt\n",
    "import seaborn as sns\n",
    "\n",
    "dataset_train = f'../datasets/dataset_train.csv'\n",
    "df = pd.read_csv(dataset_train)\n",
    "df.head()"
   ]
  },
  {
   "cell_type": "markdown",
   "metadata": {},
   "source": [
    "The `Hogwarts house` is the real outcome. We need to train our model with selected features and so that the predicted output `house` could later be compared to the real one. \n",
    "We need to inspect the features:\n",
    "- non numeric or biographic features (first and last names, birthday dates and best hand) might be enriching our model accuracy but are harder to sort out. we will inspect them in a second round of training\n",
    "- numeric values for columns Arithmancy to Flying, which represent 13 features is a good start"
   ]
  },
  {
   "cell_type": "markdown",
   "metadata": {},
   "source": [
    "First, we will be focusing on `features` with `numeric values`.\n",
    "Selecting numeric columns, where dtypes are np.number\n",
    "There is total of `13 features` that has `numeric types`, index is not counted.\n",
    "Standardization and handling missing data (NaN) will be required."
   ]
  },
  {
   "cell_type": "code",
   "execution_count": null,
   "metadata": {},
   "outputs": [],
   "source": [
    "df.select_dtypes(include=np.number).head(10)"
   ]
  },
  {
   "cell_type": "markdown",
   "metadata": {},
   "source": [
    "### Describing dataset with statistics\n",
    "\n",
    "To describe statitics to dataset, we could have used pandas module describe() function\n",
    "```python\n",
    "df[df.columns[1:]].describe()\n",
    "```\n",
    "However, `pd.describe()` is a forbidden function and using it would be considered as cheating.\n",
    "\n",
    "We will use our own `describe.py` Python program launched from `jupyter notebook`.\n",
    "For that purpose, we can import the `os module`, to interact with the operating system\n",
    "and execute it, of course in our `virtual environment`"
   ]
  },
  {
   "cell_type": "code",
   "execution_count": null,
   "metadata": {},
   "outputs": [],
   "source": [
    "import os\n",
    "\n",
    "script_path = '../dslr/describe.py'\n",
    "dataset_train = f'../datasets/dataset_train.csv'\n",
    "os.system(f'../venv/bin/python {script_path} {dataset_train}')\n"
   ]
  },
  {
   "cell_type": "markdown",
   "metadata": {},
   "source": [
    "Missing values for numeric columns features "
   ]
  },
  {
   "cell_type": "code",
   "execution_count": null,
   "metadata": {},
   "outputs": [],
   "source": [
    "df[df.select_dtypes(include=np.number).columns[1:]].isna().sum()"
   ]
  },
  {
   "cell_type": "code",
   "execution_count": null,
   "metadata": {},
   "outputs": [],
   "source": [
    "df[df.select_dtypes(include=np.number).columns[1:]].notna().sum()"
   ]
  },
  {
   "cell_type": "markdown",
   "metadata": {},
   "source": [
    "### Plots\n",
    "\n",
    "Exploring these 13 features.\n",
    "\n",
    "    Only the meaningful variables should be included.\n",
    "    The independent variables should be independent of each other. \n",
    "    That is, the model should have little or no multicollinearity."
   ]
  },
  {
   "cell_type": "code",
   "execution_count": null,
   "metadata": {},
   "outputs": [],
   "source": [
    "df[df.select_dtypes(include=np.number).columns[1:]].columns.to_list()"
   ]
  },
  {
   "cell_type": "markdown",
   "metadata": {},
   "source": [
    "Plots can be of 3 kinds :\n",
    "- `distibution`, such as histograms\n",
    "- `categorical`, such as boxplots\n",
    "- `relational` such as scatter plot\n",
    "\n",
    "Using inline matplotlib module. (Affichage avec la bibliothèque graphique intégrée à Notebook)\n",
    "\n"
   ]
  },
  {
   "cell_type": "markdown",
   "metadata": {},
   "source": [
    "#### Histogram\n",
    "Distribution of a given features among Hogwarts houses.\n",
    "It looks like 2 houses (Griffindor and Slytherin) are not good at `Herbology`.\n",
    "`Herbology` features might be a good feature for our model beacuse it might allow a better classification."
   ]
  },
  {
   "cell_type": "code",
   "execution_count": null,
   "metadata": {},
   "outputs": [],
   "source": [
    "%matplotlib inline\n",
    "import matplotlib.pyplot as plt\n",
    "\n",
    "df_herb = df.groupby('Hogwarts House')['Herbology']\n",
    "df_herb.plot(kind='hist', alpha=0.4, legend=True)\n",
    "plt.show()"
   ]
  },
  {
   "cell_type": "markdown",
   "metadata": {},
   "source": [
    "#### Boxplot\n",
    "\n",
    "A `boxplot` is a graphical and standardised way to display the distribution of data based on five key numbers:\n",
    "\n",
    "- “minimum”\n",
    "- 1st Quartile (25th percentile)\n",
    "- median (2nd Quartile/ 50th Percentile)\n",
    "- 3rd Quartile (75th percentile)\n",
    "- “maximum”"
   ]
  },
  {
   "cell_type": "code",
   "execution_count": null,
   "metadata": {},
   "outputs": [],
   "source": [
    "import seaborn as sns\n",
    "\n",
    "sns.boxplot(x='Hogwarts House', y='Astronomy', data=df)"
   ]
  },
  {
   "cell_type": "markdown",
   "metadata": {},
   "source": [
    "#### Scatter plot"
   ]
  },
  {
   "cell_type": "code",
   "execution_count": null,
   "metadata": {},
   "outputs": [],
   "source": [
    "plt.scatter('Astronomy', 'Herbology', marker='.', alpha=0.3, data=df)\n",
    "plt.show()"
   ]
  },
  {
   "cell_type": "code",
   "execution_count": null,
   "metadata": {},
   "outputs": [],
   "source": [
    "sns.scatterplot(\n",
    " data=df, \n",
    " x=\"Astronomy\",\n",
    " y=\"Herbology\",\n",
    " hue=\"Hogwarts House\",\n",
    ")"
   ]
  },
  {
   "cell_type": "code",
   "execution_count": null,
   "metadata": {},
   "outputs": [],
   "source": [
    "sns.scatterplot(\n",
    " data=df, \n",
    " x=\"Astronomy\",\n",
    " y=\"Defense Against the Dark Arts\",\n",
    " hue=\"Hogwarts House\",\n",
    " legend='auto'\n",
    ")"
   ]
  },
  {
   "cell_type": "markdown",
   "metadata": {},
   "source": [
    "#### Pair Plot Matrix\n",
    "\n",
    "Lower triangle matrix with `Pair plots`."
   ]
  },
  {
   "cell_type": "code",
   "execution_count": null,
   "metadata": {},
   "outputs": [],
   "source": [
    "target=\"Hogwarts House\"\n",
    "remove_list = ['Index', 'First Name', 'Last Name', 'Birthday', 'Best Hand']\n",
    "\n",
    "df_num = df.drop(remove_list, axis=1)\n",
    "features = df_num.keys()[1:].to_list()\n",
    "sns.pairplot(df_num,\n",
    "                x_vars=features,\n",
    "                y_vars=features,\n",
    "                hue=target,\n",
    "                corner=True\n",
    "            )"
   ]
  },
  {
   "cell_type": "markdown",
   "metadata": {},
   "source": [
    "#### Boxplot Matrix"
   ]
  },
  {
   "cell_type": "code",
   "execution_count": null,
   "metadata": {},
   "outputs": [],
   "source": [
    "fig, axs = plt.subplots(4, 4, figsize=(20, 20))\n",
    "features = df[df.select_dtypes(include=np.number).columns[1:]].columns.to_list()\n",
    "for idx in range(13):\n",
    "    i = idx // 4\n",
    "    j = idx % 4\n",
    "    sns.boxplot(data=df, x=\"Hogwarts House\", ax=axs[i, j], y=features[idx])\n",
    "plt.show()"
   ]
  },
  {
   "cell_type": "code",
   "execution_count": null,
   "metadata": {},
   "outputs": [],
   "source": [
    "sns.boxplot(data=df, x=\"Hogwarts House\", y=\"Care of Magical Creatures\")"
   ]
  },
  {
   "cell_type": "markdown",
   "metadata": {},
   "source": [
    "### Conclusion : selecting features\n",
    "\n",
    "Two features['Arithmancy', 'Care of Magical Creatures'] cannot classify well, and \"Defense Against the Dark Arts\" is anti-correlated with  \"Astronomy\".\n",
    "\n",
    "These features will be dropped before model training."
   ]
  },
  {
   "cell_type": "markdown",
   "metadata": {},
   "source": [
    "## Data preparation\n",
    "\n",
    "Before training, we need to\n",
    "- Keep only `meaningful features`\n",
    "- Remove rows containg `NaN`\n",
    "- `Standardize` input data\n",
    "\n",
    "### Selecting features\n",
    "\n",
    "Selecting `Meaningful` and `independent` features.\n",
    "\n",
    "- pd.drop() : down to to 10 meaningful features, independent from each other\n",
    "\n",
    "Thus, we can start training our model with `10 numeric features`\n",
    "\n",
    "- [ ] 'Arithmancy',\n",
    "- [X] 'Astronomy',\n",
    "- [X] 'Herbology',\n",
    "- [ ] 'Defense Against the Dark Arts',\n",
    "- [X] 'Divination',\n",
    "- [X] 'Muggle Studies',\n",
    "- [X] 'Ancient Runes',\n",
    "- [X] 'History of Magic',\n",
    "- [X] 'Transfiguration',\n",
    "- [X] 'Potions',\n",
    "- [ ] 'Care of Magical Creatures',\n",
    "- [X] 'Charms',\n",
    "- [X] 'Flying'\n",
    "\n",
    "### Drop NaN containing rows\n",
    "\n",
    "- pd.dropna() : Dropping rows that contain NaN => down to 1333 rows"
   ]
  },
  {
   "cell_type": "code",
   "execution_count": null,
   "metadata": {},
   "outputs": [],
   "source": [
    "df_train= df.drop(df.columns[2:6], axis = 1)\n",
    "excluded_features = [\"Index\", \"Arithmancy\", \"Defense Against the Dark Arts\", \"Care of Magical Creatures\"]\n",
    "df_train.drop(excluded_features, inplace=True, axis=1)\n",
    "df_train.dropna(inplace=True)\n",
    "df_train.head()"
   ]
  },
  {
   "cell_type": "markdown",
   "metadata": {},
   "source": [
    "### Standardization\n",
    "\n",
    "Values are very different between features, they need to be scaled.\n",
    "\n",
    "`Standardizing input values` for each `feature`, applied along axis=1, using the `z-score method`.\n",
    "\n",
    "The `z-score` method (often called standardization) transforms the input into distribution with a `mean of 0`` and a `standard deviation of 1``.\n",
    "\n",
    "Each standardized value is computed by subtracting the mean of the corresponding feature then dividing by the quality deviation."
   ]
  },
  {
   "cell_type": "code",
   "execution_count": null,
   "metadata": {},
   "outputs": [],
   "source": [
    "def standardize(arr: pd.Series):\n",
    "    \"\"\"z-score method, using pandas std\"\"\"\n",
    "    mean = arr.mean()\n",
    "    std = arr.std()\n",
    "    return (arr - mean) / std\n",
    "\n",
    "df_train.iloc[:,1:] = df_train.iloc[:,1:].agg(lambda feature: standardize(feature))\n",
    "df_train.head()"
   ]
  },
  {
   "cell_type": "markdown",
   "metadata": {},
   "source": [
    "### Data quality \n",
    "\n",
    "#### Boxplot matrix standardized"
   ]
  },
  {
   "cell_type": "code",
   "execution_count": null,
   "metadata": {},
   "outputs": [],
   "source": [
    "%matplotlib inline\n",
    "import matplotlib.pyplot as plt\n",
    "\n",
    "fig, axs = plt.subplots(2, 5, figsize=(20, 20))\n",
    "features = df_train.columns[1:].to_list()\n",
    "for idx in range(10):\n",
    "    i = idx // 5\n",
    "    j = idx % 5\n",
    "    sns.boxplot(data=df_train, x='Hogwarts House', ax=axs[i, j], y=features[idx])\n",
    "plt.show()"
   ]
  },
  {
   "cell_type": "markdown",
   "metadata": {},
   "source": [
    "#### Heatmap on training dataset"
   ]
  },
  {
   "cell_type": "code",
   "execution_count": null,
   "metadata": {},
   "outputs": [],
   "source": [
    "df_heat = df_train.groupby([\"Hogwarts House\"]).mean()\n",
    "sns.heatmap(df_heat, cmap='YlGnBu')"
   ]
  },
  {
   "cell_type": "markdown",
   "metadata": {},
   "source": [
    "### Exploring other features\n",
    "\n",
    "#### Best Hand\n",
    "\n",
    "`Best Hand` feature is binomial, either 'Left\" or 'Right', there is no ambidextrious wizards."
   ]
  },
  {
   "cell_type": "code",
   "execution_count": null,
   "metadata": {},
   "outputs": [],
   "source": [
    "df['Best Hand'].unique()"
   ]
  },
  {
   "cell_type": "markdown",
   "metadata": {},
   "source": [
    "Is `Best Hand` significative for house determination ?\n"
   ]
  },
  {
   "cell_type": "code",
   "execution_count": null,
   "metadata": {},
   "outputs": [],
   "source": [
    "def standardize(arr: pd.Series):\n",
    "    \"\"\"z-score method, using pandas std\"\"\"\n",
    "    mean = arr.mean()\n",
    "    std = arr.std()\n",
    "    return (arr - mean) / std\n",
    "\n",
    "df3 = df.drop(df.columns[2:5], axis = 1)\n",
    "df3.iloc[:,3:] = df3.iloc[:,3:].agg(lambda feature: standardize(feature))\n",
    "df3.head()"
   ]
  },
  {
   "cell_type": "code",
   "execution_count": null,
   "metadata": {},
   "outputs": [],
   "source": [
    "df3 = df3.drop(df.columns[0], axis = 1).groupby([\"Hogwarts House\", \"Best Hand\"]).mean()\n",
    "df3.head(8)"
   ]
  },
  {
   "cell_type": "code",
   "execution_count": null,
   "metadata": {},
   "outputs": [],
   "source": [
    "sns.heatmap(df3, cmap='YlGnBu')"
   ]
  }
 ],
 "metadata": {
  "kernelspec": {
   "display_name": "base",
   "language": "python",
   "name": "python3"
  },
  "language_info": {
   "codemirror_mode": {
    "name": "ipython",
    "version": 3
   },
   "file_extension": ".py",
   "mimetype": "text/x-python",
   "name": "python",
   "nbconvert_exporter": "python",
   "pygments_lexer": "ipython3",
   "version": "3.10.0"
  },
  "orig_nbformat": 4
 },
 "nbformat": 4,
 "nbformat_minor": 2
}

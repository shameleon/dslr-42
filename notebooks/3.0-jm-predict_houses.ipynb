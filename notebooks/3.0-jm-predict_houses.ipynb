{
 "cells": [
  {
   "cell_type": "markdown",
   "metadata": {},
   "source": [
    "# "
   ]
  },
  {
   "cell_type": "markdown",
   "metadata": {},
   "source": [
    "# Predictions\n",
    "\n",
    "## Post-training analysis"
   ]
  },
  {
   "cell_type": "code",
   "execution_count": null,
   "metadata": {
    "vscode": {
     "languageId": "powershell"
    }
   },
   "outputs": [],
   "source": []
  },
  {
   "cell_type": "code",
   "execution_count": null,
   "metadata": {},
   "outputs": [],
   "source": [
    "import matplotlib as plt\n",
    "import numpy as np\n",
    "import pandas as pd\n",
    "import seaborn as sns\n",
    "\n",
    "dataset_train = f'../datasets/dataset_train.csv'\n",
    "df = pd.read_csv(dataset_train)\n",
    "df.drop(df.columns[2:6], inplace=True, axis = 1)\n",
    "excluded_features = [\"Arithmancy\", \"Defense Against the Dark Arts\", \"Care of Magical Creatures\"]\n",
    "df.drop(excluded_features, inplace=True, axis=1)\n",
    "df.dropna(inplace=True)\n",
    "df.head()"
   ]
  },
  {
   "cell_type": "markdown",
   "metadata": {},
   "source": []
  },
  {
   "cell_type": "code",
   "execution_count": null,
   "metadata": {},
   "outputs": [],
   "source": [
    "df_x_train = \n",
    "df_x_train"
   ]
  },
  {
   "cell_type": "markdown",
   "metadata": {},
   "source": []
  },
  {
   "cell_type": "code",
   "execution_count": null,
   "metadata": {},
   "outputs": [],
   "source": [
    "    print(self.x_train.shape, self.df_weights.shape)\n",
    "    z = np.dot(self.x_train, self.df_weights)\n",
    "    h = logreg.sigmoid(z)\n",
    "    df_pred_proba = pd.DataFrame(h, columns=self.houses)\n",
    "    df_pred_proba['Predicted outcome'] = df_pred_proba.idxmax(axis=1)\n",
    "    df_pred_proba['Real outcome'] = self.df_class.tolist()\n",
    "    accurate_pred = np.where(df_pred_proba['Predicted outcome']\n",
    "                                == df_pred_proba['Real outcome'], 1, 0)\n",
    "    df_pred_proba['Accurate pred.'] = accurate_pred"
   ]
  }
 ],
 "metadata": {
  "kernelspec": {
   "display_name": "local",
   "language": "python",
   "name": "python3"
  },
  "language_info": {
   "codemirror_mode": {
    "name": "ipython",
    "version": 3
   },
   "file_extension": ".py",
   "mimetype": "text/x-python",
   "name": "python",
   "nbconvert_exporter": "python",
   "pygments_lexer": "ipython3",
   "version": "3.10.12"
  },
  "orig_nbformat": 4
 },
 "nbformat": 4,
 "nbformat_minor": 2
}

{
 "cells": [
  {
   "cell_type": "markdown",
   "metadata": {},
   "source": [
    "# "
   ]
  },
  {
   "cell_type": "markdown",
   "metadata": {},
   "source": [
    "# Predictions\n",
    "\n",
    "## Post-training analysis"
   ]
  },
  {
   "cell_type": "markdown",
   "metadata": {
    "vscode": {
     "languageId": "powershell"
    }
   },
   "source": []
  },
  {
   "cell_type": "code",
   "execution_count": 7,
   "metadata": {},
   "outputs": [
    {
     "data": {
      "text/html": [
       "<div>\n",
       "<style scoped>\n",
       "    .dataframe tbody tr th:only-of-type {\n",
       "        vertical-align: middle;\n",
       "    }\n",
       "\n",
       "    .dataframe tbody tr th {\n",
       "        vertical-align: top;\n",
       "    }\n",
       "\n",
       "    .dataframe thead th {\n",
       "        text-align: right;\n",
       "    }\n",
       "</style>\n",
       "<table border=\"1\" class=\"dataframe\">\n",
       "  <thead>\n",
       "    <tr style=\"text-align: right;\">\n",
       "      <th></th>\n",
       "      <th>Astronomy</th>\n",
       "      <th>Herbology</th>\n",
       "      <th>Divination</th>\n",
       "      <th>Muggle Studies</th>\n",
       "      <th>Ancient Runes</th>\n",
       "      <th>History of Magic</th>\n",
       "      <th>Transfiguration</th>\n",
       "      <th>Potions</th>\n",
       "      <th>Charms</th>\n",
       "      <th>Flying</th>\n",
       "    </tr>\n",
       "  </thead>\n",
       "  <tbody>\n",
       "    <tr>\n",
       "      <th>0</th>\n",
       "      <td>-487.886086</td>\n",
       "      <td>5.727180</td>\n",
       "      <td>4.722</td>\n",
       "      <td>272.035831</td>\n",
       "      <td>532.484226</td>\n",
       "      <td>5.231058</td>\n",
       "      <td>1039.788281</td>\n",
       "      <td>3.790369</td>\n",
       "      <td>-232.79405</td>\n",
       "      <td>-26.89</td>\n",
       "    </tr>\n",
       "    <tr>\n",
       "      <th>1</th>\n",
       "      <td>-552.060507</td>\n",
       "      <td>-5.987446</td>\n",
       "      <td>-5.612</td>\n",
       "      <td>-487.340557</td>\n",
       "      <td>367.760303</td>\n",
       "      <td>4.107170</td>\n",
       "      <td>1058.944592</td>\n",
       "      <td>7.248742</td>\n",
       "      <td>-252.18425</td>\n",
       "      <td>-113.45</td>\n",
       "    </tr>\n",
       "    <tr>\n",
       "      <th>2</th>\n",
       "      <td>-366.076117</td>\n",
       "      <td>7.725017</td>\n",
       "      <td>6.140</td>\n",
       "      <td>664.893521</td>\n",
       "      <td>602.585284</td>\n",
       "      <td>3.555579</td>\n",
       "      <td>1088.088348</td>\n",
       "      <td>8.728531</td>\n",
       "      <td>-227.34265</td>\n",
       "      <td>30.42</td>\n",
       "    </tr>\n",
       "    <tr>\n",
       "      <th>3</th>\n",
       "      <td>697.742809</td>\n",
       "      <td>-6.497214</td>\n",
       "      <td>4.026</td>\n",
       "      <td>-537.001128</td>\n",
       "      <td>523.982133</td>\n",
       "      <td>-4.809637</td>\n",
       "      <td>920.391449</td>\n",
       "      <td>0.821911</td>\n",
       "      <td>-256.84675</td>\n",
       "      <td>200.64</td>\n",
       "    </tr>\n",
       "    <tr>\n",
       "      <th>4</th>\n",
       "      <td>436.775204</td>\n",
       "      <td>-7.820623</td>\n",
       "      <td>2.236</td>\n",
       "      <td>-444.262537</td>\n",
       "      <td>599.324514</td>\n",
       "      <td>-3.444377</td>\n",
       "      <td>937.434724</td>\n",
       "      <td>4.311066</td>\n",
       "      <td>-256.38730</td>\n",
       "      <td>157.98</td>\n",
       "    </tr>\n",
       "  </tbody>\n",
       "</table>\n",
       "</div>"
      ],
      "text/plain": [
       "    Astronomy  Herbology  Divination  Muggle Studies  Ancient Runes  \\\n",
       "0 -487.886086   5.727180       4.722      272.035831     532.484226   \n",
       "1 -552.060507  -5.987446      -5.612     -487.340557     367.760303   \n",
       "2 -366.076117   7.725017       6.140      664.893521     602.585284   \n",
       "3  697.742809  -6.497214       4.026     -537.001128     523.982133   \n",
       "4  436.775204  -7.820623       2.236     -444.262537     599.324514   \n",
       "\n",
       "   History of Magic  Transfiguration   Potions     Charms  Flying  \n",
       "0          5.231058      1039.788281  3.790369 -232.79405  -26.89  \n",
       "1          4.107170      1058.944592  7.248742 -252.18425 -113.45  \n",
       "2          3.555579      1088.088348  8.728531 -227.34265   30.42  \n",
       "3         -4.809637       920.391449  0.821911 -256.84675  200.64  \n",
       "4         -3.444377       937.434724  4.311066 -256.38730  157.98  "
      ]
     },
     "execution_count": 7,
     "metadata": {},
     "output_type": "execute_result"
    }
   ],
   "source": [
    "import matplotlib as plt\n",
    "import numpy as np\n",
    "import pandas as pd\n",
    "import seaborn as sns\n",
    "\n",
    "filepath = f'../datasets/dataset_train.csv'\n",
    "df = pd.read_csv(filepath)\n",
    "df.drop(df.columns[2:6], inplace=True, axis = 1)\n",
    "excluded_features = [\"Arithmancy\", \"Defense Against the Dark Arts\", \"Care of Magical Creatures\"]\n",
    "df.drop(excluded_features, inplace=True, axis=1)\n",
    "df.dropna(inplace=True)\n",
    "target = 'Hogwarts House'\n",
    "df_x_train = df[df.columns[2:]]\n",
    "df_class = df[target]\n",
    "df_x_train.head()"
   ]
  },
  {
   "cell_type": "markdown",
   "metadata": {},
   "source": []
  },
  {
   "cell_type": "code",
   "execution_count": 9,
   "metadata": {},
   "outputs": [
    {
     "ename": "ModuleNotFoundError",
     "evalue": "No module named 'dslr'",
     "output_type": "error",
     "traceback": [
      "\u001b[0;31m---------------------------------------------------------------------------\u001b[0m",
      "\u001b[0;31mModuleNotFoundError\u001b[0m                       Traceback (most recent call last)",
      "\u001b[1;32m/Users/Astarte/dslr-project/dslr-42/notebooks/3.0-jm-predict_houses.ipynb Cellule 6\u001b[0m line \u001b[0;36m1\n\u001b[0;32m----> <a href='vscode-notebook-cell:/Users/Astarte/dslr-project/dslr-42/notebooks/3.0-jm-predict_houses.ipynb#W5sZmlsZQ%3D%3D?line=0'>1</a>\u001b[0m \u001b[39mimport\u001b[39;00m \u001b[39mdslr\u001b[39;00m\n\u001b[1;32m      <a href='vscode-notebook-cell:/Users/Astarte/dslr-project/dslr-42/notebooks/3.0-jm-predict_houses.ipynb#W5sZmlsZQ%3D%3D?line=1'>2</a>\u001b[0m \u001b[39mfrom\u001b[39;00m \u001b[39mdslr\u001b[39;00m\u001b[39m.\u001b[39;00m\u001b[39mMultinomialTrainClass\u001b[39;00m \u001b[39mimport\u001b[39;00m LogRegTrain\n\u001b[1;32m      <a href='vscode-notebook-cell:/Users/Astarte/dslr-project/dslr-42/notebooks/3.0-jm-predict_houses.ipynb#W5sZmlsZQ%3D%3D?line=3'>4</a>\u001b[0m training \u001b[39m=\u001b[39m LogRegTrain(df_x_train, df_class)\n",
      "\u001b[0;31mModuleNotFoundError\u001b[0m: No module named 'dslr'"
     ]
    }
   ],
   "source": [
    "from dslr.MultinomialTrainClass import LogRegTrain\n",
    "\n",
    "training = LogRegTrain(df_x_train, df_class)\n",
    "training.train(0.1, 100)"
   ]
  },
  {
   "cell_type": "markdown",
   "metadata": {},
   "source": []
  },
  {
   "cell_type": "code",
   "execution_count": null,
   "metadata": {},
   "outputs": [],
   "source": [
    "    print(self.x_train.shape, self.df_weights.shape)\n",
    "    z = np.dot(self.x_train, self.df_weights)\n",
    "    h = logreg.sigmoid(z)\n",
    "    df_pred_proba = pd.DataFrame(h, columns=self.houses)\n",
    "    df_pred_proba['Predicted outcome'] = df_pred_proba.idxmax(axis=1)\n",
    "    df_pred_proba['Real outcome'] = self.df_class.tolist()\n",
    "    accurate_pred = np.where(df_pred_proba['Predicted outcome']\n",
    "                                == df_pred_proba['Real outcome'], 1, 0)\n",
    "    df_pred_proba['Accurate pred.'] = accurate_pred"
   ]
  }
 ],
 "metadata": {
  "kernelspec": {
   "display_name": "local",
   "language": "python",
   "name": "python3"
  },
  "language_info": {
   "codemirror_mode": {
    "name": "ipython",
    "version": 3
   },
   "file_extension": ".py",
   "mimetype": "text/x-python",
   "name": "python",
   "nbconvert_exporter": "python",
   "pygments_lexer": "ipython3",
   "version": "3.11.5"
  },
  "orig_nbformat": 4
 },
 "nbformat": 4,
 "nbformat_minor": 2
}

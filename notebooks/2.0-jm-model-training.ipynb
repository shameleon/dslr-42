{
 "cells": [
  {
   "cell_type": "markdown",
   "metadata": {},
   "source": [
    "First, we start by importing modules and reading the dataset to train to a pandas dataframe."
   ]
  },
  {
   "cell_type": "code",
   "execution_count": null,
   "metadata": {},
   "outputs": [],
   "source": [
    "import numpy as np\n",
    "import pandas as pd\n",
    "import matplotlib.pyplot as plt\n",
    "import seaborn as sns\n",
    "\n",
    "dataset_train = f'../datasets/dataset_train.csv'\n",
    "df = pd.read_csv(dataset_train)"
   ]
  },
  {
   "cell_type": "markdown",
   "metadata": {},
   "source": [
    "# Model training\n",
    "\n",
    "## Multinomial logistic regression\n",
    "\n",
    "When there is only 2 possible outcomes for the target, classification is ```binomial```.\n",
    "\n",
    "```Multinomial``` : The target variable has three or more possible classes.\n",
    "Our dataset has a discrete number, `4` of possible outcomes = ['Ravenclaw', 'Slytherin', 'Gryffindor', 'Hufflepuff'].\n",
    "\n",
    "```One-Vs-All Classification``` is a method of multi-class classification.\n",
    "Breaking down by splitting up the multi-class classification problem into `multiple binary classifier models`.\n",
    "\n",
    "For a One-vs-All multi-class classification, our dataset, which has k = 4 class labels, we will be using k = 4  ```binary classifiers```.\n"
   ]
  },
  {
   "cell_type": "code",
   "execution_count": null,
   "metadata": {},
   "outputs": [],
   "source": [
    "df['Hogwarts House'].unique().tolist()"
   ]
  },
  {
   "cell_type": "markdown",
   "metadata": {},
   "source": [
    "\n",
    "### Binary classifier\n",
    "\n",
    "For building our model, there will be a set of ```weights```, $W =(𝑤_1,𝑤_2,⋯,𝑤_𝑛)$, that is specific to each ```binary classifier```.\n",
    "\n",
    "For any given student, characterized by 𝑛 features, the Inputs values are $X =(𝑥_1,𝑥_2,⋯,𝑥_𝑛)$.\n",
    "\n",
    "The ```dot product``` of ```X``` inputs and ```W``` weights, plus 𝑏 being the bias parameter. will be ```z```.\n",
    "\n",
    "$$\n",
    "\\mathbf{z} = 𝑏 + 𝑥_1.𝑤_1 + 𝑥_2.𝑤_2 + ... +𝑥_n.𝑤_n\n",
    "$$\n",
    "\n",
    "$$\n",
    "\\mathbf{z} = b + \\mathbf{X} \\cdot \\mathbf{W}\n",
    "$$\n",
    "\n",
    "with\n",
    "$$\n",
    "\\mathbf{X} \\cdot \\mathbf{W} = \\sum_{i=1}^n 𝑥_i 𝑤_i\n",
    "$$\n",
    "\n",
    "### Sigmoid function\n",
    "\n",
    "The ```sigmoid function``` also called ```logistic function```  can map input values from a wide range into a limited interval.\n",
    "\n",
    "$Sigmoid function$\n",
    "$$ y = g(z) = \\frac{1}{1 + e^{-z}} = \\frac{e^z}{1 + e^z}$$\n",
    "\n",
    "This formula represents the `probability of observing the output y = 1`` of a Bernoulli random variable. This variable is either 1 or 0 :\n",
    "$$\n",
    "y \\in \\{0,1\\}\n",
    "$$\n",
    "\n",
    "The ```sigmoid function``` will transform ```z``` into a value between 0 and 1.\n",
    "The resulting ```predicted output``` is a probability that a student is meeting the ```binary classifier``` outcome.\n",
    "\n",
    "$$\n",
    "y = g(z) = \\frac{1}{1 + e^{-z}} = \\frac{1}{1 + e^{-(X.W + 𝑏)}}\n",
    "$$\n",
    "\n",
    "Since we have 4 possible outcomes,  4 ```binary classifiers``` [(Gryffindor, not Gryffindor), (Ravenclaw, not Ravenclaw), ...],\n",
    "4 set of weights are needed. \n"
   ]
  },
  {
   "cell_type": "markdown",
   "metadata": {},
   "source": [
    "## Pre-training data processing\n",
    "\n",
    "- pd.drop() : down to to 10 meaningful features, independent from each other\n",
    "- pd.dropna() : Dropping rows that contain NaN => down to 1333 rows\n",
    "- standardize with z-score method"
   ]
  },
  {
   "cell_type": "code",
   "execution_count": null,
   "metadata": {},
   "outputs": [],
   "source": [
    "\n",
    "df.drop(df.columns[2:6], inplace=True, axis = 1)\n",
    "excluded_features = [\"Arithmancy\", \"Defense Against the Dark Arts\", \"Care of Magical Creatures\"]\n",
    "df.drop(excluded_features, inplace=True, axis=1)\n",
    "df.dropna(inplace=True)\n",
    "df.head()"
   ]
  },
  {
   "cell_type": "code",
   "execution_count": null,
   "metadata": {},
   "outputs": [],
   "source": [
    "def standardize(arr: pd.Series):\n",
    "    \"\"\"z-score method, using pandas std\"\"\"\n",
    "    mean = arr.mean()\n",
    "    std = arr.std()\n",
    "    return (arr - mean) / std\n",
    "\n",
    "\n",
    "df_class = df['Hogwarts House'].copy(deep=True)\n",
    "df_train= df.drop(df.columns[:2], axis = 1)\n",
    "df_std_train = df_train.agg(lambda feature: standardize(feature))\n",
    "df_std_train.head()\n"
   ]
  },
  {
   "cell_type": "code",
   "execution_count": null,
   "metadata": {},
   "outputs": [],
   "source": [
    "df_std_train['Real Output'] = df_class\n",
    "df_std_train.head()"
   ]
  },
  {
   "cell_type": "markdown",
   "metadata": {},
   "source": [
    "### Example for One-vs-all :\n",
    "\n",
    "Actual class y set to 1 or 0 (respectively y or not y)\n",
    "- 1 = is in house,\n",
    "- 0 = is in another house"
   ]
  },
  {
   "cell_type": "code",
   "execution_count": null,
   "metadata": {},
   "outputs": [],
   "source": [
    "houses = df['Hogwarts House'].unique()\n",
    "houses[0]\n",
    "# gives bool : df['Hogwarts House'] == houses[0]\n",
    "y_actual = np.where(df['Hogwarts House'] == houses[0], 1, 0)\n",
    "y_actual"
   ]
  },
  {
   "cell_type": "markdown",
   "metadata": {},
   "source": [
    "## Model training\n",
    "\n",
    "for each `classifier` : \n",
    "- Input values of 𝑛 features $\\mathbf{X}  =(𝑥_1,𝑥_2,⋯,𝑥_𝑛)$ \n",
    "- Weights $\\mathbf{W} =(𝑤_1,𝑤_2,⋯,𝑤_𝑛)$\n",
    "- 𝑏, the bias parameter.\n",
    "\n",
    "so that $$\\mathbf{z}= 𝑏 + 𝑥_1.𝑤_1 + 𝑥_2.𝑤_2 + ... +𝑥_n.𝑤_n = 𝑏 + \\mathbf{X} \\cdot \\mathbf{W} = b + \\sum_{i=1}^n 𝑥_i 𝑤_i$$,\n",
    "\n",
    "$\\mathbf{z} = b + \\mathbf{X} \\cdot \\mathbf{W} =$ is feeding the logistic function 𝑔, and projects the output as the predicted probability of 𝑦 being equal to 1.\n",
    "\n",
    "$$\n",
    "\\mathbf{y} = g(\\mathbf{z}) = \\frac{1}{1 + e^{-\\mathbf{z}}} = \\frac{1}{1 + e^{-(𝑏 + \\mathbf{X} \\cdot \\mathbf{W})}}\n",
    "$$\n",
    "\n",
    "### Input : X Array\n",
    "\n",
    "a column of ones is added to x_train array so that the bias is multiplied by 1.\n",
    "\n",
    "$$\n",
    "\\begin{pmatrix}\n",
    "\\ 1 \\\\\n",
    "\\ x_1 \\\\\n",
    "\\ 𝑥_2 \\\\\n",
    "\\ ⋯ \\\\\n",
    "\\ 𝑥_𝑛 \\\\\n",
    "\\end{pmatrix}\n",
    "$$\n",
    "\n",
    "#### Weights\n",
    "\n",
    "Transposed matrix of zeros, \n",
    "Shape : (one intercept + number of features) x (number of k classifiers)\n",
    "\n",
    "$$\n",
    "\\begin{pmatrix}\n",
    "\\ b & \\ 𝑤_1 & \\  𝑤_2 & \\ ⋯ & \\ 𝑤_𝑛 \\\\ \n",
    "\\end{pmatrix}\n",
    "$$\n",
    "\n",
    "### Dot product for one output \n",
    "$$\n",
    "\\mathbf{z} = \n",
    "\\begin{pmatrix}\n",
    "\\ 1 \\\\\n",
    "\\ x_1 \\\\\n",
    "\\ 𝑥_2 \\\\\n",
    "\\ ⋯ \\\\\n",
    "\\ 𝑥_𝑛 \\\\\n",
    "\\end{pmatrix}\n",
    "\\cdot\n",
    "\\begin{pmatrix}\n",
    "\\ b & \\ 𝑤_1 & \\  𝑤_2 & \\ ⋯ & \\ 𝑤_𝑛 \\\\ \n",
    "\\end{pmatrix}\n",
    "=  𝑏 + 𝑥_1.𝑤_1 + 𝑥_2.𝑤_2 + ... +𝑥_n.𝑤_n\n",
    "$$"
   ]
  },
  {
   "cell_type": "markdown",
   "metadata": {},
   "source": [
    "### Intializing Model\n",
    "\n",
    "- Standardized data in a numpy array \n",
    "- a column of ones added to the left for the `ìntercept` or bias\n"
   ]
  },
  {
   "cell_type": "code",
   "execution_count": null,
   "metadata": {},
   "outputs": [],
   "source": [
    "\"\"\" Parameters : unstandardized data to train without NaN, output \"\"\"\n",
    "df_std_train = df_train.agg(lambda course: standardize(course))\n",
    "x_train_std = np.array(df_std_train)\n",
    "ones = np.ones((len(x_train_std), 1), dtype=float)\n",
    "x_train = np.concatenate((ones, x_train_std), axis=1)\n",
    "features = df_std_train.columns.tolist()\n",
    "df_class = df['Hogwarts House'].copy(deep=True)\n",
    "houses = df_class.unique().tolist()\n",
    "w_indexes = df_std_train[:-1].columns.insert(0, ['Intercept'])\n",
    "df_weights = pd.DataFrame(columns=houses, index=w_indexes).fillna(0)\n",
    "df_weights.head(11)"
   ]
  },
  {
   "cell_type": "code",
   "execution_count": null,
   "metadata": {},
   "outputs": [],
   "source": [
    "df_std_train.head()"
   ]
  },
  {
   "cell_type": "markdown",
   "metadata": {},
   "source": [
    "# Training one-vs-all"
   ]
  },
  {
   "cell_type": "code",
   "execution_count": null,
   "metadata": {},
   "outputs": [],
   "source": [
    "def sigmoid(arr: np.ndarray) -> np.ndarray:\n",
    "    return 1 / (1 + np.exp(-arr))\n",
    "\n",
    "def update_weight_loss(weights, learning_rate, grad_desc):\n",
    "    return weights - learning_rate * grad_desc\n",
    "\n",
    "def train_one_vs_all(house, df_class, features, x_train, learning_rate, epochs):\n",
    "    \"\"\"\n",
    "    loss_iter = LogRegTrain.loss_function(y_actual, h_pred)\n",
    "    gradient = np.dot(x_train.T, (h_pred - y_actual))\n",
    "    \"\"\"\n",
    "    y_actual = np.where(df_class == house, 1, 0)\n",
    "    weights = np.ones(len(features) + 1).T\n",
    "    for iter in range(epochs):\n",
    "        z_output = np.dot(x_train, weights)\n",
    "        h_pred = sigmoid(z_output)\n",
    "        tmp = np.dot(x_train.T, (h_pred - y_actual))\n",
    "        grad_desc = tmp / y_actual.shape[0]\n",
    "        weights = update_weight_loss(weights, learning_rate, grad_desc)\n",
    "    return weights\n",
    "\n",
    "\n",
    "learning_rate = 0.1\n",
    "epochs = 1000\n",
    "for house in houses:\n",
    "    weights = train_one_vs_all(house, df_class, features, x_train, learning_rate, epochs)\n",
    "    df_weights[house] = weights\n",
    "print(\"alpha = \", learning_rate, \"  iterations =\", epochs)\n",
    "df_weights.head(11)"
   ]
  },
  {
   "cell_type": "markdown",
   "metadata": {},
   "source": [
    "    We have the parameters (biases and weights) for our logistic regression model !"
   ]
  }
 ],
 "metadata": {
  "kernelspec": {
   "display_name": "venv",
   "language": "python",
   "name": "python3"
  },
  "language_info": {
   "codemirror_mode": {
    "name": "ipython",
    "version": 3
   },
   "file_extension": ".py",
   "mimetype": "text/x-python",
   "name": "python",
   "nbconvert_exporter": "python",
   "pygments_lexer": "ipython3",
   "version": "3.11.5"
  },
  "orig_nbformat": 4
 },
 "nbformat": 4,
 "nbformat_minor": 2
}

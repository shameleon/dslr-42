{
 "cells": [
  {
   "cell_type": "markdown",
   "metadata": {},
   "source": [
    "# Model training\n",
    "\n",
    "## Multivariate logistic regression\n",
    "\n",
    "## Trainset data\n",
    "- down to to 10 meaningful features, independent from each other\n",
    "- standardizing values for each feature"
   ]
  },
  {
   "cell_type": "code",
   "execution_count": 4,
   "metadata": {},
   "outputs": [
    {
     "data": {
      "text/html": [
       "<div>\n",
       "<style scoped>\n",
       "    .dataframe tbody tr th:only-of-type {\n",
       "        vertical-align: middle;\n",
       "    }\n",
       "\n",
       "    .dataframe tbody tr th {\n",
       "        vertical-align: top;\n",
       "    }\n",
       "\n",
       "    .dataframe thead th {\n",
       "        text-align: right;\n",
       "    }\n",
       "</style>\n",
       "<table border=\"1\" class=\"dataframe\">\n",
       "  <thead>\n",
       "    <tr style=\"text-align: right;\">\n",
       "      <th></th>\n",
       "      <th>Index</th>\n",
       "      <th>Hogwarts House</th>\n",
       "      <th>Astronomy</th>\n",
       "      <th>Herbology</th>\n",
       "      <th>Divination</th>\n",
       "      <th>Muggle Studies</th>\n",
       "      <th>Ancient Runes</th>\n",
       "      <th>History of Magic</th>\n",
       "      <th>Transfiguration</th>\n",
       "      <th>Potions</th>\n",
       "      <th>Charms</th>\n",
       "      <th>Flying</th>\n",
       "    </tr>\n",
       "  </thead>\n",
       "  <tbody>\n",
       "    <tr>\n",
       "      <th>0</th>\n",
       "      <td>0</td>\n",
       "      <td>Ravenclaw</td>\n",
       "      <td>-487.886086</td>\n",
       "      <td>5.727180</td>\n",
       "      <td>4.722</td>\n",
       "      <td>272.035831</td>\n",
       "      <td>532.484226</td>\n",
       "      <td>5.231058</td>\n",
       "      <td>1039.788281</td>\n",
       "      <td>3.790369</td>\n",
       "      <td>-232.79405</td>\n",
       "      <td>-26.89</td>\n",
       "    </tr>\n",
       "    <tr>\n",
       "      <th>1</th>\n",
       "      <td>1</td>\n",
       "      <td>Slytherin</td>\n",
       "      <td>-552.060507</td>\n",
       "      <td>-5.987446</td>\n",
       "      <td>-5.612</td>\n",
       "      <td>-487.340557</td>\n",
       "      <td>367.760303</td>\n",
       "      <td>4.107170</td>\n",
       "      <td>1058.944592</td>\n",
       "      <td>7.248742</td>\n",
       "      <td>-252.18425</td>\n",
       "      <td>-113.45</td>\n",
       "    </tr>\n",
       "    <tr>\n",
       "      <th>2</th>\n",
       "      <td>2</td>\n",
       "      <td>Ravenclaw</td>\n",
       "      <td>-366.076117</td>\n",
       "      <td>7.725017</td>\n",
       "      <td>6.140</td>\n",
       "      <td>664.893521</td>\n",
       "      <td>602.585284</td>\n",
       "      <td>3.555579</td>\n",
       "      <td>1088.088348</td>\n",
       "      <td>8.728531</td>\n",
       "      <td>-227.34265</td>\n",
       "      <td>30.42</td>\n",
       "    </tr>\n",
       "    <tr>\n",
       "      <th>3</th>\n",
       "      <td>3</td>\n",
       "      <td>Gryffindor</td>\n",
       "      <td>697.742809</td>\n",
       "      <td>-6.497214</td>\n",
       "      <td>4.026</td>\n",
       "      <td>-537.001128</td>\n",
       "      <td>523.982133</td>\n",
       "      <td>-4.809637</td>\n",
       "      <td>920.391449</td>\n",
       "      <td>0.821911</td>\n",
       "      <td>-256.84675</td>\n",
       "      <td>200.64</td>\n",
       "    </tr>\n",
       "    <tr>\n",
       "      <th>4</th>\n",
       "      <td>4</td>\n",
       "      <td>Gryffindor</td>\n",
       "      <td>436.775204</td>\n",
       "      <td>-7.820623</td>\n",
       "      <td>2.236</td>\n",
       "      <td>-444.262537</td>\n",
       "      <td>599.324514</td>\n",
       "      <td>-3.444377</td>\n",
       "      <td>937.434724</td>\n",
       "      <td>4.311066</td>\n",
       "      <td>-256.38730</td>\n",
       "      <td>157.98</td>\n",
       "    </tr>\n",
       "  </tbody>\n",
       "</table>\n",
       "</div>"
      ],
      "text/plain": [
       "   Index Hogwarts House   Astronomy  Herbology  Divination  Muggle Studies  \\\n",
       "0      0      Ravenclaw -487.886086   5.727180       4.722      272.035831   \n",
       "1      1      Slytherin -552.060507  -5.987446      -5.612     -487.340557   \n",
       "2      2      Ravenclaw -366.076117   7.725017       6.140      664.893521   \n",
       "3      3     Gryffindor  697.742809  -6.497214       4.026     -537.001128   \n",
       "4      4     Gryffindor  436.775204  -7.820623       2.236     -444.262537   \n",
       "\n",
       "   Ancient Runes  History of Magic  Transfiguration   Potions     Charms  \\\n",
       "0     532.484226          5.231058      1039.788281  3.790369 -232.79405   \n",
       "1     367.760303          4.107170      1058.944592  7.248742 -252.18425   \n",
       "2     602.585284          3.555579      1088.088348  8.728531 -227.34265   \n",
       "3     523.982133         -4.809637       920.391449  0.821911 -256.84675   \n",
       "4     599.324514         -3.444377       937.434724  4.311066 -256.38730   \n",
       "\n",
       "   Flying  \n",
       "0  -26.89  \n",
       "1 -113.45  \n",
       "2   30.42  \n",
       "3  200.64  \n",
       "4  157.98  "
      ]
     },
     "execution_count": 4,
     "metadata": {},
     "output_type": "execute_result"
    }
   ],
   "source": [
    "import numpy as np\n",
    "import pandas as pd\n",
    "import seaborn as sns\n",
    "\n",
    "dataset_train = f'../datasets/dataset_train.csv'\n",
    "df = pd.read_csv(dataset_train)\n",
    "df.drop(df.columns[2:6], inplace=True, axis = 1)\n",
    "excluded_features = [\"Arithmancy\", \"Defense Against the Dark Arts\", \"Care of Magical Creatures\"]\n",
    "df.drop(excluded_features, inplace=True, axis=1)\n",
    "df.head()"
   ]
  },
  {
   "cell_type": "markdown",
   "metadata": {},
   "source": [
    "Dropping rows that contain NaN"
   ]
  },
  {
   "cell_type": "code",
   "execution_count": 7,
   "metadata": {},
   "outputs": [],
   "source": [
    "df.dropna(inplace=True)"
   ]
  },
  {
   "cell_type": "markdown",
   "metadata": {},
   "source": [
    "Standardization\n",
    "```df_features```\n",
    "apply along axis"
   ]
  },
  {
   "cell_type": "code",
   "execution_count": 9,
   "metadata": {},
   "outputs": [
    {
     "ename": "TypeError",
     "evalue": "Could not convert SlytherinRavenclawGryffindorGryffindorSlytherinGryffindorHufflepuffHufflepuffHufflepuffHufflepuffSlytherinRavenclawRavenclawGryffindorGryffindorRavenclawHufflepuffGryffindorRavenclawHufflepuffRavenclawHufflepuffSlytherinHufflepuffGryffindorHufflepuffHufflepuffGryffindorRavenclawHufflepuffRavenclawHufflepuffHufflepuffSlytherinGryffindorHufflepuffRavenclawHufflepuffRavenclawRavenclawHufflepuffSlytherinGryffindorGryffindorSlytherinSlytherinGryffindorSlytherinSlytherinHufflepuffGryffindorSlytherinRavenclawHufflepuffHufflepuffHufflepuffHufflepuffRavenclawGryffindorHufflepuffRavenclawSlytherinHufflepuffRavenclawHufflepuffRavenclawRavenclawHufflepuffHufflepuffHufflepuffGryffindorHufflepuffHufflepuffHufflepuffHufflepuffGryffindorGryffindorGryffindorRavenclawHufflepuffHufflepuffGryffindorRavenclawSlytherinHufflepuffGryffindorHufflepuffRavenclawHufflepuffRavenclawGryffindorSlytherinHufflepuffSlytherinSlytherinRavenclawRavenclawGryffindorRavenclawHufflepuffHufflepuffRavenclawRavenclawHufflepuffSlytherinHufflepuffSlytherinHufflepuffSlytherinGryffindorSlytherinHufflepuffRavenclawRavenclawRavenclawHufflepuffGryffindorRavenclawGryffindorHufflepuffGryffindorSlytherinGryffindorGryffindorGryffindorRavenclawGryffindorGryffindorSlytherinSlytherinHufflepuffGryffindorHufflepuffRavenclawHufflepuffHufflepuffHufflepuffSlytherinRavenclawHufflepuffHufflepuffHufflepuffGryffindorRavenclawGryffindorGryffindorRavenclawHufflepuffGryffindorHufflepuffRavenclawRavenclawHufflepuffRavenclawSlytherinRavenclawHufflepuffHufflepuffSlytherinHufflepuffSlytherinHufflepuffHufflepuffSlytherinHufflepuffRavenclawGryffindorSlytherinRavenclawRavenclawRavenclawGryffindorHufflepuffHufflepuffHufflepuffRavenclawHufflepuffGryffindorSlytherinRavenclawHufflepuffGryffindorRavenclawGryffindorGryffindorHufflepuffGryffindorGryffindorRavenclawHufflepuffGryffindorHufflepuffHufflepuffHufflepuffGryffindorRavenclawHufflepuffSlytherinRavenclawHufflepuffHufflepuffHufflepuffGryffindorHufflepuffHufflepuffHufflepuffHufflepuffGryffindorHufflepuffGryffindorRavenclawRavenclawSlytherinSlytherinGryffindorHufflepuffSlytherinSlytherinGryffindorRavenclawHufflepuffRavenclawGryffindorSlytherinSlytherinRavenclawHufflepuffRavenclawGryffindorRavenclawHufflepuffHufflepuffRavenclawRavenclawHufflepuffHufflepuffGryffindorHufflepuffRavenclawHufflepuffHufflepuffRavenclawRavenclawGryffindorHufflepuffHufflepuffGryffindorGryffindorHufflepuffHufflepuffGryffindorGryffindorGryffindorRavenclawHufflepuffGryffindorHufflepuffSlytherinHufflepuffHufflepuffGryffindorSlytherinRavenclawHufflepuffSlytherinHufflepuffSlytherinHufflepuffGryffindorGryffindorRavenclawSlytherinSlytherinHufflepuffHufflepuffSlytherinSlytherinGryffindorRavenclawSlytherinRavenclawSlytherinHufflepuffHufflepuffRavenclawRavenclawSlytherinRavenclawGryffindorRavenclawSlytherinRavenclawSlytherinSlytherinRavenclawHufflepuffHufflepuffGryffindorRavenclawGryffindorGryffindorHufflepuffGryffindorSlytherinHufflepuffRavenclawGryffindorHufflepuffRavenclawRavenclawSlytherinRavenclawHufflepuffHufflepuffRavenclawHufflepuffHufflepuffHufflepuffHufflepuffRavenclawHufflepuffSlytherinRavenclawHufflepuffSlytherinHufflepuffGryffindorHufflepuffRavenclawHufflepuffHufflepuffSlytherinHufflepuffHufflepuffRavenclawRavenclawGryffindorSlytherinRavenclawGryffindorSlytherinHufflepuffRavenclawHufflepuffRavenclawSlytherinGryffindorSlytherinGryffindorRavenclawHufflepuffSlytherinHufflepuffSlytherinHufflepuffHufflepuffHufflepuffGryffindorHufflepuffRavenclawGryffindorRavenclawHufflepuffHufflepuffHufflepuffRavenclawRavenclawSlytherinRavenclawHufflepuffRavenclawRavenclawRavenclawRavenclawHufflepuffGryffindorRavenclawGryffindorHufflepuffSlytherinHufflepuffSlytherinRavenclawGryffindorHufflepuffGryffindorRavenclawHufflepuffGryffindorGryffindorHufflepuffGryffindorRavenclawGryffindorHufflepuffHufflepuffRavenclawHufflepuffHufflepuffGryffindorRavenclawHufflepuffHufflepuffGryffindorSlytherinHufflepuffRavenclawGryffindorHufflepuffGryffindorHufflepuffSlytherinHufflepuffHufflepuffSlytherinGryffindorRavenclawRavenclawGryffindorHufflepuffHufflepuffHufflepuffRavenclawGryffindorRavenclawHufflepuffHufflepuffRavenclawHufflepuffGryffindorHufflepuffGryffindorRavenclawGryffindorRavenclawHufflepuffGryffindorSlytherinGryffindorSlytherinRavenclawGryffindorGryffindorGryffindorRavenclawHufflepuffGryffindorRavenclawRavenclawHufflepuffGryffindorRavenclawSlytherinSlytherinGryffindorRavenclawRavenclawSlytherinHufflepuffGryffindorHufflepuffGryffindorHufflepuffHufflepuffHufflepuffRavenclawGryffindorHufflepuffHufflepuffHufflepuffRavenclawRavenclawHufflepuffHufflepuffHufflepuffRavenclawHufflepuffGryffindorHufflepuffSlytherinGryffindorGryffindorHufflepuffGryffindorRavenclawHufflepuffSlytherinSlytherinRavenclawRavenclawSlytherinHufflepuffRavenclawRavenclawHufflepuffGryffindorRavenclawRavenclawRavenclawSlytherinGryffindorRavenclawRavenclawRavenclawRavenclawSlytherinHufflepuffRavenclawRavenclawSlytherinHufflepuffGryffindorGryffindorRavenclawGryffindorHufflepuffSlytherinGryffindorHufflepuffGryffindorGryffindorHufflepuffHufflepuffGryffindorRavenclawRavenclawHufflepuffRavenclawRavenclawRavenclawHufflepuffHufflepuffSlytherinSlytherinRavenclawSlytherinHufflepuffHufflepuffHufflepuffSlytherinHufflepuffSlytherinHufflepuffRavenclawGryffindorGryffindorHufflepuffSlytherinSlytherinRavenclawHufflepuffSlytherinHufflepuffHufflepuffHufflepuffGryffindorGryffindorSlytherinRavenclawRavenclawHufflepuffGryffindorRavenclawHufflepuffSlytherinRavenclawRavenclawHufflepuffRavenclawSlytherinSlytherinHufflepuffRavenclawRavenclawRavenclawRavenclawRavenclawSlytherinRavenclawGryffindorRavenclawRavenclawHufflepuffHufflepuffRavenclawRavenclawGryffindorHufflepuffGryffindorGryffindorRavenclawRavenclawRavenclawSlytherinSlytherinHufflepuffRavenclawGryffindorRavenclawSlytherinHufflepuffHufflepuffSlytherinGryffindorRavenclawRavenclawRavenclawSlytherinHufflepuffSlytherinGryffindorGryffindorHufflepuffHufflepuffRavenclawGryffindorRavenclawRavenclawSlytherinHufflepuffRavenclawHufflepuffRavenclawHufflepuffHufflepuffGryffindorGryffindorHufflepuffHufflepuffGryffindorHufflepuffSlytherinRavenclawHufflepuffHufflepuffHufflepuffSlytherinHufflepuffSlytherinRavenclawGryffindorRavenclawGryffindorSlytherinHufflepuffRavenclawSlytherinRavenclawSlytherinHufflepuffHufflepuffRavenclawSlytherinRavenclawGryffindorRavenclawHufflepuffGryffindorHufflepuffRavenclawGryffindorRavenclawRavenclawRavenclawSlytherinHufflepuffRavenclawRavenclawRavenclawGryffindorHufflepuffGryffindorRavenclawSlytherinHufflepuffSlytherinHufflepuffRavenclawRavenclawRavenclawGryffindorHufflepuffSlytherinRavenclawSlytherinRavenclawHufflepuffRavenclawRavenclawGryffindorRavenclawRavenclawHufflepuffHufflepuffGryffindorHufflepuffRavenclawRavenclawGryffindorHufflepuffSlytherinGryffindorHufflepuffSlytherinHufflepuffHufflepuffRavenclawRavenclawHufflepuffSlytherinSlytherinSlytherinRavenclawGryffindorGryffindorRavenclawGryffindorHufflepuffHufflepuffGryffindorSlytherinHufflepuffGryffindorGryffindorSlytherinSlytherinSlytherinHufflepuffHufflepuffRavenclawGryffindorSlytherinHufflepuffSlytherinGryffindorGryffindorSlytherinSlytherinSlytherinSlytherinSlytherinHufflepuffSlytherinGryffindorSlytherinRavenclawSlytherinHufflepuffHufflepuffGryffindorRavenclawHufflepuffHufflepuffSlytherinHufflepuffSlytherinGryffindorHufflepuffHufflepuffGryffindorRavenclawGryffindorRavenclawGryffindorGryffindorSlytherinRavenclawHufflepuffRavenclawGryffindorHufflepuffGryffindorSlytherinSlytherinGryffindorSlytherinHufflepuffHufflepuffRavenclawGryffindorGryffindorRavenclawGryffindorHufflepuffHufflepuffGryffindorHufflepuffHufflepuffGryffindorSlytherinHufflepuffHufflepuffSlytherinGryffindorHufflepuffHufflepuffHufflepuffHufflepuffRavenclawGryffindorRavenclawHufflepuffHufflepuffHufflepuffGryffindorHufflepuffHufflepuffSlytherinRavenclawRavenclawGryffindorGryffindorSlytherinHufflepuffRavenclawGryffindorRavenclawRavenclawHufflepuffSlytherinRavenclawGryffindorRavenclawRavenclawSlytherinHufflepuffHufflepuffRavenclawHufflepuffHufflepuffHufflepuffRavenclawRavenclawRavenclawSlytherinGryffindorHufflepuffRavenclawGryffindorRavenclawHufflepuffHufflepuffGryffindorGryffindorRavenclawHufflepuffHufflepuffRavenclawGryffindorRavenclawSlytherinRavenclawGryffindorRavenclawRavenclawHufflepuffRavenclawHufflepuffSlytherinHufflepuffRavenclawRavenclawSlytherinGryffindorRavenclawSlytherinHufflepuffRavenclawSlytherinGryffindorRavenclawRavenclawGryffindorRavenclawRavenclawRavenclawGryffindorHufflepuffSlytherinRavenclawGryffindorRavenclawRavenclawGryffindorRavenclawGryffindorSlytherinRavenclawHufflepuffHufflepuffGryffindorHufflepuffRavenclawHufflepuffHufflepuffHufflepuffSlytherinSlytherinRavenclawHufflepuffSlytherinRavenclawSlytherinSlytherinHufflepuffGryffindorGryffindorHufflepuffGryffindorGryffindorRavenclawHufflepuffHufflepuffHufflepuffHufflepuffHufflepuffRavenclawSlytherinGryffindorRavenclawRavenclawRavenclawHufflepuffHufflepuffHufflepuffRavenclawHufflepuffSlytherinHufflepuffHufflepuffHufflepuffHufflepuffHufflepuffSlytherinRavenclawGryffindorRavenclawSlytherinGryffindorGryffindorSlytherinSlytherinHufflepuffSlytherinHufflepuffSlytherinGryffindorGryffindorRavenclawRavenclawRavenclawSlytherinHufflepuffGryffindorSlytherinRavenclawSlytherinGryffindorGryffindorHufflepuffSlytherinGryffindorGryffindorGryffindorRavenclawHufflepuffSlytherinGryffindorSlytherinGryffindorHufflepuffRavenclawHufflepuffRavenclawRavenclawGryffindorHufflepuffHufflepuffHufflepuffHufflepuffRavenclawHufflepuffGryffindorHufflepuffSlytherinRavenclawHufflepuffSlytherinHufflepuffGryffindorGryffindorHufflepuffSlytherinHufflepuffRavenclawGryffindorRavenclawHufflepuffRavenclawSlytherinHufflepuffHufflepuffRavenclawRavenclawRavenclawSlytherinSlytherinGryffindorHufflepuffHufflepuffSlytherinHufflepuffGryffindorSlytherinRavenclawRavenclawRavenclawSlytherinHufflepuffSlytherinGryffindorHufflepuffRavenclawGryffindorSlytherinSlytherinSlytherinRavenclawRavenclawGryffindorHufflepuffHufflepuffHufflepuffRavenclawGryffindorHufflepuffSlytherinHufflepuffSlytherinHufflepuffHufflepuffRavenclawRavenclawHufflepuffHufflepuffHufflepuffHufflepuffHufflepuffSlytherinRavenclawRavenclawGryffindorHufflepuffHufflepuffSlytherinSlytherinRavenclawSlytherinSlytherinHufflepuffGryffindorHufflepuffGryffindorGryffindorHufflepuffGryffindorHufflepuffHufflepuffRavenclawHufflepuffHufflepuffSlytherinGryffindorRavenclawHufflepuffRavenclawHufflepuffSlytherinSlytherinRavenclawSlytherinRavenclawRavenclawRavenclawSlytherinGryffindorHufflepuffHufflepuffSlytherinHufflepuffRavenclawRavenclawGryffindorRavenclawHufflepuffHufflepuffHufflepuffHufflepuffHufflepuffSlytherinSlytherinHufflepuffGryffindorGryffindorGryffindorRavenclawRavenclawGryffindorGryffindorGryffindorHufflepuffRavenclawHufflepuffRavenclawRavenclawHufflepuffRavenclawSlytherinRavenclawHufflepuffSlytherinRavenclawSlytherinHufflepuffGryffindorSlytherinSlytherinRavenclawRavenclawHufflepuffRavenclawHufflepuffHufflepuffGryffindorRavenclawHufflepuffSlytherinGryffindorGryffindorRavenclawHufflepuffHufflepuffSlytherinRavenclawHufflepuffGryffindorRavenclawHufflepuffSlytherinHufflepuffGryffindorRavenclawHufflepuffRavenclawRavenclawRavenclawHufflepuffHufflepuffRavenclawRavenclawRavenclawGryffindorRavenclawSlytherinRavenclawHufflepuffGryffindorGryffindorGryffindorSlytherinSlytherinRavenclawGryffindorGryffindorRavenclawHufflepuffGryffindorHufflepuffSlytherinRavenclawHufflepuffSlytherinRavenclawSlytherinHufflepuffRavenclawHufflepuffGryffindorSlytherinHufflepuffRavenclawRavenclawSlytherinRavenclawHufflepuffGryffindorRavenclawSlytherinGryffindorHufflepuffHufflepuffGryffindorSlytherinGryffindorSlytherinGryffindorGryffindorSlytherinGryffindorSlytherinRavenclawGryffindorSlytherinHufflepuffRavenclawHufflepuffHufflepuffGryffindorHufflepuffGryffindorHufflepuffRavenclawHufflepuffHufflepuffRavenclawSlytherinHufflepuffSlytherinHufflepuffGryffindorHufflepuffSlytherinRavenclawRavenclawSlytherinHufflepuffHufflepuffRavenclawHufflepuffHufflepuffSlytherinHufflepuffRavenclawHufflepuffGryffindorHufflepuffRavenclawGryffindorHufflepuffSlytherinHufflepuffRavenclawHufflepuffRavenclawGryffindorHufflepuffRavenclawHufflepuffSlytherinSlytherinHufflepuffHufflepuffRavenclawRavenclawGryffindorRavenclawHufflepuffGryffindorRavenclawRavenclawRavenclawGryffindorHufflepuffHufflepuffHufflepuffGryffindorRavenclawSlytherinRavenclawRavenclawHufflepuffRavenclawSlytherinHufflepuffHufflepuffRavenclawHufflepuffHufflepuffSlytherinGryffindorGryffindorSlytherinRavenclawRavenclawRavenclawRavenclawHufflepuffRavenclawRavenclawRavenclawRavenclawRavenclawHufflepuffRavenclawGryffindorRavenclawRavenclawSlytherinHufflepuffGryffindorRavenclawRavenclawRavenclawSlytherinSlytherinRavenclawSlytherinSlytherinHufflepuffSlytherinHufflepuffHufflepuffRavenclawSlytherinGryffindorRavenclawHufflepuffGryffindorSlytherinGryffindorHufflepuffHufflepuff to numeric",
     "output_type": "error",
     "traceback": [
      "\u001b[0;31m---------------------------------------------------------------------------\u001b[0m",
      "\u001b[0;31mValueError\u001b[0m                                Traceback (most recent call last)",
      "File \u001b[0;32m/usr/local/lib/python3.11/site-packages/pandas/core/nanops.py:1692\u001b[0m, in \u001b[0;36m_ensure_numeric\u001b[0;34m(x)\u001b[0m\n\u001b[1;32m   1691\u001b[0m \u001b[39mtry\u001b[39;00m:\n\u001b[0;32m-> 1692\u001b[0m     x \u001b[39m=\u001b[39m \u001b[39mfloat\u001b[39;49m(x)\n\u001b[1;32m   1693\u001b[0m \u001b[39mexcept\u001b[39;00m (\u001b[39mTypeError\u001b[39;00m, \u001b[39mValueError\u001b[39;00m):\n\u001b[1;32m   1694\u001b[0m     \u001b[39m# e.g. \"1+1j\" or \"foo\"\u001b[39;00m\n",
      "\u001b[0;31mValueError\u001b[0m: could not convert string to float: 'SlytherinRavenclawGryffindorGryffindorSlytherinGryffindorHufflepuffHufflepuffHufflepuffHufflepuffSlytherinRavenclawRavenclawGryffindorGryffindorRavenclawHufflepuffGryffindorRavenclawHufflepuffRavenclawHufflepuffSlytherinHufflepuffGryffindorHufflepuffHufflepuffGryffindorRavenclawHufflepuffRavenclawHufflepuffHufflepuffSlytherinGryffindorHufflepuffRavenclawHufflepuffRavenclawRavenclawHufflepuffSlytherinGryffindorGryffindorSlytherinSlytherinGryffindorSlytherinSlytherinHufflepuffGryffindorSlytherinRavenclawHufflepuffHufflepuffHufflepuffHufflepuffRavenclawGryffindorHufflepuffRavenclawSlytherinHufflepuffRavenclawHufflepuffRavenclawRavenclawHufflepuffHufflepuffHufflepuffGryffindorHufflepuffHufflepuffHufflepuffHufflepuffGryffindorGryffindorGryffindorRavenclawHufflepuffHufflepuffGryffindorRavenclawSlytherinHufflepuffGryffindorHufflepuffRavenclawHufflepuffRavenclawGryffindorSlytherinHufflepuffSlytherinSlytherinRavenclawRavenclawGryffindorRavenclawHufflepuffHufflepuffRavenclawRavenclawHufflepuffSlytherinHufflepuffSlytherinHufflepuffSlytherinGryffindorSlytherinHufflepuffRavenclawRavenclawRavenclawHufflepuffGryffindorRavenclawGryffindorHufflepuffGryffindorSlytherinGryffindorGryffindorGryffindorRavenclawGryffindorGryffindorSlytherinSlytherinHufflepuffGryffindorHufflepuffRavenclawHufflepuffHufflepuffHufflepuffSlytherinRavenclawHufflepuffHufflepuffHufflepuffGryffindorRavenclawGryffindorGryffindorRavenclawHufflepuffGryffindorHufflepuffRavenclawRavenclawHufflepuffRavenclawSlytherinRavenclawHufflepuffHufflepuffSlytherinHufflepuffSlytherinHufflepuffHufflepuffSlytherinHufflepuffRavenclawGryffindorSlytherinRavenclawRavenclawRavenclawGryffindorHufflepuffHufflepuffHufflepuffRavenclawHufflepuffGryffindorSlytherinRavenclawHufflepuffGryffindorRavenclawGryffindorGryffindorHufflepuffGryffindorGryffindorRavenclawHufflepuffGryffindorHufflepuffHufflepuffHufflepuffGryffindorRavenclawHufflepuffSlytherinRavenclawHufflepuffHufflepuffHufflepuffGryffindorHufflepuffHufflepuffHufflepuffHufflepuffGryffindorHufflepuffGryffindorRavenclawRavenclawSlytherinSlytherinGryffindorHufflepuffSlytherinSlytherinGryffindorRavenclawHufflepuffRavenclawGryffindorSlytherinSlytherinRavenclawHufflepuffRavenclawGryffindorRavenclawHufflepuffHufflepuffRavenclawRavenclawHufflepuffHufflepuffGryffindorHufflepuffRavenclawHufflepuffHufflepuffRavenclawRavenclawGryffindorHufflepuffHufflepuffGryffindorGryffindorHufflepuffHufflepuffGryffindorGryffindorGryffindorRavenclawHufflepuffGryffindorHufflepuffSlytherinHufflepuffHufflepuffGryffindorSlytherinRavenclawHufflepuffSlytherinHufflepuffSlytherinHufflepuffGryffindorGryffindorRavenclawSlytherinSlytherinHufflepuffHufflepuffSlytherinSlytherinGryffindorRavenclawSlytherinRavenclawSlytherinHufflepuffHufflepuffRavenclawRavenclawSlytherinRavenclawGryffindorRavenclawSlytherinRavenclawSlytherinSlytherinRavenclawHufflepuffHufflepuffGryffindorRavenclawGryffindorGryffindorHufflepuffGryffindorSlytherinHufflepuffRavenclawGryffindorHufflepuffRavenclawRavenclawSlytherinRavenclawHufflepuffHufflepuffRavenclawHufflepuffHufflepuffHufflepuffHufflepuffRavenclawHufflepuffSlytherinRavenclawHufflepuffSlytherinHufflepuffGryffindorHufflepuffRavenclawHufflepuffHufflepuffSlytherinHufflepuffHufflepuffRavenclawRavenclawGryffindorSlytherinRavenclawGryffindorSlytherinHufflepuffRavenclawHufflepuffRavenclawSlytherinGryffindorSlytherinGryffindorRavenclawHufflepuffSlytherinHufflepuffSlytherinHufflepuffHufflepuffHufflepuffGryffindorHufflepuffRavenclawGryffindorRavenclawHufflepuffHufflepuffHufflepuffRavenclawRavenclawSlytherinRavenclawHufflepuffRavenclawRavenclawRavenclawRavenclawHufflepuffGryffindorRavenclawGryffindorHufflepuffSlytherinHufflepuffSlytherinRavenclawGryffindorHufflepuffGryffindorRavenclawHufflepuffGryffindorGryffindorHufflepuffGryffindorRavenclawGryffindorHufflepuffHufflepuffRavenclawHufflepuffHufflepuffGryffindorRavenclawHufflepuffHufflepuffGryffindorSlytherinHufflepuffRavenclawGryffindorHufflepuffGryffindorHufflepuffSlytherinHufflepuffHufflepuffSlytherinGryffindorRavenclawRavenclawGryffindorHufflepuffHufflepuffHufflepuffRavenclawGryffindorRavenclawHufflepuffHufflepuffRavenclawHufflepuffGryffindorHufflepuffGryffindorRavenclawGryffindorRavenclawHufflepuffGryffindorSlytherinGryffindorSlytherinRavenclawGryffindorGryffindorGryffindorRavenclawHufflepuffGryffindorRavenclawRavenclawHufflepuffGryffindorRavenclawSlytherinSlytherinGryffindorRavenclawRavenclawSlytherinHufflepuffGryffindorHufflepuffGryffindorHufflepuffHufflepuffHufflepuffRavenclawGryffindorHufflepuffHufflepuffHufflepuffRavenclawRavenclawHufflepuffHufflepuffHufflepuffRavenclawHufflepuffGryffindorHufflepuffSlytherinGryffindorGryffindorHufflepuffGryffindorRavenclawHufflepuffSlytherinSlytherinRavenclawRavenclawSlytherinHufflepuffRavenclawRavenclawHufflepuffGryffindorRavenclawRavenclawRavenclawSlytherinGryffindorRavenclawRavenclawRavenclawRavenclawSlytherinHufflepuffRavenclawRavenclawSlytherinHufflepuffGryffindorGryffindorRavenclawGryffindorHufflepuffSlytherinGryffindorHufflepuffGryffindorGryffindorHufflepuffHufflepuffGryffindorRavenclawRavenclawHufflepuffRavenclawRavenclawRavenclawHufflepuffHufflepuffSlytherinSlytherinRavenclawSlytherinHufflepuffHufflepuffHufflepuffSlytherinHufflepuffSlytherinHufflepuffRavenclawGryffindorGryffindorHufflepuffSlytherinSlytherinRavenclawHufflepuffSlytherinHufflepuffHufflepuffHufflepuffGryffindorGryffindorSlytherinRavenclawRavenclawHufflepuffGryffindorRavenclawHufflepuffSlytherinRavenclawRavenclawHufflepuffRavenclawSlytherinSlytherinHufflepuffRavenclawRavenclawRavenclawRavenclawRavenclawSlytherinRavenclawGryffindorRavenclawRavenclawHufflepuffHufflepuffRavenclawRavenclawGryffindorHufflepuffGryffindorGryffindorRavenclawRavenclawRavenclawSlytherinSlytherinHufflepuffRavenclawGryffindorRavenclawSlytherinHufflepuffHufflepuffSlytherinGryffindorRavenclawRavenclawRavenclawSlytherinHufflepuffSlytherinGryffindorGryffindorHufflepuffHufflepuffRavenclawGryffindorRavenclawRavenclawSlytherinHufflepuffRavenclawHufflepuffRavenclawHufflepuffHufflepuffGryffindorGryffindorHufflepuffHufflepuffGryffindorHufflepuffSlytherinRavenclawHufflepuffHufflepuffHufflepuffSlytherinHufflepuffSlytherinRavenclawGryffindorRavenclawGryffindorSlytherinHufflepuffRavenclawSlytherinRavenclawSlytherinHufflepuffHufflepuffRavenclawSlytherinRavenclawGryffindorRavenclawHufflepuffGryffindorHufflepuffRavenclawGryffindorRavenclawRavenclawRavenclawSlytherinHufflepuffRavenclawRavenclawRavenclawGryffindorHufflepuffGryffindorRavenclawSlytherinHufflepuffSlytherinHufflepuffRavenclawRavenclawRavenclawGryffindorHufflepuffSlytherinRavenclawSlytherinRavenclawHufflepuffRavenclawRavenclawGryffindorRavenclawRavenclawHufflepuffHufflepuffGryffindorHufflepuffRavenclawRavenclawGryffindorHufflepuffSlytherinGryffindorHufflepuffSlytherinHufflepuffHufflepuffRavenclawRavenclawHufflepuffSlytherinSlytherinSlytherinRavenclawGryffindorGryffindorRavenclawGryffindorHufflepuffHufflepuffGryffindorSlytherinHufflepuffGryffindorGryffindorSlytherinSlytherinSlytherinHufflepuffHufflepuffRavenclawGryffindorSlytherinHufflepuffSlytherinGryffindorGryffindorSlytherinSlytherinSlytherinSlytherinSlytherinHufflepuffSlytherinGryffindorSlytherinRavenclawSlytherinHufflepuffHufflepuffGryffindorRavenclawHufflepuffHufflepuffSlytherinHufflepuffSlytherinGryffindorHufflepuffHufflepuffGryffindorRavenclawGryffindorRavenclawGryffindorGryffindorSlytherinRavenclawHufflepuffRavenclawGryffindorHufflepuffGryffindorSlytherinSlytherinGryffindorSlytherinHufflepuffHufflepuffRavenclawGryffindorGryffindorRavenclawGryffindorHufflepuffHufflepuffGryffindorHufflepuffHufflepuffGryffindorSlytherinHufflepuffHufflepuffSlytherinGryffindorHufflepuffHufflepuffHufflepuffHufflepuffRavenclawGryffindorRavenclawHufflepuffHufflepuffHufflepuffGryffindorHufflepuffHufflepuffSlytherinRavenclawRavenclawGryffindorGryffindorSlytherinHufflepuffRavenclawGryffindorRavenclawRavenclawHufflepuffSlytherinRavenclawGryffindorRavenclawRavenclawSlytherinHufflepuffHufflepuffRavenclawHufflepuffHufflepuffHufflepuffRavenclawRavenclawRavenclawSlytherinGryffindorHufflepuffRavenclawGryffindorRavenclawHufflepuffHufflepuffGryffindorGryffindorRavenclawHufflepuffHufflepuffRavenclawGryffindorRavenclawSlytherinRavenclawGryffindorRavenclawRavenclawHufflepuffRavenclawHufflepuffSlytherinHufflepuffRavenclawRavenclawSlytherinGryffindorRavenclawSlytherinHufflepuffRavenclawSlytherinGryffindorRavenclawRavenclawGryffindorRavenclawRavenclawRavenclawGryffindorHufflepuffSlytherinRavenclawGryffindorRavenclawRavenclawGryffindorRavenclawGryffindorSlytherinRavenclawHufflepuffHufflepuffGryffindorHufflepuffRavenclawHufflepuffHufflepuffHufflepuffSlytherinSlytherinRavenclawHufflepuffSlytherinRavenclawSlytherinSlytherinHufflepuffGryffindorGryffindorHufflepuffGryffindorGryffindorRavenclawHufflepuffHufflepuffHufflepuffHufflepuffHufflepuffRavenclawSlytherinGryffindorRavenclawRavenclawRavenclawHufflepuffHufflepuffHufflepuffRavenclawHufflepuffSlytherinHufflepuffHufflepuffHufflepuffHufflepuffHufflepuffSlytherinRavenclawGryffindorRavenclawSlytherinGryffindorGryffindorSlytherinSlytherinHufflepuffSlytherinHufflepuffSlytherinGryffindorGryffindorRavenclawRavenclawRavenclawSlytherinHufflepuffGryffindorSlytherinRavenclawSlytherinGryffindorGryffindorHufflepuffSlytherinGryffindorGryffindorGryffindorRavenclawHufflepuffSlytherinGryffindorSlytherinGryffindorHufflepuffRavenclawHufflepuffRavenclawRavenclawGryffindorHufflepuffHufflepuffHufflepuffHufflepuffRavenclawHufflepuffGryffindorHufflepuffSlytherinRavenclawHufflepuffSlytherinHufflepuffGryffindorGryffindorHufflepuffSlytherinHufflepuffRavenclawGryffindorRavenclawHufflepuffRavenclawSlytherinHufflepuffHufflepuffRavenclawRavenclawRavenclawSlytherinSlytherinGryffindorHufflepuffHufflepuffSlytherinHufflepuffGryffindorSlytherinRavenclawRavenclawRavenclawSlytherinHufflepuffSlytherinGryffindorHufflepuffRavenclawGryffindorSlytherinSlytherinSlytherinRavenclawRavenclawGryffindorHufflepuffHufflepuffHufflepuffRavenclawGryffindorHufflepuffSlytherinHufflepuffSlytherinHufflepuffHufflepuffRavenclawRavenclawHufflepuffHufflepuffHufflepuffHufflepuffHufflepuffSlytherinRavenclawRavenclawGryffindorHufflepuffHufflepuffSlytherinSlytherinRavenclawSlytherinSlytherinHufflepuffGryffindorHufflepuffGryffindorGryffindorHufflepuffGryffindorHufflepuffHufflepuffRavenclawHufflepuffHufflepuffSlytherinGryffindorRavenclawHufflepuffRavenclawHufflepuffSlytherinSlytherinRavenclawSlytherinRavenclawRavenclawRavenclawSlytherinGryffindorHufflepuffHufflepuffSlytherinHufflepuffRavenclawRavenclawGryffindorRavenclawHufflepuffHufflepuffHufflepuffHufflepuffHufflepuffSlytherinSlytherinHufflepuffGryffindorGryffindorGryffindorRavenclawRavenclawGryffindorGryffindorGryffindorHufflepuffRavenclawHufflepuffRavenclawRavenclawHufflepuffRavenclawSlytherinRavenclawHufflepuffSlytherinRavenclawSlytherinHufflepuffGryffindorSlytherinSlytherinRavenclawRavenclawHufflepuffRavenclawHufflepuffHufflepuffGryffindorRavenclawHufflepuffSlytherinGryffindorGryffindorRavenclawHufflepuffHufflepuffSlytherinRavenclawHufflepuffGryffindorRavenclawHufflepuffSlytherinHufflepuffGryffindorRavenclawHufflepuffRavenclawRavenclawRavenclawHufflepuffHufflepuffRavenclawRavenclawRavenclawGryffindorRavenclawSlytherinRavenclawHufflepuffGryffindorGryffindorGryffindorSlytherinSlytherinRavenclawGryffindorGryffindorRavenclawHufflepuffGryffindorHufflepuffSlytherinRavenclawHufflepuffSlytherinRavenclawSlytherinHufflepuffRavenclawHufflepuffGryffindorSlytherinHufflepuffRavenclawRavenclawSlytherinRavenclawHufflepuffGryffindorRavenclawSlytherinGryffindorHufflepuffHufflepuffGryffindorSlytherinGryffindorSlytherinGryffindorGryffindorSlytherinGryffindorSlytherinRavenclawGryffindorSlytherinHufflepuffRavenclawHufflepuffHufflepuffGryffindorHufflepuffGryffindorHufflepuffRavenclawHufflepuffHufflepuffRavenclawSlytherinHufflepuffSlytherinHufflepuffGryffindorHufflepuffSlytherinRavenclawRavenclawSlytherinHufflepuffHufflepuffRavenclawHufflepuffHufflepuffSlytherinHufflepuffRavenclawHufflepuffGryffindorHufflepuffRavenclawGryffindorHufflepuffSlytherinHufflepuffRavenclawHufflepuffRavenclawGryffindorHufflepuffRavenclawHufflepuffSlytherinSlytherinHufflepuffHufflepuffRavenclawRavenclawGryffindorRavenclawHufflepuffGryffindorRavenclawRavenclawRavenclawGryffindorHufflepuffHufflepuffHufflepuffGryffindorRavenclawSlytherinRavenclawRavenclawHufflepuffRavenclawSlytherinHufflepuffHufflepuffRavenclawHufflepuffHufflepuffSlytherinGryffindorGryffindorSlytherinRavenclawRavenclawRavenclawRavenclawHufflepuffRavenclawRavenclawRavenclawRavenclawRavenclawHufflepuffRavenclawGryffindorRavenclawRavenclawSlytherinHufflepuffGryffindorRavenclawRavenclawRavenclawSlytherinSlytherinRavenclawSlytherinSlytherinHufflepuffSlytherinHufflepuffHufflepuffRavenclawSlytherinGryffindorRavenclawHufflepuffGryffindorSlytherinGryffindorHufflepuffHufflepuff'",
      "\nDuring handling of the above exception, another exception occurred:\n",
      "\u001b[0;31mValueError\u001b[0m                                Traceback (most recent call last)",
      "File \u001b[0;32m/usr/local/lib/python3.11/site-packages/pandas/core/nanops.py:1696\u001b[0m, in \u001b[0;36m_ensure_numeric\u001b[0;34m(x)\u001b[0m\n\u001b[1;32m   1695\u001b[0m \u001b[39mtry\u001b[39;00m:\n\u001b[0;32m-> 1696\u001b[0m     x \u001b[39m=\u001b[39m \u001b[39mcomplex\u001b[39;49m(x)\n\u001b[1;32m   1697\u001b[0m \u001b[39mexcept\u001b[39;00m \u001b[39mValueError\u001b[39;00m \u001b[39mas\u001b[39;00m err:\n\u001b[1;32m   1698\u001b[0m     \u001b[39m# e.g. \"foo\"\u001b[39;00m\n",
      "\u001b[0;31mValueError\u001b[0m: complex() arg is a malformed string",
      "\nThe above exception was the direct cause of the following exception:\n",
      "\u001b[0;31mTypeError\u001b[0m                                 Traceback (most recent call last)",
      "\u001b[1;32m/Users/Astarte/dslr-project/dslr-42/notebooks/2.0-jm-model-training.ipynb Cellule 6\u001b[0m line \u001b[0;36m6\n\u001b[1;32m      <a href='vscode-notebook-cell:/Users/Astarte/dslr-project/dslr-42/notebooks/2.0-jm-model-training.ipynb#X13sZmlsZQ%3D%3D?line=2'>3</a>\u001b[0m     std \u001b[39m=\u001b[39m np\u001b[39m.\u001b[39mstd(arr)\n\u001b[1;32m      <a href='vscode-notebook-cell:/Users/Astarte/dslr-project/dslr-42/notebooks/2.0-jm-model-training.ipynb#X13sZmlsZQ%3D%3D?line=3'>4</a>\u001b[0m     \u001b[39mreturn\u001b[39;00m (arr \u001b[39m-\u001b[39m mean) \u001b[39m/\u001b[39m std\n\u001b[0;32m----> <a href='vscode-notebook-cell:/Users/Astarte/dslr-project/dslr-42/notebooks/2.0-jm-model-training.ipynb#X13sZmlsZQ%3D%3D?line=5'>6</a>\u001b[0m df_std_features \u001b[39m=\u001b[39m df[\u001b[39m1\u001b[39;49m:]\u001b[39m.\u001b[39;49magg(\u001b[39mlambda\u001b[39;49;00m course:standardize(course))\n\u001b[1;32m      <a href='vscode-notebook-cell:/Users/Astarte/dslr-project/dslr-42/notebooks/2.0-jm-model-training.ipynb#X13sZmlsZQ%3D%3D?line=6'>7</a>\u001b[0m df_std_features\u001b[39m.\u001b[39mdescribe()\n",
      "File \u001b[0;32m/usr/local/lib/python3.11/site-packages/pandas/core/frame.py:9196\u001b[0m, in \u001b[0;36mDataFrame.aggregate\u001b[0;34m(self, func, axis, *args, **kwargs)\u001b[0m\n\u001b[1;32m   9193\u001b[0m relabeling, func, columns, order \u001b[39m=\u001b[39m reconstruct_func(func, \u001b[39m*\u001b[39m\u001b[39m*\u001b[39mkwargs)\n\u001b[1;32m   9195\u001b[0m op \u001b[39m=\u001b[39m frame_apply(\u001b[39mself\u001b[39m, func\u001b[39m=\u001b[39mfunc, axis\u001b[39m=\u001b[39maxis, args\u001b[39m=\u001b[39margs, kwargs\u001b[39m=\u001b[39mkwargs)\n\u001b[0;32m-> 9196\u001b[0m result \u001b[39m=\u001b[39m op\u001b[39m.\u001b[39;49magg()\n\u001b[1;32m   9198\u001b[0m \u001b[39mif\u001b[39;00m relabeling:\n\u001b[1;32m   9199\u001b[0m     \u001b[39m# This is to keep the order to columns occurrence unchanged, and also\u001b[39;00m\n\u001b[1;32m   9200\u001b[0m     \u001b[39m# keep the order of new columns occurrence unchanged\u001b[39;00m\n\u001b[1;32m   9201\u001b[0m \n\u001b[1;32m   9202\u001b[0m     \u001b[39m# For the return values of reconstruct_func, if relabeling is\u001b[39;00m\n\u001b[1;32m   9203\u001b[0m     \u001b[39m# False, columns and order will be None.\u001b[39;00m\n\u001b[1;32m   9204\u001b[0m     \u001b[39massert\u001b[39;00m columns \u001b[39mis\u001b[39;00m \u001b[39mnot\u001b[39;00m \u001b[39mNone\u001b[39;00m\n",
      "File \u001b[0;32m/usr/local/lib/python3.11/site-packages/pandas/core/apply.py:699\u001b[0m, in \u001b[0;36mFrameApply.agg\u001b[0;34m(self)\u001b[0m\n\u001b[1;32m    696\u001b[0m     result \u001b[39m=\u001b[39m result\u001b[39m.\u001b[39mT \u001b[39mif\u001b[39;00m result \u001b[39mis\u001b[39;00m \u001b[39mnot\u001b[39;00m \u001b[39mNone\u001b[39;00m \u001b[39melse\u001b[39;00m result\n\u001b[1;32m    698\u001b[0m \u001b[39mif\u001b[39;00m result \u001b[39mis\u001b[39;00m \u001b[39mNone\u001b[39;00m:\n\u001b[0;32m--> 699\u001b[0m     result \u001b[39m=\u001b[39m \u001b[39mself\u001b[39;49m\u001b[39m.\u001b[39;49mobj\u001b[39m.\u001b[39;49mapply(\u001b[39mself\u001b[39;49m\u001b[39m.\u001b[39;49morig_f, axis, args\u001b[39m=\u001b[39;49m\u001b[39mself\u001b[39;49m\u001b[39m.\u001b[39;49margs, \u001b[39m*\u001b[39;49m\u001b[39m*\u001b[39;49m\u001b[39mself\u001b[39;49m\u001b[39m.\u001b[39;49mkwargs)\n\u001b[1;32m    701\u001b[0m \u001b[39mreturn\u001b[39;00m result\n",
      "File \u001b[0;32m/usr/local/lib/python3.11/site-packages/pandas/core/frame.py:9423\u001b[0m, in \u001b[0;36mDataFrame.apply\u001b[0;34m(self, func, axis, raw, result_type, args, **kwargs)\u001b[0m\n\u001b[1;32m   9412\u001b[0m \u001b[39mfrom\u001b[39;00m \u001b[39mpandas\u001b[39;00m\u001b[39m.\u001b[39;00m\u001b[39mcore\u001b[39;00m\u001b[39m.\u001b[39;00m\u001b[39mapply\u001b[39;00m \u001b[39mimport\u001b[39;00m frame_apply\n\u001b[1;32m   9414\u001b[0m op \u001b[39m=\u001b[39m frame_apply(\n\u001b[1;32m   9415\u001b[0m     \u001b[39mself\u001b[39m,\n\u001b[1;32m   9416\u001b[0m     func\u001b[39m=\u001b[39mfunc,\n\u001b[0;32m   (...)\u001b[0m\n\u001b[1;32m   9421\u001b[0m     kwargs\u001b[39m=\u001b[39mkwargs,\n\u001b[1;32m   9422\u001b[0m )\n\u001b[0;32m-> 9423\u001b[0m \u001b[39mreturn\u001b[39;00m op\u001b[39m.\u001b[39;49mapply()\u001b[39m.\u001b[39m__finalize__(\u001b[39mself\u001b[39m, method\u001b[39m=\u001b[39m\u001b[39m\"\u001b[39m\u001b[39mapply\u001b[39m\u001b[39m\"\u001b[39m)\n",
      "File \u001b[0;32m/usr/local/lib/python3.11/site-packages/pandas/core/apply.py:678\u001b[0m, in \u001b[0;36mFrameApply.apply\u001b[0;34m(self)\u001b[0m\n\u001b[1;32m    675\u001b[0m \u001b[39melif\u001b[39;00m \u001b[39mself\u001b[39m\u001b[39m.\u001b[39mraw:\n\u001b[1;32m    676\u001b[0m     \u001b[39mreturn\u001b[39;00m \u001b[39mself\u001b[39m\u001b[39m.\u001b[39mapply_raw()\n\u001b[0;32m--> 678\u001b[0m \u001b[39mreturn\u001b[39;00m \u001b[39mself\u001b[39;49m\u001b[39m.\u001b[39;49mapply_standard()\n",
      "File \u001b[0;32m/usr/local/lib/python3.11/site-packages/pandas/core/apply.py:798\u001b[0m, in \u001b[0;36mFrameApply.apply_standard\u001b[0;34m(self)\u001b[0m\n\u001b[1;32m    797\u001b[0m \u001b[39mdef\u001b[39;00m \u001b[39mapply_standard\u001b[39m(\u001b[39mself\u001b[39m):\n\u001b[0;32m--> 798\u001b[0m     results, res_index \u001b[39m=\u001b[39m \u001b[39mself\u001b[39;49m\u001b[39m.\u001b[39;49mapply_series_generator()\n\u001b[1;32m    800\u001b[0m     \u001b[39m# wrap results\u001b[39;00m\n\u001b[1;32m    801\u001b[0m     \u001b[39mreturn\u001b[39;00m \u001b[39mself\u001b[39m\u001b[39m.\u001b[39mwrap_results(results, res_index)\n",
      "File \u001b[0;32m/usr/local/lib/python3.11/site-packages/pandas/core/apply.py:814\u001b[0m, in \u001b[0;36mFrameApply.apply_series_generator\u001b[0;34m(self)\u001b[0m\n\u001b[1;32m    811\u001b[0m \u001b[39mwith\u001b[39;00m option_context(\u001b[39m\"\u001b[39m\u001b[39mmode.chained_assignment\u001b[39m\u001b[39m\"\u001b[39m, \u001b[39mNone\u001b[39;00m):\n\u001b[1;32m    812\u001b[0m     \u001b[39mfor\u001b[39;00m i, v \u001b[39min\u001b[39;00m \u001b[39menumerate\u001b[39m(series_gen):\n\u001b[1;32m    813\u001b[0m         \u001b[39m# ignore SettingWithCopy here in case the user mutates\u001b[39;00m\n\u001b[0;32m--> 814\u001b[0m         results[i] \u001b[39m=\u001b[39m \u001b[39mself\u001b[39;49m\u001b[39m.\u001b[39;49mf(v)\n\u001b[1;32m    815\u001b[0m         \u001b[39mif\u001b[39;00m \u001b[39misinstance\u001b[39m(results[i], ABCSeries):\n\u001b[1;32m    816\u001b[0m             \u001b[39m# If we have a view on v, we need to make a copy because\u001b[39;00m\n\u001b[1;32m    817\u001b[0m             \u001b[39m#  series_generator will swap out the underlying data\u001b[39;00m\n\u001b[1;32m    818\u001b[0m             results[i] \u001b[39m=\u001b[39m results[i]\u001b[39m.\u001b[39mcopy(deep\u001b[39m=\u001b[39m\u001b[39mFalse\u001b[39;00m)\n",
      "\u001b[1;32m/Users/Astarte/dslr-project/dslr-42/notebooks/2.0-jm-model-training.ipynb Cellule 6\u001b[0m line \u001b[0;36m6\n\u001b[1;32m      <a href='vscode-notebook-cell:/Users/Astarte/dslr-project/dslr-42/notebooks/2.0-jm-model-training.ipynb#X13sZmlsZQ%3D%3D?line=2'>3</a>\u001b[0m     std \u001b[39m=\u001b[39m np\u001b[39m.\u001b[39mstd(arr)\n\u001b[1;32m      <a href='vscode-notebook-cell:/Users/Astarte/dslr-project/dslr-42/notebooks/2.0-jm-model-training.ipynb#X13sZmlsZQ%3D%3D?line=3'>4</a>\u001b[0m     \u001b[39mreturn\u001b[39;00m (arr \u001b[39m-\u001b[39m mean) \u001b[39m/\u001b[39m std\n\u001b[0;32m----> <a href='vscode-notebook-cell:/Users/Astarte/dslr-project/dslr-42/notebooks/2.0-jm-model-training.ipynb#X13sZmlsZQ%3D%3D?line=5'>6</a>\u001b[0m df_std_features \u001b[39m=\u001b[39m df[\u001b[39m1\u001b[39m:]\u001b[39m.\u001b[39magg(\u001b[39mlambda\u001b[39;00m course:standardize(course))\n\u001b[1;32m      <a href='vscode-notebook-cell:/Users/Astarte/dslr-project/dslr-42/notebooks/2.0-jm-model-training.ipynb#X13sZmlsZQ%3D%3D?line=6'>7</a>\u001b[0m df_std_features\u001b[39m.\u001b[39mdescribe()\n",
      "\u001b[1;32m/Users/Astarte/dslr-project/dslr-42/notebooks/2.0-jm-model-training.ipynb Cellule 6\u001b[0m line \u001b[0;36m2\n\u001b[1;32m      <a href='vscode-notebook-cell:/Users/Astarte/dslr-project/dslr-42/notebooks/2.0-jm-model-training.ipynb#X13sZmlsZQ%3D%3D?line=0'>1</a>\u001b[0m \u001b[39mdef\u001b[39;00m \u001b[39mstandardize\u001b[39m(arr:np\u001b[39m.\u001b[39mndarray):\n\u001b[0;32m----> <a href='vscode-notebook-cell:/Users/Astarte/dslr-project/dslr-42/notebooks/2.0-jm-model-training.ipynb#X13sZmlsZQ%3D%3D?line=1'>2</a>\u001b[0m     mean \u001b[39m=\u001b[39m np\u001b[39m.\u001b[39;49mmean(arr)\n\u001b[1;32m      <a href='vscode-notebook-cell:/Users/Astarte/dslr-project/dslr-42/notebooks/2.0-jm-model-training.ipynb#X13sZmlsZQ%3D%3D?line=2'>3</a>\u001b[0m     std \u001b[39m=\u001b[39m np\u001b[39m.\u001b[39mstd(arr)\n\u001b[1;32m      <a href='vscode-notebook-cell:/Users/Astarte/dslr-project/dslr-42/notebooks/2.0-jm-model-training.ipynb#X13sZmlsZQ%3D%3D?line=3'>4</a>\u001b[0m     \u001b[39mreturn\u001b[39;00m (arr \u001b[39m-\u001b[39m mean) \u001b[39m/\u001b[39m std\n",
      "File \u001b[0;32m/usr/local/lib/python3.11/site-packages/numpy/core/fromnumeric.py:3502\u001b[0m, in \u001b[0;36mmean\u001b[0;34m(a, axis, dtype, out, keepdims, where)\u001b[0m\n\u001b[1;32m   3500\u001b[0m         \u001b[39mpass\u001b[39;00m\n\u001b[1;32m   3501\u001b[0m     \u001b[39melse\u001b[39;00m:\n\u001b[0;32m-> 3502\u001b[0m         \u001b[39mreturn\u001b[39;00m mean(axis\u001b[39m=\u001b[39;49maxis, dtype\u001b[39m=\u001b[39;49mdtype, out\u001b[39m=\u001b[39;49mout, \u001b[39m*\u001b[39;49m\u001b[39m*\u001b[39;49mkwargs)\n\u001b[1;32m   3504\u001b[0m \u001b[39mreturn\u001b[39;00m _methods\u001b[39m.\u001b[39m_mean(a, axis\u001b[39m=\u001b[39maxis, dtype\u001b[39m=\u001b[39mdtype,\n\u001b[1;32m   3505\u001b[0m                       out\u001b[39m=\u001b[39mout, \u001b[39m*\u001b[39m\u001b[39m*\u001b[39mkwargs)\n",
      "File \u001b[0;32m/usr/local/lib/python3.11/site-packages/pandas/core/generic.py:11556\u001b[0m, in \u001b[0;36mNDFrame._add_numeric_operations.<locals>.mean\u001b[0;34m(self, axis, skipna, numeric_only, **kwargs)\u001b[0m\n\u001b[1;32m  11539\u001b[0m \u001b[39m@doc\u001b[39m(\n\u001b[1;32m  11540\u001b[0m     _num_doc,\n\u001b[1;32m  11541\u001b[0m     desc\u001b[39m=\u001b[39m\u001b[39m\"\u001b[39m\u001b[39mReturn the mean of the values over the requested axis.\u001b[39m\u001b[39m\"\u001b[39m,\n\u001b[0;32m   (...)\u001b[0m\n\u001b[1;32m  11554\u001b[0m     \u001b[39m*\u001b[39m\u001b[39m*\u001b[39mkwargs,\n\u001b[1;32m  11555\u001b[0m ):\n\u001b[0;32m> 11556\u001b[0m     \u001b[39mreturn\u001b[39;00m NDFrame\u001b[39m.\u001b[39;49mmean(\u001b[39mself\u001b[39;49m, axis, skipna, numeric_only, \u001b[39m*\u001b[39;49m\u001b[39m*\u001b[39;49mkwargs)\n",
      "File \u001b[0;32m/usr/local/lib/python3.11/site-packages/pandas/core/generic.py:11201\u001b[0m, in \u001b[0;36mNDFrame.mean\u001b[0;34m(self, axis, skipna, numeric_only, **kwargs)\u001b[0m\n\u001b[1;32m  11194\u001b[0m \u001b[39mdef\u001b[39;00m \u001b[39mmean\u001b[39m(\n\u001b[1;32m  11195\u001b[0m     \u001b[39mself\u001b[39m,\n\u001b[1;32m  11196\u001b[0m     axis: Axis \u001b[39m|\u001b[39m \u001b[39mNone\u001b[39;00m \u001b[39m=\u001b[39m \u001b[39m0\u001b[39m,\n\u001b[0;32m   (...)\u001b[0m\n\u001b[1;32m  11199\u001b[0m     \u001b[39m*\u001b[39m\u001b[39m*\u001b[39mkwargs,\n\u001b[1;32m  11200\u001b[0m ) \u001b[39m-\u001b[39m\u001b[39m>\u001b[39m Series \u001b[39m|\u001b[39m \u001b[39mfloat\u001b[39m:\n\u001b[0;32m> 11201\u001b[0m     \u001b[39mreturn\u001b[39;00m \u001b[39mself\u001b[39;49m\u001b[39m.\u001b[39;49m_stat_function(\n\u001b[1;32m  11202\u001b[0m         \u001b[39m\"\u001b[39;49m\u001b[39mmean\u001b[39;49m\u001b[39m\"\u001b[39;49m, nanops\u001b[39m.\u001b[39;49mnanmean, axis, skipna, numeric_only, \u001b[39m*\u001b[39;49m\u001b[39m*\u001b[39;49mkwargs\n\u001b[1;32m  11203\u001b[0m     )\n",
      "File \u001b[0;32m/usr/local/lib/python3.11/site-packages/pandas/core/generic.py:11158\u001b[0m, in \u001b[0;36mNDFrame._stat_function\u001b[0;34m(self, name, func, axis, skipna, numeric_only, **kwargs)\u001b[0m\n\u001b[1;32m  11154\u001b[0m     nv\u001b[39m.\u001b[39mvalidate_stat_func((), kwargs, fname\u001b[39m=\u001b[39mname)\n\u001b[1;32m  11156\u001b[0m validate_bool_kwarg(skipna, \u001b[39m\"\u001b[39m\u001b[39mskipna\u001b[39m\u001b[39m\"\u001b[39m, none_allowed\u001b[39m=\u001b[39m\u001b[39mFalse\u001b[39;00m)\n\u001b[0;32m> 11158\u001b[0m \u001b[39mreturn\u001b[39;00m \u001b[39mself\u001b[39;49m\u001b[39m.\u001b[39;49m_reduce(\n\u001b[1;32m  11159\u001b[0m     func, name\u001b[39m=\u001b[39;49mname, axis\u001b[39m=\u001b[39;49maxis, skipna\u001b[39m=\u001b[39;49mskipna, numeric_only\u001b[39m=\u001b[39;49mnumeric_only\n\u001b[1;32m  11160\u001b[0m )\n",
      "File \u001b[0;32m/usr/local/lib/python3.11/site-packages/pandas/core/series.py:4670\u001b[0m, in \u001b[0;36mSeries._reduce\u001b[0;34m(self, op, name, axis, skipna, numeric_only, filter_type, **kwds)\u001b[0m\n\u001b[1;32m   4665\u001b[0m     \u001b[39mraise\u001b[39;00m \u001b[39mTypeError\u001b[39;00m(\n\u001b[1;32m   4666\u001b[0m         \u001b[39mf\u001b[39m\u001b[39m\"\u001b[39m\u001b[39mSeries.\u001b[39m\u001b[39m{\u001b[39;00mname\u001b[39m}\u001b[39;00m\u001b[39m does not allow \u001b[39m\u001b[39m{\u001b[39;00mkwd_name\u001b[39m}\u001b[39;00m\u001b[39m=\u001b[39m\u001b[39m{\u001b[39;00mnumeric_only\u001b[39m}\u001b[39;00m\u001b[39m \u001b[39m\u001b[39m\"\u001b[39m\n\u001b[1;32m   4667\u001b[0m         \u001b[39m\"\u001b[39m\u001b[39mwith non-numeric dtypes.\u001b[39m\u001b[39m\"\u001b[39m\n\u001b[1;32m   4668\u001b[0m     )\n\u001b[1;32m   4669\u001b[0m \u001b[39mwith\u001b[39;00m np\u001b[39m.\u001b[39merrstate(\u001b[39mall\u001b[39m\u001b[39m=\u001b[39m\u001b[39m\"\u001b[39m\u001b[39mignore\u001b[39m\u001b[39m\"\u001b[39m):\n\u001b[0;32m-> 4670\u001b[0m     \u001b[39mreturn\u001b[39;00m op(delegate, skipna\u001b[39m=\u001b[39;49mskipna, \u001b[39m*\u001b[39;49m\u001b[39m*\u001b[39;49mkwds)\n",
      "File \u001b[0;32m/usr/local/lib/python3.11/site-packages/pandas/core/nanops.py:96\u001b[0m, in \u001b[0;36mdisallow.__call__.<locals>._f\u001b[0;34m(*args, **kwargs)\u001b[0m\n\u001b[1;32m     94\u001b[0m \u001b[39mtry\u001b[39;00m:\n\u001b[1;32m     95\u001b[0m     \u001b[39mwith\u001b[39;00m np\u001b[39m.\u001b[39merrstate(invalid\u001b[39m=\u001b[39m\u001b[39m\"\u001b[39m\u001b[39mignore\u001b[39m\u001b[39m\"\u001b[39m):\n\u001b[0;32m---> 96\u001b[0m         \u001b[39mreturn\u001b[39;00m f(\u001b[39m*\u001b[39;49margs, \u001b[39m*\u001b[39;49m\u001b[39m*\u001b[39;49mkwargs)\n\u001b[1;32m     97\u001b[0m \u001b[39mexcept\u001b[39;00m \u001b[39mValueError\u001b[39;00m \u001b[39mas\u001b[39;00m e:\n\u001b[1;32m     98\u001b[0m     \u001b[39m# we want to transform an object array\u001b[39;00m\n\u001b[1;32m     99\u001b[0m     \u001b[39m# ValueError message to the more typical TypeError\u001b[39;00m\n\u001b[1;32m    100\u001b[0m     \u001b[39m# e.g. this is normally a disallowed function on\u001b[39;00m\n\u001b[1;32m    101\u001b[0m     \u001b[39m# object arrays that contain strings\u001b[39;00m\n\u001b[1;32m    102\u001b[0m     \u001b[39mif\u001b[39;00m is_object_dtype(args[\u001b[39m0\u001b[39m]):\n",
      "File \u001b[0;32m/usr/local/lib/python3.11/site-packages/pandas/core/nanops.py:158\u001b[0m, in \u001b[0;36mbottleneck_switch.__call__.<locals>.f\u001b[0;34m(values, axis, skipna, **kwds)\u001b[0m\n\u001b[1;32m    156\u001b[0m         result \u001b[39m=\u001b[39m alt(values, axis\u001b[39m=\u001b[39maxis, skipna\u001b[39m=\u001b[39mskipna, \u001b[39m*\u001b[39m\u001b[39m*\u001b[39mkwds)\n\u001b[1;32m    157\u001b[0m \u001b[39melse\u001b[39;00m:\n\u001b[0;32m--> 158\u001b[0m     result \u001b[39m=\u001b[39m alt(values, axis\u001b[39m=\u001b[39;49maxis, skipna\u001b[39m=\u001b[39;49mskipna, \u001b[39m*\u001b[39;49m\u001b[39m*\u001b[39;49mkwds)\n\u001b[1;32m    160\u001b[0m \u001b[39mreturn\u001b[39;00m result\n",
      "File \u001b[0;32m/usr/local/lib/python3.11/site-packages/pandas/core/nanops.py:421\u001b[0m, in \u001b[0;36m_datetimelike_compat.<locals>.new_func\u001b[0;34m(values, axis, skipna, mask, **kwargs)\u001b[0m\n\u001b[1;32m    418\u001b[0m \u001b[39mif\u001b[39;00m datetimelike \u001b[39mand\u001b[39;00m mask \u001b[39mis\u001b[39;00m \u001b[39mNone\u001b[39;00m:\n\u001b[1;32m    419\u001b[0m     mask \u001b[39m=\u001b[39m isna(values)\n\u001b[0;32m--> 421\u001b[0m result \u001b[39m=\u001b[39m func(values, axis\u001b[39m=\u001b[39;49maxis, skipna\u001b[39m=\u001b[39;49mskipna, mask\u001b[39m=\u001b[39;49mmask, \u001b[39m*\u001b[39;49m\u001b[39m*\u001b[39;49mkwargs)\n\u001b[1;32m    423\u001b[0m \u001b[39mif\u001b[39;00m datetimelike:\n\u001b[1;32m    424\u001b[0m     result \u001b[39m=\u001b[39m _wrap_results(result, orig_values\u001b[39m.\u001b[39mdtype, fill_value\u001b[39m=\u001b[39miNaT)\n",
      "File \u001b[0;32m/usr/local/lib/python3.11/site-packages/pandas/core/nanops.py:727\u001b[0m, in \u001b[0;36mnanmean\u001b[0;34m(values, axis, skipna, mask)\u001b[0m\n\u001b[1;32m    724\u001b[0m     dtype_count \u001b[39m=\u001b[39m dtype\n\u001b[1;32m    726\u001b[0m count \u001b[39m=\u001b[39m _get_counts(values\u001b[39m.\u001b[39mshape, mask, axis, dtype\u001b[39m=\u001b[39mdtype_count)\n\u001b[0;32m--> 727\u001b[0m the_sum \u001b[39m=\u001b[39m _ensure_numeric(values\u001b[39m.\u001b[39;49msum(axis, dtype\u001b[39m=\u001b[39;49mdtype_sum))\n\u001b[1;32m    729\u001b[0m \u001b[39mif\u001b[39;00m axis \u001b[39mis\u001b[39;00m \u001b[39mnot\u001b[39;00m \u001b[39mNone\u001b[39;00m \u001b[39mand\u001b[39;00m \u001b[39mgetattr\u001b[39m(the_sum, \u001b[39m\"\u001b[39m\u001b[39mndim\u001b[39m\u001b[39m\"\u001b[39m, \u001b[39mFalse\u001b[39;00m):\n\u001b[1;32m    730\u001b[0m     count \u001b[39m=\u001b[39m cast(np\u001b[39m.\u001b[39mndarray, count)\n",
      "File \u001b[0;32m/usr/local/lib/python3.11/site-packages/pandas/core/nanops.py:1699\u001b[0m, in \u001b[0;36m_ensure_numeric\u001b[0;34m(x)\u001b[0m\n\u001b[1;32m   1696\u001b[0m             x \u001b[39m=\u001b[39m \u001b[39mcomplex\u001b[39m(x)\n\u001b[1;32m   1697\u001b[0m         \u001b[39mexcept\u001b[39;00m \u001b[39mValueError\u001b[39;00m \u001b[39mas\u001b[39;00m err:\n\u001b[1;32m   1698\u001b[0m             \u001b[39m# e.g. \"foo\"\u001b[39;00m\n\u001b[0;32m-> 1699\u001b[0m             \u001b[39mraise\u001b[39;00m \u001b[39mTypeError\u001b[39;00m(\u001b[39mf\u001b[39m\u001b[39m\"\u001b[39m\u001b[39mCould not convert \u001b[39m\u001b[39m{\u001b[39;00mx\u001b[39m}\u001b[39;00m\u001b[39m to numeric\u001b[39m\u001b[39m\"\u001b[39m) \u001b[39mfrom\u001b[39;00m \u001b[39merr\u001b[39;00m\n\u001b[1;32m   1700\u001b[0m \u001b[39mreturn\u001b[39;00m x\n",
      "\u001b[0;31mTypeError\u001b[0m: Could not convert SlytherinRavenclawGryffindorGryffindorSlytherinGryffindorHufflepuffHufflepuffHufflepuffHufflepuffSlytherinRavenclawRavenclawGryffindorGryffindorRavenclawHufflepuffGryffindorRavenclawHufflepuffRavenclawHufflepuffSlytherinHufflepuffGryffindorHufflepuffHufflepuffGryffindorRavenclawHufflepuffRavenclawHufflepuffHufflepuffSlytherinGryffindorHufflepuffRavenclawHufflepuffRavenclawRavenclawHufflepuffSlytherinGryffindorGryffindorSlytherinSlytherinGryffindorSlytherinSlytherinHufflepuffGryffindorSlytherinRavenclawHufflepuffHufflepuffHufflepuffHufflepuffRavenclawGryffindorHufflepuffRavenclawSlytherinHufflepuffRavenclawHufflepuffRavenclawRavenclawHufflepuffHufflepuffHufflepuffGryffindorHufflepuffHufflepuffHufflepuffHufflepuffGryffindorGryffindorGryffindorRavenclawHufflepuffHufflepuffGryffindorRavenclawSlytherinHufflepuffGryffindorHufflepuffRavenclawHufflepuffRavenclawGryffindorSlytherinHufflepuffSlytherinSlytherinRavenclawRavenclawGryffindorRavenclawHufflepuffHufflepuffRavenclawRavenclawHufflepuffSlytherinHufflepuffSlytherinHufflepuffSlytherinGryffindorSlytherinHufflepuffRavenclawRavenclawRavenclawHufflepuffGryffindorRavenclawGryffindorHufflepuffGryffindorSlytherinGryffindorGryffindorGryffindorRavenclawGryffindorGryffindorSlytherinSlytherinHufflepuffGryffindorHufflepuffRavenclawHufflepuffHufflepuffHufflepuffSlytherinRavenclawHufflepuffHufflepuffHufflepuffGryffindorRavenclawGryffindorGryffindorRavenclawHufflepuffGryffindorHufflepuffRavenclawRavenclawHufflepuffRavenclawSlytherinRavenclawHufflepuffHufflepuffSlytherinHufflepuffSlytherinHufflepuffHufflepuffSlytherinHufflepuffRavenclawGryffindorSlytherinRavenclawRavenclawRavenclawGryffindorHufflepuffHufflepuffHufflepuffRavenclawHufflepuffGryffindorSlytherinRavenclawHufflepuffGryffindorRavenclawGryffindorGryffindorHufflepuffGryffindorGryffindorRavenclawHufflepuffGryffindorHufflepuffHufflepuffHufflepuffGryffindorRavenclawHufflepuffSlytherinRavenclawHufflepuffHufflepuffHufflepuffGryffindorHufflepuffHufflepuffHufflepuffHufflepuffGryffindorHufflepuffGryffindorRavenclawRavenclawSlytherinSlytherinGryffindorHufflepuffSlytherinSlytherinGryffindorRavenclawHufflepuffRavenclawGryffindorSlytherinSlytherinRavenclawHufflepuffRavenclawGryffindorRavenclawHufflepuffHufflepuffRavenclawRavenclawHufflepuffHufflepuffGryffindorHufflepuffRavenclawHufflepuffHufflepuffRavenclawRavenclawGryffindorHufflepuffHufflepuffGryffindorGryffindorHufflepuffHufflepuffGryffindorGryffindorGryffindorRavenclawHufflepuffGryffindorHufflepuffSlytherinHufflepuffHufflepuffGryffindorSlytherinRavenclawHufflepuffSlytherinHufflepuffSlytherinHufflepuffGryffindorGryffindorRavenclawSlytherinSlytherinHufflepuffHufflepuffSlytherinSlytherinGryffindorRavenclawSlytherinRavenclawSlytherinHufflepuffHufflepuffRavenclawRavenclawSlytherinRavenclawGryffindorRavenclawSlytherinRavenclawSlytherinSlytherinRavenclawHufflepuffHufflepuffGryffindorRavenclawGryffindorGryffindorHufflepuffGryffindorSlytherinHufflepuffRavenclawGryffindorHufflepuffRavenclawRavenclawSlytherinRavenclawHufflepuffHufflepuffRavenclawHufflepuffHufflepuffHufflepuffHufflepuffRavenclawHufflepuffSlytherinRavenclawHufflepuffSlytherinHufflepuffGryffindorHufflepuffRavenclawHufflepuffHufflepuffSlytherinHufflepuffHufflepuffRavenclawRavenclawGryffindorSlytherinRavenclawGryffindorSlytherinHufflepuffRavenclawHufflepuffRavenclawSlytherinGryffindorSlytherinGryffindorRavenclawHufflepuffSlytherinHufflepuffSlytherinHufflepuffHufflepuffHufflepuffGryffindorHufflepuffRavenclawGryffindorRavenclawHufflepuffHufflepuffHufflepuffRavenclawRavenclawSlytherinRavenclawHufflepuffRavenclawRavenclawRavenclawRavenclawHufflepuffGryffindorRavenclawGryffindorHufflepuffSlytherinHufflepuffSlytherinRavenclawGryffindorHufflepuffGryffindorRavenclawHufflepuffGryffindorGryffindorHufflepuffGryffindorRavenclawGryffindorHufflepuffHufflepuffRavenclawHufflepuffHufflepuffGryffindorRavenclawHufflepuffHufflepuffGryffindorSlytherinHufflepuffRavenclawGryffindorHufflepuffGryffindorHufflepuffSlytherinHufflepuffHufflepuffSlytherinGryffindorRavenclawRavenclawGryffindorHufflepuffHufflepuffHufflepuffRavenclawGryffindorRavenclawHufflepuffHufflepuffRavenclawHufflepuffGryffindorHufflepuffGryffindorRavenclawGryffindorRavenclawHufflepuffGryffindorSlytherinGryffindorSlytherinRavenclawGryffindorGryffindorGryffindorRavenclawHufflepuffGryffindorRavenclawRavenclawHufflepuffGryffindorRavenclawSlytherinSlytherinGryffindorRavenclawRavenclawSlytherinHufflepuffGryffindorHufflepuffGryffindorHufflepuffHufflepuffHufflepuffRavenclawGryffindorHufflepuffHufflepuffHufflepuffRavenclawRavenclawHufflepuffHufflepuffHufflepuffRavenclawHufflepuffGryffindorHufflepuffSlytherinGryffindorGryffindorHufflepuffGryffindorRavenclawHufflepuffSlytherinSlytherinRavenclawRavenclawSlytherinHufflepuffRavenclawRavenclawHufflepuffGryffindorRavenclawRavenclawRavenclawSlytherinGryffindorRavenclawRavenclawRavenclawRavenclawSlytherinHufflepuffRavenclawRavenclawSlytherinHufflepuffGryffindorGryffindorRavenclawGryffindorHufflepuffSlytherinGryffindorHufflepuffGryffindorGryffindorHufflepuffHufflepuffGryffindorRavenclawRavenclawHufflepuffRavenclawRavenclawRavenclawHufflepuffHufflepuffSlytherinSlytherinRavenclawSlytherinHufflepuffHufflepuffHufflepuffSlytherinHufflepuffSlytherinHufflepuffRavenclawGryffindorGryffindorHufflepuffSlytherinSlytherinRavenclawHufflepuffSlytherinHufflepuffHufflepuffHufflepuffGryffindorGryffindorSlytherinRavenclawRavenclawHufflepuffGryffindorRavenclawHufflepuffSlytherinRavenclawRavenclawHufflepuffRavenclawSlytherinSlytherinHufflepuffRavenclawRavenclawRavenclawRavenclawRavenclawSlytherinRavenclawGryffindorRavenclawRavenclawHufflepuffHufflepuffRavenclawRavenclawGryffindorHufflepuffGryffindorGryffindorRavenclawRavenclawRavenclawSlytherinSlytherinHufflepuffRavenclawGryffindorRavenclawSlytherinHufflepuffHufflepuffSlytherinGryffindorRavenclawRavenclawRavenclawSlytherinHufflepuffSlytherinGryffindorGryffindorHufflepuffHufflepuffRavenclawGryffindorRavenclawRavenclawSlytherinHufflepuffRavenclawHufflepuffRavenclawHufflepuffHufflepuffGryffindorGryffindorHufflepuffHufflepuffGryffindorHufflepuffSlytherinRavenclawHufflepuffHufflepuffHufflepuffSlytherinHufflepuffSlytherinRavenclawGryffindorRavenclawGryffindorSlytherinHufflepuffRavenclawSlytherinRavenclawSlytherinHufflepuffHufflepuffRavenclawSlytherinRavenclawGryffindorRavenclawHufflepuffGryffindorHufflepuffRavenclawGryffindorRavenclawRavenclawRavenclawSlytherinHufflepuffRavenclawRavenclawRavenclawGryffindorHufflepuffGryffindorRavenclawSlytherinHufflepuffSlytherinHufflepuffRavenclawRavenclawRavenclawGryffindorHufflepuffSlytherinRavenclawSlytherinRavenclawHufflepuffRavenclawRavenclawGryffindorRavenclawRavenclawHufflepuffHufflepuffGryffindorHufflepuffRavenclawRavenclawGryffindorHufflepuffSlytherinGryffindorHufflepuffSlytherinHufflepuffHufflepuffRavenclawRavenclawHufflepuffSlytherinSlytherinSlytherinRavenclawGryffindorGryffindorRavenclawGryffindorHufflepuffHufflepuffGryffindorSlytherinHufflepuffGryffindorGryffindorSlytherinSlytherinSlytherinHufflepuffHufflepuffRavenclawGryffindorSlytherinHufflepuffSlytherinGryffindorGryffindorSlytherinSlytherinSlytherinSlytherinSlytherinHufflepuffSlytherinGryffindorSlytherinRavenclawSlytherinHufflepuffHufflepuffGryffindorRavenclawHufflepuffHufflepuffSlytherinHufflepuffSlytherinGryffindorHufflepuffHufflepuffGryffindorRavenclawGryffindorRavenclawGryffindorGryffindorSlytherinRavenclawHufflepuffRavenclawGryffindorHufflepuffGryffindorSlytherinSlytherinGryffindorSlytherinHufflepuffHufflepuffRavenclawGryffindorGryffindorRavenclawGryffindorHufflepuffHufflepuffGryffindorHufflepuffHufflepuffGryffindorSlytherinHufflepuffHufflepuffSlytherinGryffindorHufflepuffHufflepuffHufflepuffHufflepuffRavenclawGryffindorRavenclawHufflepuffHufflepuffHufflepuffGryffindorHufflepuffHufflepuffSlytherinRavenclawRavenclawGryffindorGryffindorSlytherinHufflepuffRavenclawGryffindorRavenclawRavenclawHufflepuffSlytherinRavenclawGryffindorRavenclawRavenclawSlytherinHufflepuffHufflepuffRavenclawHufflepuffHufflepuffHufflepuffRavenclawRavenclawRavenclawSlytherinGryffindorHufflepuffRavenclawGryffindorRavenclawHufflepuffHufflepuffGryffindorGryffindorRavenclawHufflepuffHufflepuffRavenclawGryffindorRavenclawSlytherinRavenclawGryffindorRavenclawRavenclawHufflepuffRavenclawHufflepuffSlytherinHufflepuffRavenclawRavenclawSlytherinGryffindorRavenclawSlytherinHufflepuffRavenclawSlytherinGryffindorRavenclawRavenclawGryffindorRavenclawRavenclawRavenclawGryffindorHufflepuffSlytherinRavenclawGryffindorRavenclawRavenclawGryffindorRavenclawGryffindorSlytherinRavenclawHufflepuffHufflepuffGryffindorHufflepuffRavenclawHufflepuffHufflepuffHufflepuffSlytherinSlytherinRavenclawHufflepuffSlytherinRavenclawSlytherinSlytherinHufflepuffGryffindorGryffindorHufflepuffGryffindorGryffindorRavenclawHufflepuffHufflepuffHufflepuffHufflepuffHufflepuffRavenclawSlytherinGryffindorRavenclawRavenclawRavenclawHufflepuffHufflepuffHufflepuffRavenclawHufflepuffSlytherinHufflepuffHufflepuffHufflepuffHufflepuffHufflepuffSlytherinRavenclawGryffindorRavenclawSlytherinGryffindorGryffindorSlytherinSlytherinHufflepuffSlytherinHufflepuffSlytherinGryffindorGryffindorRavenclawRavenclawRavenclawSlytherinHufflepuffGryffindorSlytherinRavenclawSlytherinGryffindorGryffindorHufflepuffSlytherinGryffindorGryffindorGryffindorRavenclawHufflepuffSlytherinGryffindorSlytherinGryffindorHufflepuffRavenclawHufflepuffRavenclawRavenclawGryffindorHufflepuffHufflepuffHufflepuffHufflepuffRavenclawHufflepuffGryffindorHufflepuffSlytherinRavenclawHufflepuffSlytherinHufflepuffGryffindorGryffindorHufflepuffSlytherinHufflepuffRavenclawGryffindorRavenclawHufflepuffRavenclawSlytherinHufflepuffHufflepuffRavenclawRavenclawRavenclawSlytherinSlytherinGryffindorHufflepuffHufflepuffSlytherinHufflepuffGryffindorSlytherinRavenclawRavenclawRavenclawSlytherinHufflepuffSlytherinGryffindorHufflepuffRavenclawGryffindorSlytherinSlytherinSlytherinRavenclawRavenclawGryffindorHufflepuffHufflepuffHufflepuffRavenclawGryffindorHufflepuffSlytherinHufflepuffSlytherinHufflepuffHufflepuffRavenclawRavenclawHufflepuffHufflepuffHufflepuffHufflepuffHufflepuffSlytherinRavenclawRavenclawGryffindorHufflepuffHufflepuffSlytherinSlytherinRavenclawSlytherinSlytherinHufflepuffGryffindorHufflepuffGryffindorGryffindorHufflepuffGryffindorHufflepuffHufflepuffRavenclawHufflepuffHufflepuffSlytherinGryffindorRavenclawHufflepuffRavenclawHufflepuffSlytherinSlytherinRavenclawSlytherinRavenclawRavenclawRavenclawSlytherinGryffindorHufflepuffHufflepuffSlytherinHufflepuffRavenclawRavenclawGryffindorRavenclawHufflepuffHufflepuffHufflepuffHufflepuffHufflepuffSlytherinSlytherinHufflepuffGryffindorGryffindorGryffindorRavenclawRavenclawGryffindorGryffindorGryffindorHufflepuffRavenclawHufflepuffRavenclawRavenclawHufflepuffRavenclawSlytherinRavenclawHufflepuffSlytherinRavenclawSlytherinHufflepuffGryffindorSlytherinSlytherinRavenclawRavenclawHufflepuffRavenclawHufflepuffHufflepuffGryffindorRavenclawHufflepuffSlytherinGryffindorGryffindorRavenclawHufflepuffHufflepuffSlytherinRavenclawHufflepuffGryffindorRavenclawHufflepuffSlytherinHufflepuffGryffindorRavenclawHufflepuffRavenclawRavenclawRavenclawHufflepuffHufflepuffRavenclawRavenclawRavenclawGryffindorRavenclawSlytherinRavenclawHufflepuffGryffindorGryffindorGryffindorSlytherinSlytherinRavenclawGryffindorGryffindorRavenclawHufflepuffGryffindorHufflepuffSlytherinRavenclawHufflepuffSlytherinRavenclawSlytherinHufflepuffRavenclawHufflepuffGryffindorSlytherinHufflepuffRavenclawRavenclawSlytherinRavenclawHufflepuffGryffindorRavenclawSlytherinGryffindorHufflepuffHufflepuffGryffindorSlytherinGryffindorSlytherinGryffindorGryffindorSlytherinGryffindorSlytherinRavenclawGryffindorSlytherinHufflepuffRavenclawHufflepuffHufflepuffGryffindorHufflepuffGryffindorHufflepuffRavenclawHufflepuffHufflepuffRavenclawSlytherinHufflepuffSlytherinHufflepuffGryffindorHufflepuffSlytherinRavenclawRavenclawSlytherinHufflepuffHufflepuffRavenclawHufflepuffHufflepuffSlytherinHufflepuffRavenclawHufflepuffGryffindorHufflepuffRavenclawGryffindorHufflepuffSlytherinHufflepuffRavenclawHufflepuffRavenclawGryffindorHufflepuffRavenclawHufflepuffSlytherinSlytherinHufflepuffHufflepuffRavenclawRavenclawGryffindorRavenclawHufflepuffGryffindorRavenclawRavenclawRavenclawGryffindorHufflepuffHufflepuffHufflepuffGryffindorRavenclawSlytherinRavenclawRavenclawHufflepuffRavenclawSlytherinHufflepuffHufflepuffRavenclawHufflepuffHufflepuffSlytherinGryffindorGryffindorSlytherinRavenclawRavenclawRavenclawRavenclawHufflepuffRavenclawRavenclawRavenclawRavenclawRavenclawHufflepuffRavenclawGryffindorRavenclawRavenclawSlytherinHufflepuffGryffindorRavenclawRavenclawRavenclawSlytherinSlytherinRavenclawSlytherinSlytherinHufflepuffSlytherinHufflepuffHufflepuffRavenclawSlytherinGryffindorRavenclawHufflepuffGryffindorSlytherinGryffindorHufflepuffHufflepuff to numeric"
     ]
    }
   ],
   "source": [
    "def standardize(arr:np.ndarray):\n",
    "    mean = np.mean(arr)\n",
    "    std = np.std(arr)\n",
    "    return (arr - mean) / std\n",
    "\n",
    "df_std_features = df[1:].agg(lambda course:standardize(course))\n",
    "df_std_features.describe()"
   ]
  },
  {
   "cell_type": "code",
   "execution_count": null,
   "metadata": {},
   "outputs": [],
   "source": [
    "sns.boxplot(data=df_std_features)"
   ]
  },
  {
   "cell_type": "markdown",
   "metadata": {},
   "source": [
    "Remove duplicates if any\n",
    "remove full na row if any"
   ]
  },
  {
   "cell_type": "markdown",
   "metadata": {},
   "source": [
    "getting the 4 classes in a list"
   ]
  },
  {
   "cell_type": "code",
   "execution_count": null,
   "metadata": {},
   "outputs": [],
   "source": [
    "df['Hogwarts House'].unique()\n",
    "# houses[0]"
   ]
  },
  {
   "cell_type": "markdown",
   "metadata": {},
   "source": [
    "one-vs-all :\n",
    "actual class y set to 1 or 0\n",
    "1= is in house, 0= is in another house"
   ]
  },
  {
   "cell_type": "code",
   "execution_count": null,
   "metadata": {},
   "outputs": [],
   "source": [
    "houses = df['Hogwarts House'].unique()\n",
    "houses[0]\n",
    "# gives bool : df['Hogwarts House'] == houses[0]\n",
    "y_actual = np.where(df['Hogwarts House'] == houses[0], 1, 0)\n",
    "y_actual"
   ]
  },
  {
   "cell_type": "markdown",
   "metadata": {},
   "source": [
    "dot product :\n",
    "X.weights = output\n",
    "\n",
    "tranpose weights : weights is a vertical array. 1600"
   ]
  },
  {
   "cell_type": "markdown",
   "metadata": {},
   "source": [
    "transposed\n",
    "```weights = np.ones(1 + len(features)).T```"
   ]
  },
  {
   "cell_type": "code",
   "execution_count": null,
   "metadata": {},
   "outputs": [],
   "source": [
    "#x_train = np.array(df_std_features)\n",
    "x_train = np.array(df_std_features.fillna(0))\n",
    "weights = np.ones(len(features)).T\n",
    "z_output = np.dot(x_train, weights)\n",
    "z_output"
   ]
  },
  {
   "cell_type": "markdown",
   "metadata": {},
   "source": [
    "Sigmoid function (or logistic function) to map input values from a wide range into a limited interval. \n",
    "$sigmoid function$\n",
    "$$\n",
    "y = g(z) = \\frac{1}{1 + e^{-z}} = \\frac{e^z}{1 + e^z}\n",
    "$$\n",
    "This formula represents the probability of observing the output y = 1 of a Bernoulli random variable. This variable is either 1 or 0 (y \\in {0,1})."
   ]
  },
  {
   "cell_type": "code",
   "execution_count": null,
   "metadata": {},
   "outputs": [],
   "source": [
    "def sigmoid(arr:np.ndarray):\n",
    "    return 1 / (1 + np.exp(-arr))\n",
    "\n",
    "h_pred = sigmoid(z_output)\n",
    "print(h_pred)"
   ]
  },
  {
   "cell_type": "code",
   "execution_count": null,
   "metadata": {},
   "outputs": [],
   "source": [
    "print(len(z_output), len(h_pred), len(y_actual))"
   ]
  },
  {
   "cell_type": "markdown",
   "metadata": {},
   "source": [
    "Latex examples"
   ]
  },
  {
   "cell_type": "markdown",
   "metadata": {},
   "source": [
    "\\begin{align} \\mathbf{a} \\cdot \\mathbf{b} &= \\sum_{i=1}^n a_i b_i \\\\ &= a_x b_x + a_y b_y + a_z b_z. \\end{align}\n",
    "\n",
    "\\begin{align} \\sigma^2 = \\begin{pmatrix} \\sigma_1^2 & \\sigma_{12}^2 \\\\ \\sigma_{12}^2 & \\sigma_2^2 \\end{pmatrix}. \\end{align}\n",
    "\n",
    "\\begin{align} P(\\sigma) = \\left\\{ \\begin{array}{cl} \\sigma^{-1} & \\sigma > 0 \\\\ 0 & \\sigma \\le 0. \\end{array} \\right. \\end{align}\n",
    "\n",
    " \\begin{pmatrix} \\sigma_1^2 & \\sigma_{12}^2 \\\\ \\sigma_{12}^2 & \\sigma_2^2 \\end{pmatrix}. "
   ]
  },
  {
   "cell_type": "code",
   "execution_count": null,
   "metadata": {},
   "outputs": [],
   "source": [
    "a = np.array([[1,2,0.5 ],[2,0,1],[0,np.nan,0.8,],[2.5,1.2,0.4]]) \n",
    "b = np.array([[2,3,4]]) \n",
    "print(np.dot(a, b.T))"
   ]
  },
  {
   "cell_type": "code",
   "execution_count": null,
   "metadata": {},
   "outputs": [],
   "source": [
    "# mask array to avoi NaN\n",
    "v1_m = np.ma.array(a, mask=np.isnan(a))\n",
    "v2_m = np.ma.array(b, mask=np.isnan(b))\n",
    "print(np.ma.dot(v1_m, v2_m.T))"
   ]
  },
  {
   "cell_type": "code",
   "execution_count": null,
   "metadata": {},
   "outputs": [],
   "source": [
    "def loss(y_actual, h_pred):\n",
    "    \"\"\" y_actual : target class. 1 in class, 0 not in class\n",
    "    h_pred = signoid(x.weights)\n",
    "    loss = (-y * np.log(h) - (1 - y) * np.log(1 - h)).mean()\n",
    "    \"\"\"\n",
    "    m = len(h_pred)\n",
    "    a = -y_actual * np.log(h_pred)\n",
    "    b = (1 - y_actual) * np.log(1 - h_pred)\n",
    "    return (a - b) / m\n",
    "\n",
    "loss(y_actual, h_pred)"
   ]
  },
  {
   "cell_type": "markdown",
   "metadata": {},
   "source": [
    "\n",
    "The weights are updated by substracting the derivative (gradient descent) times the learning rate,\n",
    "loss'(theta) = \n",
    "def gradient_descent(X, h, y):\n",
    "    return np.dot(X.T, (h - y)) / y.shape[0]\n",
    "def update_weight_loss(weight, learning_rate, gradient):\n",
    "    return weight - learning_rate * gradient"
   ]
  },
  {
   "cell_type": "code",
   "execution_count": null,
   "metadata": {},
   "outputs": [],
   "source": [
    "v1_m = np.ma.array(x_train, mask=np.isnan(x_train))\n",
    "res = (h_pred - y_actual)\n",
    "v2_m = np.ma.array(res, mask=np.isnan(res))\n",
    "#dot = np.ma.dot(x_train, v2_m.T)\n",
    "dot = np.ma.dot(v1_m.T, v2_m)\n",
    "gradient1 = dot / y_actual.shape[0]\n",
    "gradient1"
   ]
  },
  {
   "cell_type": "markdown",
   "metadata": {},
   "source": [
    "replace np.nan with zeros\n",
    "```x_train[np.isnan(x_train)] = 0 ```"
   ]
  },
  {
   "cell_type": "code",
   "execution_count": null,
   "metadata": {},
   "outputs": [],
   "source": [
    "dot = np.dot(x_train.T, (h_pred - y_actual))\n",
    "gradient = dot / y_actual.shape[0]\n",
    "gradient"
   ]
  },
  {
   "cell_type": "code",
   "execution_count": null,
   "metadata": {},
   "outputs": [],
   "source": [
    "def gradient_descent(x_train, h_pred, y_actual):\n",
    "    return np.dot(x_train.T, (h_pred - y_actual)) / y_actual.shape[0]\n",
    "\n",
    "def update_weight_loss(weight, learning_rate, gradient):\n",
    "    return weight - learning_rate * gradient\n",
    "\n",
    "gd =gradient_descent(x_train, h_pred, gradient)\n",
    "print(\"gd = \", gd)\n",
    "weights = update_weight_loss(weights, 0.1, gradient_descent(x_train, h_pred, y_actual))\n",
    "print(\" w =\", weights)\n"
   ]
  },
  {
   "cell_type": "markdown",
   "metadata": {},
   "source": [
    "\n",
    "The weights are updated by substracting the derivative (gradient descent) times the learning rate,"
   ]
  },
  {
   "cell_type": "code",
   "execution_count": null,
   "metadata": {},
   "outputs": [],
   "source": []
  }
 ],
 "metadata": {
  "kernelspec": {
   "display_name": "venv",
   "language": "python",
   "name": "python3"
  },
  "language_info": {
   "codemirror_mode": {
    "name": "ipython",
    "version": 3
   },
   "file_extension": ".py",
   "mimetype": "text/x-python",
   "name": "python",
   "nbconvert_exporter": "python",
   "pygments_lexer": "ipython3",
   "version": "3.11.5"
  },
  "orig_nbformat": 4
 },
 "nbformat": 4,
 "nbformat_minor": 2
}
